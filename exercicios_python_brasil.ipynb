{
  "nbformat": 4,
  "nbformat_minor": 0,
  "metadata": {
    "colab": {
      "name": "exercicios_python_brasil.ipynb",
      "provenance": [],
      "collapsed_sections": [
        "GyewdeQyScoJ",
        "5w-j0Uhq5P8q",
        "Z_Aiu3_gXXHk",
        "DCfC1s1TRl_X",
        "DgAhfamKOX0K",
        "GwDCLY4dEa5_"
      ],
      "authorship_tag": "ABX9TyM+5Y7v4+OhF+q77tPp0faL",
      "include_colab_link": true
    },
    "kernelspec": {
      "name": "python3",
      "display_name": "Python 3"
    },
    "language_info": {
      "name": "python"
    }
  },
  "cells": [
    {
      "cell_type": "markdown",
      "metadata": {
        "id": "view-in-github",
        "colab_type": "text"
      },
      "source": [
        "<a href=\"https://colab.research.google.com/github/bruno-ba/python-lab/blob/main/exercicios_python_brasil.ipynb\" target=\"_parent\"><img src=\"https://colab.research.google.com/assets/colab-badge.svg\" alt=\"Open In Colab\"/></a>"
      ]
    },
    {
      "cell_type": "markdown",
      "metadata": {
        "id": "vK2XtvguRjXG"
      },
      "source": [
        "# Desafio Devpro"
      ]
    },
    {
      "cell_type": "markdown",
      "metadata": {
        "id": "c2W2JH0JSHB6"
      },
      "source": [
        "Nesse notebook vamos resolver vários exercícios da [lista da Python Brasil](https://wiki.python.org.br/ListaDeExercicios)"
      ]
    },
    {
      "cell_type": "markdown",
      "metadata": {
        "id": "GyewdeQyScoJ"
      },
      "source": [
        "# [Estrutura Sequencial](https://wiki.python.org.br/EstruturaSequencial)"
      ]
    },
    {
      "cell_type": "code",
      "metadata": {
        "id": "c8oQ5Ek9b3pi"
      },
      "source": [
        "import math"
      ],
      "execution_count": null,
      "outputs": []
    },
    {
      "cell_type": "markdown",
      "metadata": {
        "id": "W70mKpTcSnDk"
      },
      "source": [
        "Exercício 1"
      ]
    },
    {
      "cell_type": "code",
      "metadata": {
        "colab": {
          "base_uri": "https://localhost:8080/"
        },
        "id": "Ype8BoCTUM1l",
        "outputId": "eca6190a-d919-4318-a82d-769faba16f4f"
      },
      "source": [
        "print('Olá, Mundo')"
      ],
      "execution_count": null,
      "outputs": [
        {
          "output_type": "stream",
          "name": "stdout",
          "text": [
            "Olá, Mundo\n"
          ]
        }
      ]
    },
    {
      "cell_type": "code",
      "metadata": {
        "colab": {
          "base_uri": "https://localhost:8080/"
        },
        "id": "4QgdaHkeUje7",
        "outputId": "7228f8be-2854-46af-a877-6a451115fd8d"
      },
      "source": [
        "type('Olá, Mundo')"
      ],
      "execution_count": null,
      "outputs": [
        {
          "output_type": "execute_result",
          "data": {
            "text/plain": [
              "str"
            ]
          },
          "metadata": {},
          "execution_count": 5
        }
      ]
    },
    {
      "cell_type": "markdown",
      "metadata": {
        "id": "zD6_kQsEUs0F"
      },
      "source": [
        "Exercício 2"
      ]
    },
    {
      "cell_type": "code",
      "metadata": {
        "colab": {
          "base_uri": "https://localhost:8080/"
        },
        "id": "JHCBzrVxUvhp",
        "outputId": "1743cccf-b8c7-4f65-b78f-be45d33ed31d"
      },
      "source": [
        "num  = input('Digite um número: ')\n",
        "print( f'O número informado foi {num}')"
      ],
      "execution_count": null,
      "outputs": [
        {
          "output_type": "stream",
          "name": "stdout",
          "text": [
            "Digite um número: 852\n",
            "O número informado foi 852\n"
          ]
        }
      ]
    },
    {
      "cell_type": "markdown",
      "metadata": {
        "id": "MgzIxqigVsh0"
      },
      "source": [
        "Exercício 3"
      ]
    },
    {
      "cell_type": "code",
      "metadata": {
        "colab": {
          "base_uri": "https://localhost:8080/"
        },
        "id": "0Z6FqFq5VDsD",
        "outputId": "7d4d21fe-7f33-4cf1-e65a-6dbfcb218570"
      },
      "source": [
        "num_1  = int(input('Digite um número: '))\n",
        "num_2  = int(input('Digite outro número: '))\n",
        "soma = num_1+num_2\n",
        "print(f'A soma dos dois números é {soma}')"
      ],
      "execution_count": null,
      "outputs": [
        {
          "output_type": "stream",
          "name": "stdout",
          "text": [
            "Digite um número: 12\n",
            "Digite outro número: 5\n",
            "A soma dos dois números é 17\n"
          ]
        }
      ]
    },
    {
      "cell_type": "markdown",
      "metadata": {
        "id": "SlzFXzHEYUKm"
      },
      "source": [
        "Exercício 4\n",
        "\n",
        "Faça um Programa que peça as 4 notas bimestrais e mostre a média. "
      ]
    },
    {
      "cell_type": "code",
      "metadata": {
        "colab": {
          "base_uri": "https://localhost:8080/"
        },
        "id": "Si2iy9dUYYAF",
        "outputId": "765c557d-c96f-41e5-e279-0a2636de0d69"
      },
      "source": [
        "num_1 = float(input('Digite a primeira nota: '))\n",
        "num_2 = float(input('Digite a segunda nota: '))\n",
        "num_3 = float(input('Digite a terceira nota: '))\n",
        "num_4 = float(input('Digite a quarta nota: '))\n",
        "\n",
        "media = (num_1 + num_2 + num_3 + num_4) / 4\n",
        "\n",
        "print(f'A média das 4 notas bimestrais é: {media}')"
      ],
      "execution_count": null,
      "outputs": [
        {
          "output_type": "stream",
          "name": "stdout",
          "text": [
            "Digite a primeira nota: 8.64\n",
            "Digite a segunda nota: 9.59\n",
            "Digite a terceira nota: 6.98\n",
            "Digite a quarta nota: 5.89\n",
            "A média das 4 notas bimestrais é: 7.775\n"
          ]
        }
      ]
    },
    {
      "cell_type": "markdown",
      "metadata": {
        "id": "UEi1Vcd8ZpPq"
      },
      "source": [
        "Exercício 5\n",
        "\n",
        "Faça um Programa que converta metros para centímetros. "
      ]
    },
    {
      "cell_type": "code",
      "metadata": {
        "colab": {
          "base_uri": "https://localhost:8080/"
        },
        "id": "Zt5cgrBwZ-xi",
        "outputId": "075f93d9-04bc-40ab-a1e2-cfe956693c96"
      },
      "source": [
        "num_1 = float(input('Digite o valor em metros: '))\n",
        "num_2 = num_1 * 100\n",
        "print(f'O valor em metros: {num_1}m, valor em centímetros: {num_2}cm')"
      ],
      "execution_count": null,
      "outputs": [
        {
          "output_type": "stream",
          "name": "stdout",
          "text": [
            "Digite o valor em metros: 5\n",
            "O valor em metros: 5.0m, valor em centímetros: 500.0cm\n"
          ]
        }
      ]
    },
    {
      "cell_type": "markdown",
      "metadata": {
        "id": "x3zP5t6lbbci"
      },
      "source": [
        "Exercício 6\n",
        "\n",
        "Faça um Programa que peça o raio de um círculo, calcule e mostre sua área. "
      ]
    },
    {
      "cell_type": "code",
      "metadata": {
        "colab": {
          "base_uri": "https://localhost:8080/"
        },
        "id": "vD_VPkJhbeRk",
        "outputId": "01ee83f7-61fb-4f47-f634-784a5123d276"
      },
      "source": [
        "num_1 = float(input('Informe o raio do círculo: '))\n",
        "area =  math.pi * num_1 ** 2\n",
        "print(f'A área do círculo π * ({num_1})² = {area}')\n"
      ],
      "execution_count": null,
      "outputs": [
        {
          "output_type": "stream",
          "name": "stdout",
          "text": [
            "Informe o raio do círculo: 18\n",
            "A área do círculo π * (18.0)² = 1017.8760197630929\n"
          ]
        }
      ]
    },
    {
      "cell_type": "markdown",
      "metadata": {
        "id": "IAhck1dhegX3"
      },
      "source": [
        "### Exercício 7\n",
        "\n",
        "Faça um Programa que calcule a área de um quadrado, em seguida mostre o dobro desta área para o usuário. \n"
      ]
    },
    {
      "cell_type": "code",
      "metadata": {
        "colab": {
          "base_uri": "https://localhost:8080/"
        },
        "id": "jv_cGrxpez0Z",
        "outputId": "94d0b782-9202-4b9e-ed40-578d1b62968d"
      },
      "source": [
        "num_1 = float(input('Digite o lado do quadrado: '))\n",
        "num_2 = num_1 ** 2 * 2\n",
        "print(f'O dobro da área do quadrado ({num_1})² x 2 = {num_2}')"
      ],
      "execution_count": null,
      "outputs": [
        {
          "output_type": "stream",
          "name": "stdout",
          "text": [
            "Digite o lado do quadrado: 10\n",
            "O dobro da área do quadrado (10.0)² x 2 = 200.0\n"
          ]
        }
      ]
    },
    {
      "cell_type": "markdown",
      "metadata": {
        "id": "5zpjVZArgdoX"
      },
      "source": [
        "Exercício 8\n",
        "\n",
        "Faça um Programa que pergunte quanto você ganha por hora e o número de horas trabalhadas no mês. Calcule e mostre o total do seu salário no referido mês. "
      ]
    },
    {
      "cell_type": "code",
      "metadata": {
        "colab": {
          "base_uri": "https://localhost:8080/"
        },
        "id": "vwYhKw0GgjIe",
        "outputId": "09c477a9-6a01-4e87-ebd8-f08bb175fdb4"
      },
      "source": [
        "num_1 = float(input('Quanto você ganha por hora? '))\n",
        "num_2 = float(input('Qual o número de horas trabalhadas no mês? '))\n",
        "num_3 = num_1 * num_2\n",
        "print(f'O seu salário será de R$ {num_3}')"
      ],
      "execution_count": null,
      "outputs": [
        {
          "output_type": "stream",
          "name": "stdout",
          "text": [
            "Quanto você ganha por hora? 20\n",
            "Qual o número de horas trabalhadas no mês? 34.6\n",
            "O seu salário será de R$ 692.0\n"
          ]
        }
      ]
    },
    {
      "cell_type": "markdown",
      "metadata": {
        "id": "kIQb5fbkGQSF"
      },
      "source": [
        "Exercício 9\n",
        "\n",
        "Faça um Programa que peça a temperatura em graus Fahrenheit, transforme e mostre a temperatura em graus Celsius.\n",
        "\n",
        "    C = 5 * ((F-32) / 9). "
      ]
    },
    {
      "cell_type": "code",
      "metadata": {
        "colab": {
          "base_uri": "https://localhost:8080/"
        },
        "id": "0LlW3UgrGTwL",
        "outputId": "64e50e47-8c2e-4321-e47d-69d4482e2927"
      },
      "source": [
        "num_1 = float(input('Digite a temperatura em graus Fahrenheit: '))\n",
        "num_2 = 5 * ((num_1 - 32) / 9)\n",
        "print(f'Graus Celsius 5 x (({num_1} - 32) ÷ 9) = {num_2:.2f} °C')"
      ],
      "execution_count": null,
      "outputs": [
        {
          "output_type": "stream",
          "name": "stdout",
          "text": [
            "Digite a temperatura em graus Fahrenheit: 9\n",
            "Graus Celsius 5 x ((9.0 - 32) ÷ 9) = -12.78 °C\n"
          ]
        }
      ]
    },
    {
      "cell_type": "markdown",
      "metadata": {
        "id": "bfQgPj0Ge2kd"
      },
      "source": [
        "Exercício 10\n",
        "\n",
        "Faça um Programa que peça a temperatura em graus Celsius, transforme e mostre em graus Fahrenheit.\n",
        "(x °C × 9/5) + 32 = 32 °F\n"
      ]
    },
    {
      "cell_type": "code",
      "metadata": {
        "colab": {
          "base_uri": "https://localhost:8080/"
        },
        "id": "4zPHMHqLe_Z4",
        "outputId": "612e05d4-4d9e-4ba0-8bd2-32114fe06581"
      },
      "source": [
        "num_1 = float(input('Digite a temperatura em graus Celsius: '))\n",
        "r_1 = num_1 * 9 / 5 + 32\n",
        "print(f'({num_1}°C × 9 ÷ 5) + 32 = {r_1} °F')"
      ],
      "execution_count": null,
      "outputs": [
        {
          "output_type": "stream",
          "name": "stdout",
          "text": [
            "Digite a temperatura em graus Celsius: 56.3\n",
            "(56.3°C × 9 ÷ 5) + 32 = 133.34 °F\n"
          ]
        }
      ]
    },
    {
      "cell_type": "markdown",
      "metadata": {
        "id": "bpytcyJqTgKI"
      },
      "source": [
        "Exercício 11\n",
        "\n",
        "Faça um Programa que peça 2 números inteiros e um número real. Calcule e mostre:\n",
        "\n",
        "    o produto do dobro do primeiro com metade do segundo .\n",
        "    a soma do triplo do primeiro com o terceiro.\n",
        "    o terceiro elevado ao cubo. "
      ]
    },
    {
      "cell_type": "code",
      "metadata": {
        "colab": {
          "base_uri": "https://localhost:8080/"
        },
        "id": "kZGjH8FvUWAz",
        "outputId": "826800b5-b99b-4ccd-e08a-c6d5c4fa02c4"
      },
      "source": [
        "num_1 = int(input('Digite o primeiro número inteiro: '))\n",
        "num_2 = int(input('Digite o segundo número inteiro: '))\n",
        "num_3 = float(input('Digite um número '))\n",
        "\n",
        "r_1 = (2 * num_1) * (num_2 / 2)\n",
        "r_2 = (3 * num_1) + num_3\n",
        "r_3 = num_3 ** 3\n",
        "\n",
        "print(f'{r_1, r_2, r_3}')"
      ],
      "execution_count": null,
      "outputs": [
        {
          "output_type": "stream",
          "name": "stdout",
          "text": [
            "Digite o primeiro número inteiro: 3\n",
            "Digite o segundo número inteiro: 9\n",
            "Digite um número 5.6\n",
            "(27.0, 14.6, 175.61599999999996)\n"
          ]
        }
      ]
    },
    {
      "cell_type": "markdown",
      "metadata": {
        "id": "V1qxMiPtepT_"
      },
      "source": [
        "Exercício 12\n",
        "\n",
        "Tendo como dados de entrada a altura de uma pessoa, construa um algoritmo que calcule seu peso ideal, usando a seguinte fórmula: (72.7*altura) - 58 "
      ]
    },
    {
      "cell_type": "code",
      "metadata": {
        "colab": {
          "base_uri": "https://localhost:8080/"
        },
        "id": "4Ap6OIInr69w",
        "outputId": "92a9930b-b7a1-4a6b-9b2e-3a2a99c57f31"
      },
      "source": [
        "num_1 = float(input('Digite a sua altura: '))\n",
        "r_1 = 72.7 * num_1 - 58\n",
        "print(f'Peso ideal 72,7 x {num_1} - 58 = {r_1:.2f}')"
      ],
      "execution_count": null,
      "outputs": [
        {
          "output_type": "stream",
          "name": "stdout",
          "text": [
            "Digite a sua altura: 1.82\n",
            "Peso ideal 72,7 x 1.82 - 58 = 74.31\n"
          ]
        }
      ]
    },
    {
      "cell_type": "markdown",
      "metadata": {
        "id": "QaNI9dU-t9V2"
      },
      "source": [
        "Exercício 13\n",
        "\n",
        "Tendo como dado de entrada a altura (h) de uma pessoa, construa um algoritmo que calcule seu peso ideal, utilizando as seguintes fórmulas:\n",
        "\n",
        "    Para homens: (72.7*h) - 58\n",
        "    Para mulheres: (62.1*h) - 44.7 \n",
        "    "
      ]
    },
    {
      "cell_type": "code",
      "metadata": {
        "colab": {
          "base_uri": "https://localhost:8080/"
        },
        "id": "3wallB31z_4M",
        "outputId": "58edea2b-7eb4-42bf-9224-131097f90aa4"
      },
      "source": [
        "num_1 = float(input('Digite a altura: '))\n",
        "r_1 = 72.7 * num_1 - 58\n",
        "r_2 = 62.1 * num_1 - 44.7\n",
        "print(f'''PESO IDEAL\n",
        "Para homens: (72.7 x {num_1}) - 58 = {r_1:.2f}\n",
        "Para mulheres: (62.1 x {num_1}) - 44.7 = {r_2:.2f}\n",
        "''')"
      ],
      "execution_count": null,
      "outputs": [
        {
          "output_type": "stream",
          "name": "stdout",
          "text": [
            "Digite a altura: 1.8\n",
            "PESO IDEAL\n",
            "Para homens: (72.7 x 1.8) - 58 = 72.86\n",
            "Para mulheres: (62.1 x 1.8) - 44.7 = 67.08\n",
            "\n"
          ]
        }
      ]
    },
    {
      "cell_type": "markdown",
      "metadata": {
        "id": "fU78tyXw3r8C"
      },
      "source": [
        "Exercício 14\n",
        "\n",
        "João Papo-de-Pescador, homem de bem, comprou um microcomputador para controlar o rendimento diário de seu trabalho. Toda vez que ele traz um peso de peixes maior que o estabelecido pelo regulamento de pesca do estado de São Paulo (50 quilos) deve pagar uma multa de R$ 4,00 por quilo excedente. João precisa que você faça um programa que leia a variável peso (peso de peixes) e calcule o excesso. Gravar na variável excesso a quantidade de quilos além do limite e na variável multa o valor da multa que João deverá pagar. Imprima os dados do programa com as mensagens adequadas. "
      ]
    },
    {
      "cell_type": "code",
      "metadata": {
        "colab": {
          "base_uri": "https://localhost:8080/"
        },
        "id": "_bP1Hmbx0EwV",
        "outputId": "81dd87d9-d877-4cad-eab3-4739b9ecf721"
      },
      "source": [
        "peso_regulamento_sp = 50.00\n",
        "multa_quilo_excedente = 4.00\n",
        "peso_de_peixes = float(input('Digite o peso dos peixes: '))\n",
        "excesso_calc = peso_de_peixes - peso_regulamento_sp\n",
        "if excesso_calc <= 0:\n",
        "  excesso_calc = 0\n",
        "multa_calc = multa_quilo_excedente * excesso_calc\n",
        "print(f'''\"Cáculo de multa(R$) sobre excesso de peso(Kg) de peixes.\"\n",
        "peso regulamentado: 50kg\n",
        "multa sobre peso excedente: R$4.00\n",
        "\n",
        "peso: {peso_de_peixes:.2f}Kg\n",
        "peso em excesso: {excesso_calc:.2f}Kg\n",
        "multa sobre excesso: R${multa_calc:.2f}\n",
        "\n",
        "''')"
      ],
      "execution_count": null,
      "outputs": [
        {
          "output_type": "stream",
          "name": "stdout",
          "text": [
            "Digite o peso dos peixes: 69.56\n",
            "\"Cáculo de multa(R$) sobre excesso de peso(Kg) de peixes.\"\n",
            "peso regulamentado: 50kg\n",
            "multa sobre peso excedente: R$4.00\n",
            "\n",
            "peso: 69.56Kg\n",
            "peso em excesso: 19.56Kg\n",
            "multa sobre excesso: R$78.24\n",
            "\n",
            "\n"
          ]
        }
      ]
    },
    {
      "cell_type": "markdown",
      "metadata": {
        "id": "V9EWEPvc-EgY"
      },
      "source": [
        "Exercício 15\n",
        "\n",
        "Faça um Programa que pergunte quanto você ganha por hora e o número de horas trabalhadas no mês. Calcule e mostre o total do seu salário no referido mês, sabendo-se que são descontados 11% para o Imposto de Renda, 8% para o INSS e 5% para o sindicato, faça um programa que nos dê:\n",
        "\n",
        "    salário bruto.\n",
        "    quanto pagou ao INSS.\n",
        "    quanto pagou ao sindicato.\n",
        "    o salário líquido.\n",
        "    calcule os descontos e o salário líquido, conforme a tabela abaixo:\n",
        "\n",
        "    + Salário Bruto : R$\n",
        "    - IR (11%) : R$\n",
        "    - INSS (8%) : R$\n",
        "    - Sindicato ( 5%) : R$\n",
        "    = Salário Liquido : R$\n",
        "\n",
        "    Obs.: Salário Bruto - Descontos = Salário Líquido. \n",
        "    "
      ]
    },
    {
      "cell_type": "code",
      "metadata": {
        "colab": {
          "base_uri": "https://localhost:8080/"
        },
        "id": "yWnXUf9t-Nlv",
        "outputId": "a80e4b98-e606-457c-c8b0-420158af407d"
      },
      "source": [
        "val_sal_hr = float(input('Digite quanto você ganha por hora R$ '))\n",
        "val_hr_trab_mes =  float(input('Digite o número de horas trabalhadas no mês. '))\n",
        "calc_sal_bruto = val_sal_hr * val_hr_trab_mes\n",
        "calc_inss = 0.08 * calc_sal_bruto\n",
        "calc_ir = 0.11 * calc_sal_bruto\n",
        "calc_sindicato = 0.05 * calc_sal_bruto\n",
        "calc_descontos = calc_inss + calc_ir + calc_sindicato\n",
        "calc_sal_liquido = calc_sal_bruto - calc_descontos\n",
        "\n",
        "print(f'''\n",
        "CÁCULO SALÁRIO\n",
        "+ Salário Bruto: R${calc_sal_bruto:.2f}\n",
        "- IR (11%): R${calc_ir:.2f}\n",
        "- INSS (8%): R${calc_inss:.2f}\n",
        "- Sindicato (5%): R${calc_sindicato:.2f}\n",
        "= Salário Líquido: R${calc_sal_liquido:.2f}\n",
        "''')\n"
      ],
      "execution_count": null,
      "outputs": [
        {
          "output_type": "stream",
          "name": "stdout",
          "text": [
            "Digite quanto você ganha por hora R$ 38.65\n",
            "Digite o número de horas trabalhadas no mês. 44.20\n",
            "\n",
            "CÁCULO SALÁRIO\n",
            "+ Salário Bruto: R$1708.33\n",
            "- IR (11%): R$187.92\n",
            "- INSS (8%): R$136.67\n",
            "- Sindicato (5%): R$85.42\n",
            "= Salário Líquido: R$1298.33\n",
            "\n"
          ]
        }
      ]
    },
    {
      "cell_type": "markdown",
      "metadata": {
        "id": "rnMn5J5TRJDK"
      },
      "source": [
        "Exercício 16\n",
        "\n",
        "Faça um programa para uma loja de tintas. O programa deverá pedir o tamanho em metros quadrados da área a ser pintada. Considere que a cobertura da tinta é de 1 litro para cada 3 metros quadrados e que a tinta é vendida em latas de 18 litros, que custam R$ 80,00. Informe ao usuário a quantidades de latas de tinta a serem compradas e o preço total. "
      ]
    },
    {
      "cell_type": "code",
      "metadata": {
        "colab": {
          "base_uri": "https://localhost:8080/"
        },
        "id": "ARsPI7V1PhHK",
        "outputId": "de42fb0c-8597-4bcf-9c94-fb0131883be2"
      },
      "source": [
        "VOLUME_LATA = 18.00\n",
        "PRECO_LATA = 80.00\n",
        "RENDIMENTO_TINTA = 3\n",
        "\n",
        "area_pintura = float(input('Digite o tamanho da área a ser pintada(m²) '))\n",
        "litros_tinta_necessario = area_pintura / RENDIMENTO_TINTA\n",
        "latas_tinta_necessarias = litros_tinta_necessario / VOLUME_LATA \n",
        "\n",
        "if latas_tinta_necessarias % 1 != 0:\n",
        "  latas_tinta_necessarias = latas_tinta_necessarias // 1 + 1\n",
        "\n",
        "preco_latas_tinta_necessarias = latas_tinta_necessarias * PRECO_LATA\n",
        "\n",
        "print(f'''\n",
        "\"Cáculo latas de tintas\"\n",
        "área a ser pintada = {area_pintura:.2f} m²\n",
        "cobertura de tinta = {litros_tinta_necessario:.2f} L \n",
        "total de latas = {latas_tinta_necessarias} und\n",
        "preço total = R${preco_latas_tinta_necessarias:.2f}\n",
        "''')"
      ],
      "execution_count": null,
      "outputs": [
        {
          "output_type": "stream",
          "name": "stdout",
          "text": [
            "Digite o tamanho da área a ser pintada(m²) 120\n",
            "\n",
            "\"Cáculo latas de tintas\"\n",
            "área a ser pintada = 120.00 m²\n",
            "cobertura de tinta = 40.00 L \n",
            "total de latas = 3.0 und\n",
            "preço total = R$240.00\n",
            "\n"
          ]
        }
      ]
    },
    {
      "cell_type": "markdown",
      "metadata": {
        "id": "Q-RQ8yQicq3x"
      },
      "source": [
        "Faça um Programa para uma loja de tintas. O programa deverá pedir o tamanho em metros quadrados da área a ser pintada. Considere que a cobertura da tinta é de 1 litro para cada 6 metros quadrados e que a tinta é vendida em latas de 18 litros, que custam  R\\$80,00 ou em galões de 3,6 litros, que custam  R\\$25,00.\n",
        "\n",
        "Informe ao usuário as quantidades de tinta a serem compradas e os respectivos preços em 3 situações:\n",
        "\n",
        "    comprar apenas latas de 18 litros;\n",
        "    comprar apenas galões de 3,6 litros;\n",
        "    misturar latas e galões, de forma que o desperdício de tinta seja menor. Acrescente 10% de folga e sempre arredonde os valores para cima, isto é, considere latas cheias. "
      ]
    },
    {
      "cell_type": "code",
      "metadata": {
        "colab": {
          "base_uri": "https://localhost:8080/"
        },
        "id": "4k8QY66wYa3S",
        "outputId": "ccbaf663-f272-4b4f-f102-3d8926256a6c"
      },
      "source": [
        "VOLUME_LATA = 18.00\n",
        "PRECO_LATA = 80.00\n",
        "VOLUME_GALAO = 3.6\n",
        "PRECO_GALAO = 25.00\n",
        "RENDIMENTO_TINTA = 6\n",
        "RAZAO_LATA_GALAO = VOLUME_LATA / VOLUME_GALAO\n",
        "\n",
        "area_pintura = float(input('Digite o tamanho da área a ser pintada(m²) '))\n",
        "area_com_folga = area_pintura * 1.1\n",
        "litros_tinta_necessario = area_com_folga / RENDIMENTO_TINTA\n",
        "\n",
        "\n",
        "apenas_latas_qtd = litros_tinta_necessario / VOLUME_LATA\n",
        "apenas_galoes_qtd = litros_tinta_necessario / VOLUME_GALAO\n",
        "\n",
        "apenas_latas_fracao =  apenas_latas_qtd % 1\n",
        "apenas_galao_fracao = apenas_galoes_qtd % 1\n",
        "\n",
        "if apenas_latas_fracao != 0:\n",
        "  apenas_latas_qtd = apenas_latas_qtd // 1 + 1\n",
        "\n",
        "if apenas_galao_fracao != 0:\n",
        "  apenas_galoes_qtd = apenas_galoes_qtd // 1 + 1\n",
        "\n",
        "apenas_latas_preco = apenas_latas_qtd * PRECO_LATA\n",
        "apenas_galao_preco = apenas_galoes_qtd * PRECO_GALAO\n",
        "\n",
        "lg_latas_qtd = litros_tinta_necessario / VOLUME_LATA\n",
        "lg_latas_fracao = lg_latas_qtd % 1\n",
        "\n",
        "if lg_latas_fracao == 0:\n",
        "  lg_galoes_qtd =0\n",
        "\n",
        "else:\n",
        "  lg_latas_qtd = lg_latas_qtd // 1\n",
        "  lg_galoes_qtd = lg_latas_fracao * RAZAO_LATA_GALAO\n",
        "  lg_galoes_fracao =  lg_galoes_qtd % 1\n",
        "  if lg_galoes_fracao != 0:\n",
        "    lg_galoes_qtd = lg_galoes_qtd // 1 + 1\n",
        "\n",
        "lg_latas_preco = lg_latas_qtd * PRECO_LATA\n",
        "lg_galoes_preco = lg_galoes_qtd * PRECO_GALAO\n",
        "lg_preco_total = lg_latas_preco + lg_galoes_preco\n",
        "\n",
        "print(f'''\n",
        "área a ser pintada = {area_pintura:.2f} m²\n",
        "área com folga (10%) = {area_com_folga:.2f}m²\n",
        "litros de tinta necessários = {litros_tinta_necessario:.2f} L\n",
        "\n",
        "APENAS LATAS\n",
        "quantidade de latas = {apenas_latas_qtd} und\n",
        "preço = R${apenas_latas_preco:.2f}\n",
        "\n",
        "APENAS GALÕES\n",
        "quantidade de galões = {apenas_galoes_qtd} und\n",
        "preço = R${apenas_galao_preco:.2f}\n",
        "\n",
        "LATAS E GALÕES COM ECONOMIA DE TINTA\n",
        "quantidade de latas = {lg_latas_qtd} und\n",
        "quantidade de galões = {lg_galoes_qtd} und\n",
        "\n",
        "preço latas = R${lg_latas_preco:.2f}\n",
        "+\n",
        "preço galões = R${lg_galoes_preco:.2f}\n",
        "=\n",
        "preço total = R${lg_preco_total}\n",
        "''')\n",
        "\n"
      ],
      "execution_count": null,
      "outputs": [
        {
          "output_type": "stream",
          "name": "stdout",
          "text": [
            "Digite o tamanho da área a ser pintada(m²) 200\n",
            "\n",
            "área a ser pintada = 200.00 m²\n",
            "área com folga (10%) = 220.00m²\n",
            "litros de tinta necessários = 36.67 L\n",
            "\n",
            "APENAS LATAS\n",
            "quantidade de latas = 3.0 und\n",
            "preço = R$240.00\n",
            "\n",
            "APENAS GALÕES\n",
            "quantidade de galões = 11.0 und\n",
            "preço = R$275.00\n",
            "\n",
            "LATAS E GALÕES COM ECONOMIA DE TINTA\n",
            "quantidade de latas = 2.0 und\n",
            "quantidade de galões = 1.0 und\n",
            "\n",
            "preço latas = R$160.00\n",
            "+\n",
            "preço galões = R$25.00\n",
            "=\n",
            "preço total = R$185.0\n",
            "\n"
          ]
        }
      ]
    },
    {
      "cell_type": "code",
      "metadata": {
        "colab": {
          "base_uri": "https://localhost:8080/"
        },
        "id": "Ixa01MlFic9N",
        "outputId": "ad8350f6-5a62-4227-bf7d-2cd094ddd33f"
      },
      "source": [
        "print(lg_latas_fracao)"
      ],
      "execution_count": null,
      "outputs": [
        {
          "output_type": "stream",
          "name": "stdout",
          "text": [
            "0.55\n"
          ]
        }
      ]
    },
    {
      "cell_type": "markdown",
      "metadata": {
        "id": "5w-j0Uhq5P8q"
      },
      "source": [
        "# [Estrutura de Decisão](https://wiki.python.org.br/EstruturaDeDecisao)"
      ]
    },
    {
      "cell_type": "markdown",
      "metadata": {
        "id": "kqW0nf6G7re6"
      },
      "source": [
        "Exercício 1\n",
        "\n",
        "Faça um Programa que peça dois números e imprima o maior deles. "
      ]
    },
    {
      "cell_type": "code",
      "metadata": {
        "id": "797DsEWz8Fp-"
      },
      "source": [
        "num_1 = float(input('Digite o primeiro número '))\n",
        "num_2 = float(input('Digite o segundo número '))\n",
        "\n",
        "maior_num = max(num_1, num_2)\n",
        "\n",
        "print(f'O maior número é {maior_num}')"
      ],
      "execution_count": null,
      "outputs": []
    },
    {
      "cell_type": "markdown",
      "metadata": {
        "id": "2EUUfIzk9TCp"
      },
      "source": [
        "Exercício 2\n",
        "\n",
        "Faça um Programa que peça um valor e mostre na tela se o valor é positivo ou negativo. "
      ]
    },
    {
      "cell_type": "code",
      "metadata": {
        "id": "-_sMwbea9YBq"
      },
      "source": [
        "num_1 = float(input('Digite um número '))\n",
        "if num_1 < 0:\n",
        "  print(f'{num_1} é um número negativo')\n",
        "else:\n",
        "  print(f'{num_1} é um número positivo')"
      ],
      "execution_count": null,
      "outputs": []
    },
    {
      "cell_type": "markdown",
      "metadata": {
        "id": "Fja2f638-Vqh"
      },
      "source": [
        "Exercício 3\n",
        "\n",
        "Faça um Programa que verifique se uma letra digitada é \"F\" ou \"M\". Conforme a letra escrever: F - Feminino, M - Masculino, Sexo Inválido. "
      ]
    },
    {
      "cell_type": "code",
      "metadata": {
        "id": "SPi2Whno-agX"
      },
      "source": [
        "sexo = input('Digite uma letra: ')\n",
        "if sexo in ['F', 'f']:\n",
        "  print(f'{sexo} - Feminino')\n",
        "elif sexo in ['M', 'm']:\n",
        "  print(f'{sexo} - Masculino')\n",
        "else:\n",
        "  print(f'Sexo Inválido')\n"
      ],
      "execution_count": null,
      "outputs": []
    },
    {
      "cell_type": "markdown",
      "metadata": {
        "id": "fiovnBQu_bss"
      },
      "source": [
        "Exercício 4\n",
        "\n",
        "Faça um Programa que verifique se uma letra digitada é vogal ou consoante."
      ]
    },
    {
      "cell_type": "code",
      "metadata": {
        "id": "LdKhazXK_ePk"
      },
      "source": [
        "vogais = ['a','e','i','o','u']\n",
        "letra_digitada = (input('Digite uma letra: ')).lower()\n",
        "if letra_digitada in vogais:\n",
        "  print(f'A letra digitada é uma vogal')\n",
        "else:\n",
        "  print(f'A letra digitada é uma consoante')\n"
      ],
      "execution_count": null,
      "outputs": []
    },
    {
      "cell_type": "markdown",
      "metadata": {
        "id": "PyM2M1EdC7v4"
      },
      "source": [
        "Exercício 5\n",
        "\n",
        "Faça um programa para a leitura de duas notas parciais de um aluno. O programa deve calcular a média alcançada por aluno e apresentar:\n",
        "\n",
        "    A mensagem \"Aprovado\", se a média alcançada for maior ou igual a sete;\n",
        "    A mensagem \"Reprovado\", se a média for menor do que sete;\n",
        "    A mensagem \"Aprovado com Distinção\", se a média for igual a dez. "
      ]
    },
    {
      "cell_type": "code",
      "metadata": {
        "id": "X7FMTJHJDC9L"
      },
      "source": [
        "nota_1 = float(input('Digite a primeira nota: '))\n",
        "nota_2 = float(input('Digite a segunda nota: '))\n",
        "media = (nota_1 + nota_2) / 2\n",
        "if media == 10:\n",
        "  print(f'\"Aprovado com Distinção\"')\n",
        "elif media >= 7:\n",
        "  print(f'\"Aprovado\"')\n",
        "else:\n",
        "  print(f'\"Reprovado1\"')"
      ],
      "execution_count": null,
      "outputs": []
    },
    {
      "cell_type": "markdown",
      "metadata": {
        "id": "WJmBpSsWF2xh"
      },
      "source": [
        "Exercício 6\n",
        "\n",
        "Faça um Programa que leia três números e mostre o maior deles. "
      ]
    },
    {
      "cell_type": "code",
      "metadata": {
        "id": "4YKhw2yDF_h7"
      },
      "source": [
        "num_1 = float(input('Digite o primeiro número: '))\n",
        "num_2 = float(input('Digite o segundo número: '))\n",
        "num_3 = float(input('Digite o terceiro número: '))\n",
        "\n",
        "maior = num_1\n",
        "if num_2 > maior :\n",
        "  maior = num_2\n",
        "\n",
        "if num_3 > maior:\n",
        "  maior = num_3\n",
        "\n",
        "print(f'O maior número digitado foi {maior}')"
      ],
      "execution_count": null,
      "outputs": []
    },
    {
      "cell_type": "markdown",
      "metadata": {
        "id": "dPbB8QBJJzRA"
      },
      "source": [
        "Exercício 7\n",
        "\n",
        "Faça um Programa que leia três números e mostre o maior e o menor deles. "
      ]
    },
    {
      "cell_type": "code",
      "metadata": {
        "id": "Wa1tMw4dJ6ii"
      },
      "source": [
        "num_1 = float(input('Digite o primeiro número: '))\n",
        "num_2 = float(input('Digite o segundo número: '))\n",
        "num_3 = float(input('Digite o terceiro número: '))\n",
        "\n",
        "maior = num_1\n",
        "menor = num_1\n",
        "\n",
        "if num_2 > maior :\n",
        "  maior = num_2\n",
        "\n",
        "if num_3 > maior:\n",
        "  maior = num_3\n",
        "\n",
        "if num_2 < menor :\n",
        "  menor = num_2\n",
        "\n",
        "if num_3 < menor:\n",
        "  menor = num_3\n",
        "\n",
        "print(f'O maior número digitado foi {maior}')\n",
        "print(f'O maior número digitado foi {menor}')"
      ],
      "execution_count": null,
      "outputs": []
    },
    {
      "cell_type": "markdown",
      "metadata": {
        "id": "xzEZnXN5Ko1u"
      },
      "source": [
        "Exercício 8\n",
        "\n",
        "Faça um programa que pergunte o preço de três produtos e informe qual produto você deve comprar, sabendo que a decisão é sempre pelo mais barato. "
      ]
    },
    {
      "cell_type": "code",
      "metadata": {
        "id": "2IDo4KxhKsfO"
      },
      "source": [
        "num_1 = float(input('Digite o preço do primeiro produto: '))\n",
        "num_2 = float(input('Digite o preço do segundo produto: '))\n",
        "num_3 = float(input('Digite o preço do terceiro produto: '))\n",
        "\n",
        "produto = 'primeiro'\n",
        "menor_preco = num_1\n",
        "if num_2 < menor_preco:\n",
        "   menor_preco = num_2\n",
        "   produto='segundo'\n",
        "\n",
        "if num_3 < menor_preco:\n",
        "   menor_preco = num_3\n",
        "   produto='terceiro'\n",
        "\n",
        "print(f'Você deverá comprar o {produto} produto custando: R${menor_preco:.2f}')"
      ],
      "execution_count": null,
      "outputs": []
    },
    {
      "cell_type": "markdown",
      "metadata": {
        "id": "LNLlTmX8VaHo"
      },
      "source": [
        "Exercício 9\n",
        "\n",
        "Faça um Programa que leia três números e mostre-os em ordem decrescente. "
      ]
    },
    {
      "cell_type": "code",
      "metadata": {
        "id": "NnxkgIEAVgvC"
      },
      "source": [
        "num_1 = float(input('Digite o primeiro número:  '))\n",
        "num_2 = float(input('Digite o segundo número: '))\n",
        "num_3 = float(input('Digite o terceiro número:  '))\n",
        "\n",
        "if num_2 >= num_1:\n",
        "  num_1, num_2 = num_2, num_1\n",
        "\n",
        "if num_3 >= num_1:\n",
        "  num_1, num_3 = num_3, num_1\n",
        "\n",
        "if num_3 >= num_2:\n",
        "  num_2, num_3 = num_3, num_2\n",
        "\n",
        "print(f'{num_1}, {num_2}, {num_3} ')"
      ],
      "execution_count": null,
      "outputs": []
    },
    {
      "cell_type": "markdown",
      "metadata": {
        "id": "Rp2QDhCZc0Hx"
      },
      "source": [
        "Exercício 10\n",
        "\n",
        "Faça um Programa que pergunte em que turno você estuda. Peça para digitar M-matutino ou V-Vespertino ou N- Noturno. Imprima a mensagem \"Bom Dia!\", \"Boa Tarde!\" ou \"Boa Noite!\" ou \"Valor Inválido!\", conforme o caso. "
      ]
    },
    {
      "cell_type": "code",
      "metadata": {
        "id": "ZnPZNwSdcwxG"
      },
      "source": [
        "turno = (input('Digite o turno que você estuda: ')).lower()\n",
        "\n",
        "if turno == 'm':\n",
        "  print(f'Bom Dia!')\n",
        "\n",
        "elif turno == 'v':\n",
        "  print(f'Boa Tarde!')\n",
        "\n",
        "elif turno == 'n':\n",
        "  print(f'Boa Noite!')\n",
        "\n",
        "else:\n",
        "  print(f'Valor Inválido')"
      ],
      "execution_count": null,
      "outputs": []
    },
    {
      "cell_type": "markdown",
      "metadata": {
        "id": "qnmTjmpplGgL"
      },
      "source": [
        "Exercício 11\n",
        "\n",
        "As Organizações Tabajara resolveram dar um aumento de salário aos seus colaboradores e lhe contraram para desenvolver o programa que calculará os reajustes.\n",
        "\n",
        "    Faça um programa que recebe o salário de um colaborador e o reajuste segundo o seguinte critério, baseado no salário atual:\n",
        "    salários até R$ 280,00 (incluindo) : aumento de 20%\n",
        "    salários entre R$ 280,00 e R$ 700,00 : aumento de 15%\n",
        "    salários entre R$ 700,00 e R$ 1500,00 : aumento de 10%\n",
        "    salários de R$ 1500,00 em diante : aumento de 5% Após o aumento ser realizado, informe na tela:\n",
        "    o salário antes do reajuste;\n",
        "    o percentual de aumento aplicado;\n",
        "    o valor do aumento;\n",
        "    o novo salário, após o aumento.\n",
        "    "
      ]
    },
    {
      "cell_type": "code",
      "metadata": {
        "id": "y0beriaJlVv8"
      },
      "source": [
        "salario_antigo = float(input('Digite o salário do colaborador: R$'))\n",
        "\n",
        "if salario_antigo <= 280:\n",
        "  percentual_aumento = 0.2\n",
        "\n",
        "elif 280 < salario_antigo <= 700:\n",
        "  percentual_aumento = 0.15\n",
        "\n",
        "elif 700 < salario_antigo <= 1500:\n",
        "  percentual_aumento = 0.1\n",
        "\n",
        "else:\n",
        "  percentual_aumento = 0.05\n",
        "\n",
        "valor_aumento = salario_antigo * percentual_aumento\n",
        "novo_salario = valor_aumento + salario_antigo\n",
        "\n",
        "print(f'''\n",
        "o salário antes do reajuste = R${salario_antigo:.2f}\n",
        "o percentual de aumento aplicado = {percentual_aumento:.0%}\n",
        "o valor do aumento = R${valor_aumento:.2f}\n",
        "o novo salário, após o aumento = {novo_salario:.2f}\n",
        " ''')"
      ],
      "execution_count": null,
      "outputs": []
    },
    {
      "cell_type": "markdown",
      "metadata": {
        "id": "4UhaDkI-py-k"
      },
      "source": [
        "Exercício 12\n",
        "\n",
        "Faça um programa para o cálculo de uma folha de pagamento, sabendo que os descontos são do Imposto de Renda, que depende do salário bruto (conforme tabela abaixo) e 3% para o Sindicato e que o FGTS corresponde a 11% do Salário Bruto, mas não é descontado (é a empresa que deposita). O Salário Líquido corresponde ao Salário Bruto menos os descontos. O programa deverá pedir ao usuário o valor da sua hora e a quantidade de horas trabalhadas no mês.\n",
        "\n",
        "    Desconto do IR:\n",
        "    Salário Bruto até 900 (inclusive) - isento\n",
        "    Salário Bruto até 1500 (inclusive) - desconto de 5%\n",
        "    Salário Bruto até 2500 (inclusive) - desconto de 10%\n",
        "    Salário Bruto acima de 2500 - desconto de 20% Imprima na tela as informações, dispostas conforme o exemplo abaixo. No exemplo o valor da hora é 5 e a quantidade de hora é 220.\n",
        "\n",
        "            Salário Bruto: (5 * 220)        : R$ 1100,00\n",
        "            (-) IR (5%)                     : R$   55,00  \n",
        "            (-) INSS ( 10%)                 : R$  110,00\n",
        "            FGTS (11%)                      : R$  121,00\n",
        "            Total de descontos              : R$  165,00\n",
        "            Salário Liquido                 : R$  935,00"
      ]
    },
    {
      "cell_type": "code",
      "metadata": {
        "id": "NHxvJYYFJySh"
      },
      "source": [
        "sindicato_percent = 0.03\n",
        "fgts_percent = 0.11\n",
        "inss_percent = 0.10\n",
        "valor_hora = float(input('Digite o valor hora: '))\n",
        "quantidade_hora = int(input('Digite a quantidade hora: '))\n",
        "salario_bruto = valor_hora * quantidade_hora\n",
        "\n",
        "if salario_bruto <= 900:\n",
        "  ir_percent = 0\n",
        "\n",
        "elif 900 < salario_bruto <= 1500:\n",
        "  ir_percent = 0.05\n",
        "\n",
        "elif 1500 < salario_bruto <= 2500:\n",
        "  ir_percent = 0.1\n",
        "  \n",
        "else:\n",
        "  ir_percent = 0.2\n",
        "\n",
        "ir_desconto = ir_percent * salario_bruto\n",
        "sindicato_desconto = sindicato_percent * salario_bruto\n",
        "inss_desconto = inss_percent * salario_bruto\n",
        "\n",
        "fgts = fgts_percent * salario_bruto\n",
        "inss_desconto = inss_percent * salario_bruto\n",
        "total_descontos = ir_desconto + sindicato_desconto + inss_desconto\n",
        "salario_liquido = salario_bruto - total_descontos\n",
        "print(f'''\n",
        "CÁLCULO SALÁRIO\n",
        "\n",
        " Salário Bruto: ({valor_hora:.0f} * {quantidade_hora:.0f}) : R${salario_bruto:.2f}\n",
        "(-) IR ({ir_percent:.0%}){' '*15}: R${ir_desconto:.2f}\n",
        "(-) INSS ({inss_percent:.0%}){' '*12}: R${inss_desconto:.2f}\n",
        "(-) Sindicato ({sindicato_percent:.0%}){' '*8}: R${sindicato_desconto:.2f}\n",
        " FGTS ({fgts_percent:.0%}){' '*15}: R${fgts:.2f}\n",
        " Total de descontos{' '*7}: R${total_descontos:.2f}\n",
        " Salário Líquido{' '*10}: R${salario_liquido:.2f}\n",
        "''')"
      ],
      "execution_count": null,
      "outputs": []
    },
    {
      "cell_type": "markdown",
      "metadata": {
        "id": "siMIFVVmKNVW"
      },
      "source": [
        "Exercício 13\n",
        "\n",
        "Faça um Programa que leia um número e exiba o dia correspondente da semana. (1-Domingo, 2- Segunda, etc.), se digitar outro valor deve aparecer valor inválido. "
      ]
    },
    {
      "cell_type": "code",
      "metadata": {
        "id": "ulN3lH-LfHJz"
      },
      "source": [
        "num = int(input('Digite o número da semana: '))\n",
        "\n",
        "if num == 1:\n",
        "  print('Domingo')\n",
        "\n",
        "elif num == 2:\n",
        "  print('Segunda')\n",
        "\n",
        "elif num == 3:\n",
        "  print('Terça')\n",
        "\n",
        "elif num == 4:\n",
        "  print('Quarta')\n",
        "\n",
        "elif num == 5:\n",
        "  print('Quinta')\n",
        "\n",
        "elif num == 6:\n",
        "  print('Sexta')\n",
        "\n",
        "elif num == 7:\n",
        "  print('Sábado')\n",
        "  \n",
        "else:\n",
        "  print('Valor Inválido')"
      ],
      "execution_count": null,
      "outputs": []
    },
    {
      "cell_type": "markdown",
      "metadata": {
        "id": "KEkyGb5pLIBi"
      },
      "source": [
        "Exercício 14\n",
        "\n",
        "Faça um programa que lê as duas notas parciais obtidas por um aluno numa disciplina ao longo de um semestre, e calcule a sua média. A atribuição de conceitos obedece à tabela abaixo:\n",
        "\n",
        "      Média de Aproveitamento  Conceito\n",
        "      Entre 9.0 e 10.0        A\n",
        "      Entre 7.5 e 9.0         B\n",
        "      Entre 6.0 e 7.5         C\n",
        "      Entre 4.0 e 6.0         D\n",
        "      Entre 4.0 e zero        E\n",
        "\n",
        "    O algoritmo deve mostrar na tela as notas, a média, o conceito correspondente e a mensagem “APROVADO” se o conceito for A, B ou C ou “REPROVADO” se o conceito for D ou E. "
      ]
    },
    {
      "cell_type": "code",
      "metadata": {
        "id": "aeVdk0-iVZUP"
      },
      "source": [
        "nota_1 = float(input('Digite a primeira nota parcial: '))\n",
        "nota_2 = float(input('Digite a segunda nota parcial: '))\n",
        "media = (nota_1 + nota_2) / 2\n",
        "\n",
        "if 9 < media <= 10:\n",
        "  conceito = 'A'\n",
        "\n",
        "elif 7.5 < media <= 9:\n",
        "  conceito = 'B'\n",
        "\n",
        "elif 6 < media <= 7.5:\n",
        "  conceito = 'C'\n",
        "\n",
        "elif 4 < media <= 6:\n",
        "  conceito = 'D'\n",
        "  \n",
        "elif 0 <= media <= 4:\n",
        "  conceito = 'E'\n",
        "\n",
        "if conceito == 'A' or conceito=='B' or conceito == 'C':\n",
        "  aprovacao = 'Aprovado'\n",
        "else:\n",
        "  aprovacao = 'Reprovado'\n",
        "\n",
        "print(f'''\n",
        "nota 01 = {nota_1:.2f}\n",
        "nota 02 = {nota_2:.2f}\n",
        "media = {media:.2f}\n",
        "conceito = {conceito}  \"{aprovacao}\"\n",
        "''')"
      ],
      "execution_count": null,
      "outputs": []
    },
    {
      "cell_type": "markdown",
      "metadata": {
        "id": "80FKqun_O7h4"
      },
      "source": [
        "Exercício 15\n",
        "\n",
        "Faça um Programa que peça os 3 lados de um triângulo. O programa deverá informar se os valores podem ser um triângulo. Indique, caso os lados formem um triângulo, se o mesmo é: equilátero, isósceles ou escaleno.\n",
        "\n",
        "    Dicas:\n",
        "    Três lados formam um triângulo quando a soma de quaisquer dois lados for maior que o terceiro;\n",
        "    Triângulo Equilátero: três lados iguais;\n",
        "    Triângulo Isósceles: quaisquer dois lados iguais;\n",
        "    Triângulo Escaleno: três lados diferentes; \n",
        "    "
      ]
    },
    {
      "cell_type": "code",
      "metadata": {
        "id": "j8ZDuGrRPDWw"
      },
      "source": [
        "lado_1 = float(input('Digite o primeiro lado do triângulo: '))\n",
        "lado_2 = float(input('Digite o segundo lado do triângulo: '))\n",
        "lado_3 = float(input('Digite o terceiro lado do triângulo: '))\n",
        "\n",
        "if (lado_1 + lado_2  > lado_3) and (lado_1 + lado_3  > lado_2) and (lado_2 + lado_3  > lado_1):\n",
        "  if lado_1 == lado_2  == lado_3:\n",
        "    tipo_triangulo = 'Equilátero'\n",
        "  elif lado_1 != lado_2  != lado_3:\n",
        "    tipo_triangulo = 'Escaleno'\n",
        "  else:\n",
        "    tipo_triangulo = 'Isósceles'\n",
        "  print(f'É um triângulo {tipo_triangulo}')\n",
        "else:\n",
        "  print('Não é um triângulo')"
      ],
      "execution_count": null,
      "outputs": []
    },
    {
      "cell_type": "markdown",
      "metadata": {
        "id": "KFmKUq7BSe2t"
      },
      "source": [
        "Exercício 16\n",
        "\n",
        "Faça um programa que calcule as raízes de uma equação do segundo grau, na forma ax2 + bx + c. O programa deverá pedir os valores de a, b e c e fazer as consistências, informando ao usuário nas seguintes situações:\n",
        "\n",
        "    Se o usuário informar o valor de A igual a zero, a equação não é do segundo grau e o programa não deve fazer pedir os demais valores, sendo encerrado;\n",
        "    Se o delta calculado for negativo, a equação não possui raizes reais. Informe ao usuário e encerre o programa;\n",
        "    Se o delta calculado for igual a zero a equação possui apenas uma raiz real; informe-a ao usuário;\n",
        "    Se o delta for positivo, a equação possui duas raiz reais; informe-as ao usuário; "
      ]
    },
    {
      "cell_type": "code",
      "metadata": {
        "id": "6ZiC5ib4SqPk"
      },
      "source": [
        "a = float(input('Digite o valor de a: '))\n",
        "if a == 0:\n",
        "\n",
        "  print('A equação não é do segundo grau')\n",
        "\n",
        "else:\n",
        "  b = float(input('Digite o valor de b: '))\n",
        "  c = float(input('Digite o valor de c: '))\n",
        "  delta = (b ** 2) - (4*a*c)\n",
        "\n",
        "  if delta < 0:\n",
        "    print('A equação não possui raizes reais.')\n",
        "\n",
        "  elif delta == 0:\n",
        "    print('A equação uma raiz real.')\n",
        "    \n",
        "  else:\n",
        "    print('A equação possui duas raizes reais.')\n"
      ],
      "execution_count": null,
      "outputs": []
    },
    {
      "cell_type": "markdown",
      "metadata": {
        "id": "KUtRMhW2aZ-5"
      },
      "source": [
        "Exercício 17\n",
        "\n",
        "Faça um Programa que peça um número correspondente a um determinado ano e em seguida informe se este ano é ou não bissexto."
      ]
    },
    {
      "cell_type": "code",
      "metadata": {
        "id": "zgAsH3kLalav"
      },
      "source": [
        "ano = int(input('Digite o ano: '))\n",
        "if ano % 4 == 0:\n",
        "  print('Ano bissexto')\n",
        "  \n",
        "else:\n",
        "  print('Ano  NÃO bissexto')"
      ],
      "execution_count": null,
      "outputs": []
    },
    {
      "cell_type": "markdown",
      "metadata": {
        "id": "T2Bxp6f7bwWB"
      },
      "source": [
        "Exercício 18\n",
        "\n",
        "Faça um Programa que peça uma data no formato dd/mm/aaaa e determine se a mesma é uma data válida. "
      ]
    },
    {
      "cell_type": "code",
      "metadata": {
        "id": "EY9cyyX3eIZs"
      },
      "source": [
        "is_data_valida = is_data_formato_valida = is_ano_valido = is_mes_valido = is_dia_valido  = False\n",
        "\n",
        "data = input(f'Digite uma data dd/mm/aaaa: ')\n",
        "\n",
        "try:\n",
        "  dia = int(data[0:2])\n",
        "  mes = int(data[3:5])\n",
        "  ano = int(data[6:])\n",
        "\n",
        "except ValueError:\n",
        "  print(f'Data inválida! {data[0:2]} / {data[3:5]} / {data[6:]} ')\n",
        "\n",
        "else:\n",
        "  is_ano_valido = 1 <= ano <= 9999\n",
        "  \n",
        "  if is_ano_valido:\n",
        "    is_ano_bissexto = ano % 4 == 0\n",
        "    is_mes_valido = 1 <= mes <= 12\n",
        "    \n",
        "    if is_mes_valido:\n",
        "      is_mes_31_dias = mes in (1, 3, 5, 7, 8, 10, 12)\n",
        "      is_mes_30_dias = mes in (4, 6, 9, 11)\n",
        "      is_mes_28_dias = mes == 2 and not is_ano_bissexto\n",
        "      is_mes_29_dias = mes == 2 and is_ano_bissexto\n",
        "      \n",
        "      is_dia_valido = ((is_mes_28_dias and dia in range(1,29)) or \n",
        "                       (is_mes_29_dias and dia in range(1,30)) or \n",
        "                       (is_mes_30_dias and dia in range(1,31)) or \n",
        "                       (is_mes_31_dias and dia in range(1,32)))\n",
        "      \n",
        "  is_data_formato_valida = len(data) == 10 and data[2] == '/' and data[5] == '/'\n",
        "  is_data_valida = is_data_formato_valida and is_ano_valido and is_mes_valido and is_dia_valido\n",
        "  \n",
        "  msg = 'Data Iválida! '\n",
        "  if is_data_valida:\n",
        "    msg = 'Data Válida: '\n",
        "   \n",
        "  print(f'{msg} {str(dia).zfill(2)}/{str(mes).zfill(2)}/{str(ano).zfill(4)}')\n",
        "\n",
        "    "
      ],
      "execution_count": null,
      "outputs": []
    },
    {
      "cell_type": "markdown",
      "metadata": {
        "id": "AFXNuux7zBCK"
      },
      "source": [
        "Exercício 19\n",
        "\n",
        "Faça um Programa que leia um número inteiro menor que 1000 e imprima a quantidade de centenas, dezenas e unidades do mesmo.\n",
        "\n",
        "    Observando os termos no plural a colocação do \"e\", da vírgula entre outros. Exemplo:\n",
        "    326 = 3 centenas, 2 dezenas e 6 unidades\n",
        "    12 = 1 dezena e 2 unidades Testar com: 326, 300, 100, 320, 310,305, 301, 101, 311, 111, 25, 20, 10, 21, 11, 1, 7 e 16 "
      ]
    },
    {
      "cell_type": "code",
      "metadata": {
        "id": "FIPiMMNhzVq1"
      },
      "source": [
        "nums = [326, 300, 100, 320, 310, 305, 301, 101, 311, 111, 25, 20, 10, 21, 11, 1, 7 , 16, 276]\n",
        "\n",
        "for num in nums:\n",
        "  numero = num\n",
        "  centena = num // 100\n",
        "  dezena = num % 100\n",
        "  num = num % 10\n",
        "  unidade = num // 1\n",
        "  centena_msg=  dezena_msg = unidade_msg = ''\n",
        "  if centena > 0:\n",
        "    centena_msg = f\"{centena} {'centenas' if centena > 1 else 'centena'}\"\n",
        "  if dezena > 0:\n",
        "    dezena_msg = f\"{', ' if centena_msg!='' else ''} {dezena} {'dezenas' if dezena > 1 else 'dezena'}\"\n",
        "  if unidade > 0:\n",
        "    unidade_msg = f\"{' e'if (centena_msg!='' or dezena_msg!='') else ''} {unidade} {'unidades' if unidade > 1 else 'unidade'}\"\n",
        "  print(f'{numero} = {centena_msg}{dezena_msg}{unidade_msg}.')\n"
      ],
      "execution_count": null,
      "outputs": []
    },
    {
      "cell_type": "markdown",
      "metadata": {
        "id": "hU4ov6UxQcJJ"
      },
      "source": [
        "Execício 21\n",
        "\n",
        "Faça um Programa para um caixa eletrônico. O programa deverá perguntar ao usuário a valor do saque e depois informar quantas notas de cada valor serão fornecidas. As notas disponíveis serão as de 1, 5, 10, 50 e 100 reais. O valor mínimo é de 10 reais e o máximo de 600 reais. O programa não deve se preocupar com a quantidade de notas existentes na máquina.\n",
        "\n",
        "    Exemplo 1: Para sacar a quantia de 256 reais, o programa fornece duas notas de 100, uma nota de 50, uma nota de 5 e uma nota de 1;\n",
        "    Exemplo 2: Para sacar a quantia de 399 reais, o programa fornece três notas de 100, uma nota de 50, quatro notas de 10, uma nota de 5 e quatro notas de 1. "
      ]
    },
    {
      "cell_type": "code",
      "metadata": {
        "id": "Krv0t-OqQlmf"
      },
      "source": [
        "valor_saque = int(input('Digite o valor a ser sacado: '))\n",
        "\n",
        "contagem = valor_saque\n",
        "notas_cem = contagem // 100\n",
        "contagem = contagem % 100\n",
        "notas_cinquenta = contagem // 50\n",
        "contagem = contagem % 50\n",
        "notas_dez = contagem // 10\n",
        "contagem = contagem % 10\n",
        "notas_cinco = contagem // 5\n",
        "notas_um = contagem % 5\n",
        "\n",
        "\n",
        "if notas_cem <= 0:\n",
        "  msg_100 = ''\n",
        "else:\n",
        "  msg_100 = f'{notas_cem} {\"notas\" if notas_cem >1 else \"nota\"} de R$100.00'\n",
        "\n",
        "if notas_cinquenta <= 0:\n",
        "  msg_50 = ''\n",
        "else:\n",
        "  msg_50 = f'{\", \" if msg_100!= \"\"else \"\"}{notas_cinquenta} {\"notas\" if notas_cinquenta >1 else \"nota\"} de R$50.00'\n",
        "\n",
        "if notas_dez <= 0:\n",
        "  msg_10 = ''\n",
        "else:\n",
        "  msg_10 = f'{\", \" if (msg_100!= \"\" or msg_50!= \"\")else \"\"}{notas_dez} {\"notas\" if notas_dez >1 else \"nota\"} de R$10.00'\n",
        "\n",
        "if notas_cinco <= 0:\n",
        "  msg_5 = ''\n",
        "else:\n",
        "  msg_5 = f'{\", \" if (msg_100!= \"\" or msg_50!= \"\" or msg_10!= \"\")else \"\"}{notas_cinco} {\"notas\" if notas_cinco >1 else \"nota\"} de R$5.00'\n",
        "\n",
        "if notas_um <= 0:\n",
        "  msg_1 = ''\n",
        "else:\n",
        "  msg_1 = f'{\" e \" if (msg_100!= \"\" or msg_50!= \"\" or msg_10!= \"\" or msg_5!= \"\")else \"\"}{notas_um} {\"notas\" if notas_um >1 else \"nota\"} de R$1.00'\n",
        "\n",
        "print(f' Para sacar a quantia de {valor_saque} reais, o programa fornece: {msg_100}{msg_50}{msg_10}{msg_5}{msg_1}.')"
      ],
      "execution_count": null,
      "outputs": []
    },
    {
      "cell_type": "code",
      "metadata": {
        "id": "pcuXVhO0ZvyQ"
      },
      "source": [
        "6 // 5"
      ],
      "execution_count": null,
      "outputs": []
    },
    {
      "cell_type": "code",
      "metadata": {
        "id": "JnB5SeOTZGrH"
      },
      "source": [
        "help(divmod)"
      ],
      "execution_count": null,
      "outputs": []
    },
    {
      "cell_type": "markdown",
      "metadata": {
        "id": "Z_Aiu3_gXXHk"
      },
      "source": [
        "# [Estrutura de Repetição](https://wiki.python.org.br/EstruturaDeRepeticao)\n"
      ]
    },
    {
      "cell_type": "markdown",
      "metadata": {
        "id": "yWtIiUYSX3xL"
      },
      "source": [
        "Exercício 1\n",
        "\n",
        "Faça um programa que peça uma nota, entre zero e dez. Mostre uma mensagem caso o valor seja inválido e continue pedindo até que o usuário informe um valor válido. "
      ]
    },
    {
      "cell_type": "code",
      "metadata": {
        "colab": {
          "base_uri": "https://localhost:8080/"
        },
        "id": "9Cval-xzXn79",
        "outputId": "e54ca495-b3e0-4dd2-ac4f-b371e7b27d5f"
      },
      "source": [
        "\n",
        "while True:\n",
        "  nota = input('Digite uma nota entre zero e dez: ')\n",
        "  try:\n",
        "    nota_valida = float(nota)\n",
        "  except ValueError:\n",
        "    print('valor digitado inválido!')\n",
        "  else:\n",
        "    if 0 <= nota_valida <= 10:\n",
        "      break\n",
        "    else:\n",
        "      print('Digite um número entre 0 e 10')"
      ],
      "execution_count": null,
      "outputs": [
        {
          "name": "stdout",
          "output_type": "stream",
          "text": [
            "Digite uma nota entre zero e dez: 10\n"
          ]
        }
      ]
    },
    {
      "cell_type": "markdown",
      "metadata": {
        "id": "9_AUM30sf3tH"
      },
      "source": [
        "Exercício 2\n",
        "\n",
        "Faça um programa que leia um nome de usuário e a sua senha e não aceite a senha igual ao nome do usuário, mostrando uma mensagem de erro e voltando a pedir as informações."
      ]
    },
    {
      "cell_type": "code",
      "metadata": {
        "colab": {
          "base_uri": "https://localhost:8080/"
        },
        "id": "K3j-wj6ZgCqc",
        "outputId": "86a5649d-0ed8-4bce-ae1a-10c3349f59f9"
      },
      "source": [
        "while True:\n",
        "  nome = input('Digite seu nome: ')\n",
        "  senha = input('Digite sua senha: ')\n",
        "\n",
        "  if nome == senha:\n",
        "    print('Nome não pode ser igual a senha, voltano a pedir informações...')\n",
        "  else:\n",
        "    print('Nome e senha armazenados com sucesso!.')\n",
        "    break"
      ],
      "execution_count": null,
      "outputs": [
        {
          "output_type": "stream",
          "name": "stdout",
          "text": [
            "Digite seu nome: aaa\n",
            "Digite sua senha: aaa\n",
            "Nome não pode ser igual a senha, voltano a pedir informações...\n",
            "Digite seu nome: bbb\n",
            "Digite sua senha: bbb\n",
            "Nome não pode ser igual a senha, voltano a pedir informações...\n",
            "Digite seu nome: abc\n",
            "Digite sua senha: bca\n",
            "Nome e senha armazenados com sucesso!\n"
          ]
        }
      ]
    },
    {
      "cell_type": "markdown",
      "metadata": {
        "id": "xc3Fv0HJg2-5"
      },
      "source": [
        "Faça um programa que leia e valide as seguintes informações:\n",
        "\n",
        "    Nome: maior que 3 caracteres;\n",
        "    Idade: entre 0 e 150;\n",
        "    Salário: maior que zero;\n",
        "    Sexo: 'f' ou 'm';\n",
        "    Estado Civil: 's', 'c', 'v', 'd'; "
      ]
    },
    {
      "cell_type": "code",
      "metadata": {
        "colab": {
          "base_uri": "https://localhost:8080/"
        },
        "id": "oh8rBq8NhCFo",
        "outputId": "54cbd7ff-15fc-4e95-ba3b-fb311888d7e6"
      },
      "source": [
        "while True:\n",
        "  nome = input('Digite o seu nome: ')\n",
        "  if len(nome) >=3:\n",
        "    break\n",
        "  else:\n",
        "    print('seu nome precisa ser maior que 3 caracteres...')\n",
        "while True:\n",
        "  idade = input('digite sua idade: ')\n",
        "  try:\n",
        "    idade = int(idade)\n",
        "  except ValueError:\n",
        "    print('Valor para idade inválido!')\n",
        "  else:\n",
        "    if 0 < idade < 150:\n",
        "      break\n",
        "    else:\n",
        "      print('Idade precisa estar entre 0 e 150')\n",
        "while True:\n",
        "  salario = input('Digite seu salário: ')\n",
        "  try:\n",
        "    salario = float(salario)\n",
        "  except ValueError:\n",
        "    print('Salário inválido!')\n",
        "  else:\n",
        "    if salario > 0:\n",
        "      break\n",
        "    else:\n",
        "      print('Salário precisa ser maior que zero!')\n",
        "while True:\n",
        "  sexo = (input('Digite seu sexo( f ou m)')).lower()\n",
        "  if sexo == 'f' or sexo == 'm':\n",
        "    break\n",
        "  else:\n",
        "    print('Sexo inválido!')\n",
        "while True:\n",
        "  estado_civil = input('Digite o Estado Civil (\"s\", \"c\", \"v\", \"d\") ').lower()\n",
        "  if estado_civil in ['s', 'c', 'v', 'd']:\n",
        "    break\n",
        "  else:\n",
        "    print('Estado Civil Inválido')\n",
        "\n",
        "    "
      ],
      "execution_count": null,
      "outputs": [
        {
          "name": "stdout",
          "output_type": "stream",
          "text": [
            "Digite o seu nome: zx\n",
            "seu nome precisa ser maior que 3 caracteres...\n",
            "Digite o seu nome: zxcz\n",
            "digite sua idade: -3\n",
            "Idade precisa estar entre 0 e 150\n",
            "digite sua idade: 1610\n",
            "Idade precisa estar entre 0 e 150\n",
            "digite sua idade: 101\n",
            "Digite seu salário: 1200\n",
            "Digite seu sexo( f ou m)d\n",
            "Sexo inválido!\n",
            "Digite seu sexo( f ou m)d\n",
            "Sexo inválido!\n",
            "Digite seu sexo( f ou m)F\n",
            "Digite o Estado Civil (\"s\", \"c\", \"v\", \"d\") Q\n",
            "Estado Civil Inválido\n",
            "Digite o Estado Civil (\"s\", \"c\", \"v\", \"d\") Y\n",
            "Estado Civil Inválido\n",
            "Digite o Estado Civil (\"s\", \"c\", \"v\", \"d\") S\n"
          ]
        }
      ]
    },
    {
      "cell_type": "markdown",
      "metadata": {
        "id": "Z2LJZBBQlxH6"
      },
      "source": [
        "Exercício 4\n",
        "\n",
        "Supondo que a população de um país A seja da ordem de 80000 habitantes com uma taxa anual de crescimento de 3% e que a população de B seja 200000 habitantes com uma taxa de crescimento de 1.5%. Faça um programa que calcule e escreva o número de anos necessários para que a população do país A ultrapasse ou iguale a população do país B, mantidas as taxas de crescimento.\n"
      ]
    },
    {
      "cell_type": "code",
      "metadata": {
        "id": "VO8AHK3HlvFU",
        "colab": {
          "base_uri": "https://localhost:8080/"
        },
        "outputId": "66cdfeeb-7a15-4e3a-fc77-ddf519208cf5"
      },
      "source": [
        "habitantes_a = 80_000\n",
        "habitantes_b = 200_000\n",
        "cresc_tax_a = 1.03\n",
        "cresc_tax_b = 1.015\n",
        "anos = 0\n",
        "while habitantes_a < habitantes_b:\n",
        "#  print(f'''***** Crescimento Habitantes A e B\n",
        "# Ano: {anos}\n",
        "# Habitantes A: {habitantes_a}\n",
        "# Habitantes B: {habitantes_b}\n",
        "# ''')\n",
        "\n",
        "  habitantes_a = int(habitantes_a * cresc_tax_a)\n",
        "  habitantes_b = int(habitantes_b * cresc_tax_b)\n",
        "  anos += 1\n",
        "\n",
        "print(f'''***** Crescimento Habitantes A e B\n",
        "Ano: {anos}\n",
        "Habitantes A: {habitantes_a}\n",
        "Habitantes B: {habitantes_b}\n",
        "''')"
      ],
      "execution_count": null,
      "outputs": [
        {
          "output_type": "stream",
          "name": "stdout",
          "text": [
            "***** Crescimento Habitantes A e B\n",
            "Ano: 63\n",
            "Habitantes A: 514954\n",
            "Habitantes B: 510908\n",
            "\n"
          ]
        }
      ]
    },
    {
      "cell_type": "markdown",
      "metadata": {
        "id": "CRmpZAWf8xJU"
      },
      "source": [
        "Exercício 5\n",
        "\n",
        "Altere o programa anterior permitindo ao usuário informar as populações e as taxas de crescimento iniciais. Valide a entrada e permita repetir a operação. "
      ]
    },
    {
      "cell_type": "code",
      "metadata": {
        "colab": {
          "base_uri": "https://localhost:8080/"
        },
        "id": "XoIcoZF32I9d",
        "outputId": "073e6081-1194-415f-9ea7-981bce3c66a3"
      },
      "source": [
        "\n",
        "while True: \n",
        "  try:\n",
        "    habitantes_a = int(input('Digite o NÚMERO DE HABITANTES da do país que tem MENOR população: '))\n",
        "  \n",
        "  except ValueError:\n",
        "    print('Valor Inválido!')\n",
        "  \n",
        "  else:\n",
        "    break\n",
        "\n",
        "while True:  \n",
        "  try:\n",
        "    habitantes_b = int(input('Digite o NÚMERO DE HABITANTES da do país que tem MAIOR população: '))\n",
        "  \n",
        "  except ValueError:\n",
        "    print('Valor Inválido!')\n",
        "  \n",
        "  else:\n",
        "    if habitantes_a < habitantes_b:\n",
        "      break\n",
        "\n",
        "    else:\n",
        "      print(f'O NÚMERO DE HABITANTES precisa ser maior que {habitantes_a}!')\n",
        "\n",
        "while True: \n",
        "  try:\n",
        "    tax_cresc_a = float(input('Digite a TAXA DE CRESCIMENTO ( % ) da do país que tem MENOR população: '))\n",
        "  \n",
        "  except ValueError:\n",
        "    print('Valor Inválido!')\n",
        "  \n",
        "  else:\n",
        "    if 0 < tax_cresc_a <= 100:\n",
        "      break\n",
        "    \n",
        "    else:\n",
        "      print('A TAXA DE CRESCIMENTO precisa ser um valor ENTRE ZERO e CEM')\n",
        "\n",
        "\n",
        "while True: \n",
        "  try:\n",
        "    tax_cresc_b = float(input('Digite a TAXA DE CRESCIMENTO ( % ) da do país que tem MAIOR população: '))\n",
        "  \n",
        "  except ValueError:\n",
        "    print('Valor Inválido!')\n",
        "  \n",
        "  else:\n",
        "    if 0 < tax_cresc_b < tax_cresc_a:\n",
        "      break\n",
        "      \n",
        "    else:\n",
        "      print(f'A TAXA DE CRESCIMENTO precisa ser um valor MAIOR que ZERO e MENOR que {tax_cresc_a}')\n",
        "\n",
        "anos = 0\n",
        "tax_cresc_a /= 100\n",
        "tax_cresc_b /= 100\n",
        "\n",
        "while habitantes_a < habitantes_b:\n",
        "#  print(f'''***** Crescimento Habitantes A e B\n",
        "# Ano: {anos}\n",
        "# Habitantes A: {habitantes_a}\n",
        "# Habitantes B: {habitantes_b}\n",
        "# ''')\n",
        "\n",
        "  habitantes_a = int(habitantes_a + habitantes_a * tax_cresc_a)\n",
        "  habitantes_b = int(habitantes_b + habitantes_b * tax_cresc_b)\n",
        "  anos += 1\n",
        "\n",
        "print(f'''\n",
        "***** Crescimento Habitantes A e B\n",
        "Ano: {anos}\n",
        "Habitantes A: {habitantes_a}\n",
        "Habitantes B: {habitantes_b}\n",
        "''')"
      ],
      "execution_count": null,
      "outputs": [
        {
          "output_type": "stream",
          "name": "stdout",
          "text": [
            "Digite o NÚMERO DE HABITANTES da do país que tem MENOR população: 80000\n",
            "Digite o NÚMERO DE HABITANTES da do país que tem MAIOR população: 200000\n",
            "Digite a TAXA DE CRESCIMENTO ( % ) da do país que tem MENOR população: 3\n",
            "Digite a TAXA DE CRESCIMENTO ( % ) da do país que tem MAIOR população: 1.5\n",
            "\n",
            "***** Crescimento Habitantes A e B\n",
            "Ano: 63\n",
            "Habitantes A: 514954\n",
            "Habitantes B: 510914\n",
            "\n"
          ]
        }
      ]
    },
    {
      "cell_type": "markdown",
      "metadata": {
        "id": "hc6R4RXKILGV"
      },
      "source": [
        "Exercício 6\n",
        "\n",
        "Faça um programa que imprima na tela os números de 1 a 20, um abaixo do outro. Depois modifique o programa para que ele mostre os números um ao lado do outro. "
      ]
    },
    {
      "cell_type": "code",
      "metadata": {
        "colab": {
          "base_uri": "https://localhost:8080/"
        },
        "id": "FJQdtw6JIC3C",
        "outputId": "3c84202b-7481-4662-e575-793284bd0503"
      },
      "source": [
        "\n",
        "for x in range(1, 121):\n",
        "  print(x)\n",
        "\n",
        "msg=''\n",
        "for x in range (1, 121):\n",
        "  msg += str(x) \n",
        "  msg+=' '\n",
        "print(msg)"
      ],
      "execution_count": null,
      "outputs": [
        {
          "output_type": "stream",
          "name": "stdout",
          "text": [
            "1\n",
            "2\n",
            "3\n",
            "4\n",
            "5\n",
            "6\n",
            "7\n",
            "8\n",
            "9\n",
            "10\n",
            "11\n",
            "12\n",
            "13\n",
            "14\n",
            "15\n",
            "16\n",
            "17\n",
            "18\n",
            "19\n",
            "20\n",
            "21\n",
            "22\n",
            "23\n",
            "24\n",
            "25\n",
            "26\n",
            "27\n",
            "28\n",
            "29\n",
            "30\n",
            "31\n",
            "32\n",
            "33\n",
            "34\n",
            "35\n",
            "36\n",
            "37\n",
            "38\n",
            "39\n",
            "40\n",
            "41\n",
            "42\n",
            "43\n",
            "44\n",
            "45\n",
            "46\n",
            "47\n",
            "48\n",
            "49\n",
            "50\n",
            "51\n",
            "52\n",
            "53\n",
            "54\n",
            "55\n",
            "56\n",
            "57\n",
            "58\n",
            "59\n",
            "60\n",
            "61\n",
            "62\n",
            "63\n",
            "64\n",
            "65\n",
            "66\n",
            "67\n",
            "68\n",
            "69\n",
            "70\n",
            "71\n",
            "72\n",
            "73\n",
            "74\n",
            "75\n",
            "76\n",
            "77\n",
            "78\n",
            "79\n",
            "80\n",
            "81\n",
            "82\n",
            "83\n",
            "84\n",
            "85\n",
            "86\n",
            "87\n",
            "88\n",
            "89\n",
            "90\n",
            "91\n",
            "92\n",
            "93\n",
            "94\n",
            "95\n",
            "96\n",
            "97\n",
            "98\n",
            "99\n",
            "100\n",
            "101\n",
            "102\n",
            "103\n",
            "104\n",
            "105\n",
            "106\n",
            "107\n",
            "108\n",
            "109\n",
            "110\n",
            "111\n",
            "112\n",
            "113\n",
            "114\n",
            "115\n",
            "116\n",
            "117\n",
            "118\n",
            "119\n",
            "120\n",
            "1 2 3 4 5 6 7 8 9 10 11 12 13 14 15 16 17 18 19 20 21 22 23 24 25 26 27 28 29 30 31 32 33 34 35 36 37 38 39 40 41 42 43 44 45 46 47 48 49 50 51 52 53 54 55 56 57 58 59 60 61 62 63 64 65 66 67 68 69 70 71 72 73 74 75 76 77 78 79 80 81 82 83 84 85 86 87 88 89 90 91 92 93 94 95 96 97 98 99 100 101 102 103 104 105 106 107 108 109 110 111 112 113 114 115 116 117 118 119 120 \n"
          ]
        }
      ]
    },
    {
      "cell_type": "markdown",
      "metadata": {
        "id": "wmqYuO6rJrc9"
      },
      "source": [
        "Exercício 7\n",
        "\n",
        "Faça um programa que leia 5 números e informe o maior número. "
      ]
    },
    {
      "cell_type": "code",
      "metadata": {
        "colab": {
          "base_uri": "https://localhost:8080/"
        },
        "id": "FJBLqcsaJwyL",
        "outputId": "7322d6e9-cce0-4782-ee7d-b66e29982afd"
      },
      "source": [
        "num = float(input('Digite um número: '))\n",
        "\n",
        "for _ in range(4):\n",
        "  try:\n",
        "    maximo = max(num, float(input('Digite um número: ')))\n",
        "  \n",
        "  except ValueError:\n",
        "    print('Valor Inválido!')\n",
        "\n",
        "print(maximo)"
      ],
      "execution_count": null,
      "outputs": [
        {
          "output_type": "stream",
          "name": "stdout",
          "text": [
            "Digite um número: 3\n",
            "Digite um número: sdfsd\n",
            "Valor Inválido!\n",
            "Digite um número: 23\n",
            "Digite um número: 32\n",
            "Digite um número: 32\n",
            "32.0\n"
          ]
        }
      ]
    },
    {
      "cell_type": "markdown",
      "metadata": {
        "id": "xkhgggNHp8E1"
      },
      "source": [
        "Exercício 8\n",
        "\n",
        "Faça um programa que leia 5 números e informe a soma e a média dos números. "
      ]
    },
    {
      "cell_type": "code",
      "metadata": {
        "colab": {
          "base_uri": "https://localhost:8080/"
        },
        "id": "aYvjtOrWszNn",
        "outputId": "6ddbfc22-cfe5-4166-bb8f-2c9b2efa2543"
      },
      "source": [
        "soma = media = num = float(input('Digite um número: '))\n",
        "for n in range(2, 6):\n",
        "  soma +=  float(input('Digite um número: '))\n",
        "  media = soma / n\n",
        "  print(f'''soma=  {soma} e média = {media}''')\n",
        "\n",
        "      \n",
        "  \n",
        "      "
      ],
      "execution_count": null,
      "outputs": [
        {
          "output_type": "stream",
          "name": "stdout",
          "text": [
            "Digite um número: 2\n",
            "Digite um número: 3\n",
            "soma=  5.0 e média = 2.5\n",
            "Digite um número: 4\n",
            "soma=  9.0 e média = 3.0\n",
            "Digite um número: 5\n",
            "soma=  14.0 e média = 3.5\n",
            "Digite um número: 5\n",
            "soma=  19.0 e média = 3.8\n"
          ]
        }
      ]
    },
    {
      "cell_type": "markdown",
      "metadata": {
        "id": "5rNi9sc-vWVI"
      },
      "source": [
        "Exercício 9\n",
        "\n",
        "Faça um programa que imprima na tela apenas os números ímpares entre 1 e 50. "
      ]
    },
    {
      "cell_type": "code",
      "metadata": {
        "colab": {
          "base_uri": "https://localhost:8080/"
        },
        "id": "9XFspM2stLE1",
        "outputId": "201fbadb-2758-4653-f26f-c4be305deefe"
      },
      "source": [
        "for x in range(1, 50):\n",
        "  if x % 2 != 0:\n",
        "    print(x)\n",
        "    "
      ],
      "execution_count": null,
      "outputs": [
        {
          "output_type": "stream",
          "name": "stdout",
          "text": [
            "1\n",
            "3\n",
            "5\n",
            "7\n",
            "9\n",
            "11\n",
            "13\n",
            "15\n",
            "17\n",
            "19\n",
            "21\n",
            "23\n",
            "25\n",
            "27\n",
            "29\n",
            "31\n",
            "33\n",
            "35\n",
            "37\n",
            "39\n",
            "41\n",
            "43\n",
            "45\n",
            "47\n",
            "49\n"
          ]
        }
      ]
    },
    {
      "cell_type": "markdown",
      "metadata": {
        "id": "DCfC1s1TRl_X"
      },
      "source": [
        "# [Listas](https://wiki.python.org.br/ExerciciosListas)"
      ]
    },
    {
      "cell_type": "markdown",
      "metadata": {
        "id": "d0O2F9b3Yz99"
      },
      "source": [
        "Exercício 1\n",
        "\n",
        "Faça um Programa que leia um vetor de 5 números inteiros e mostre-os."
      ]
    },
    {
      "cell_type": "code",
      "metadata": {
        "colab": {
          "base_uri": "https://localhost:8080/"
        },
        "id": "bJ_WXXRyYzKW",
        "outputId": "3c1960c0-5427-4a0e-fca2-b6948dac8deb"
      },
      "source": [
        "lista = []\n",
        "\n",
        "for _ in range(5):\n",
        "  while True:\n",
        "    try:\n",
        "      num = int(input('Digite um número: '))\n",
        "    \n",
        "    except ValueError:\n",
        "      print('Valor Inválido!')\n",
        "    \n",
        "    else:\n",
        "      lista.append(num)\n",
        "      break\n",
        "\n",
        "for x in lista:\n",
        "  print(x)"
      ],
      "execution_count": null,
      "outputs": [
        {
          "output_type": "stream",
          "name": "stdout",
          "text": [
            "Digite um número: fgdffg\n",
            "Valor Inválido!\n",
            "Digite um número: sdfsdf\n",
            "Valor Inválido!\n",
            "Digite um número: fsdfsdf\n",
            "Valor Inválido!\n",
            "Digite um número: sdfsdf\n",
            "Valor Inválido!\n",
            "Digite um número: sdfsdf\n",
            "Valor Inválido!\n",
            "Digite um número: sdfsdf\n",
            "Valor Inválido!\n",
            "Digite um número: sfdfsdf\n",
            "Valor Inválido!\n",
            "Digite um número: 3\n",
            "Digite um número: sdfsdf\n",
            "Valor Inválido!\n",
            "Digite um número: sdfsdf\n",
            "Valor Inválido!\n",
            "Digite um número: sdfsdf\n",
            "Valor Inválido!\n",
            "Digite um número: 6.6\n",
            "Digite um número: sdfsdf\n",
            "Valor Inválido!\n",
            "Digite um número: sdfsdf\n",
            "Valor Inválido!\n",
            "Digite um número: 7.9\n",
            "Digite um número: sfdsdfsd\n",
            "Valor Inválido!\n",
            "Digite um número: 5.6\n",
            "Digite um número: sdfsdf\n",
            "Valor Inválido!\n",
            "Digite um número: 3.6\n",
            "3.0\n",
            "6.6\n",
            "7.9\n",
            "5.6\n",
            "3.6\n"
          ]
        }
      ]
    },
    {
      "cell_type": "markdown",
      "metadata": {
        "id": "w361gU7vfVj3"
      },
      "source": [
        "Exercício 2\n",
        "\n",
        "Faça um Programa que leia um vetor de 10 números reais e mostre-os na ordem inversa. "
      ]
    },
    {
      "cell_type": "code",
      "metadata": {
        "colab": {
          "base_uri": "https://localhost:8080/"
        },
        "id": "sF4rknVRfZrN",
        "outputId": "e955d22a-56c7-4eb0-c975-5d4f9c9c8bc3"
      },
      "source": [
        "lista = []\n",
        "for _ in range(10):\n",
        "  while True:\n",
        "    try:\n",
        "      num = float(input('Digite um número real: '))\n",
        "    \n",
        "    except ValueError:\n",
        "      print('Valor Inválido!')\n",
        "   \n",
        "    else:\n",
        "      lista.append(num)\n",
        "      break\n",
        "\n",
        "print(lista[::-1])"
      ],
      "execution_count": null,
      "outputs": [
        {
          "output_type": "stream",
          "name": "stdout",
          "text": [
            "Digite um número real: dfsdf\n",
            "Valor Inválido!\n",
            "Digite um número real: sdfsdf\n",
            "Valor Inválido!\n",
            "Digite um número real: 1\n",
            "Digite um número real: 2\n",
            "Digite um número real: 3\n",
            "Digite um número real: 4.5\n",
            "Digite um número real: 5.3\n",
            "Digite um número real: 56.898\n",
            "Digite um número real: 7\n",
            "Digite um número real: .9\n",
            "Digite um número real: -9.3\n",
            "Digite um número real: -56.9\n",
            "[-56.9, -9.3, 0.9, 7.0, 56.898, 5.3, 4.5, 3.0, 2.0, 1.0]\n"
          ]
        }
      ]
    },
    {
      "cell_type": "markdown",
      "metadata": {
        "id": "vBM2CKOzgU9y"
      },
      "source": [
        "Exercício 3\n",
        "\n",
        "Faça um Programa que leia 4 notas, mostre as notas e a média na tela. "
      ]
    },
    {
      "cell_type": "code",
      "metadata": {
        "colab": {
          "base_uri": "https://localhost:8080/"
        },
        "id": "Yw-FFV2PgWbw",
        "outputId": "5e8b37dd-dd9f-4a16-a461-7bd93610c829"
      },
      "source": [
        "notas =[]\n",
        "for _ in range(4):\n",
        "  while True:\n",
        "    try:\n",
        "      nota = float(input('Digite a nota: '))\n",
        "    \n",
        "    except:\n",
        "      print('Valor Inválido!')\n",
        "    \n",
        "    else:\n",
        "      notas.append(nota)\n",
        "      break\n",
        "\n",
        "soma = sum(notas)\n",
        "media = soma / len(notas)\n",
        "\n",
        "print(f'***Notas e Média')\n",
        "for c, v in enumerate(notas):\n",
        "  print(f'nota {c+1}= {v:.2f}')\n",
        "\n",
        "print(f'média = {media:.2f}')"
      ],
      "execution_count": null,
      "outputs": [
        {
          "output_type": "stream",
          "name": "stdout",
          "text": [
            "Digite a nota: 5.5\n",
            "Digite a nota: 6.6\n",
            "Digite a nota: 7.7\n",
            "Digite a nota: 8.8\n",
            "***Notas e Média\n",
            "nota 1= 5.50\n",
            "nota 2= 6.60\n",
            "nota 3= 7.70\n",
            "nota 4= 8.80\n",
            "média = 7.15\n"
          ]
        }
      ]
    },
    {
      "cell_type": "markdown",
      "metadata": {
        "id": "iaVKMISljBxn"
      },
      "source": [
        "Exercício 4\n",
        "\n",
        "Faça um Programa que leia um vetor de 10 caracteres, e diga quantas consoantes foram lidas. Imprima as consoantes. "
      ]
    },
    {
      "cell_type": "code",
      "metadata": {
        "colab": {
          "base_uri": "https://localhost:8080/"
        },
        "id": "lcV5hT_Rgod0",
        "outputId": "63a5b1a0-8868-4de4-d55a-8caa66d94604"
      },
      "source": [
        "lista_consoantes = 'bcdfghjklmnpqrstwvxyz'\n",
        "lista_consoantes = lista_consoantes + lista_consoantes.upper()\n",
        "while True:\n",
        "  vector_10 = input('Digite um 10 CARACTERES na tela: ')\n",
        "  \n",
        "  if len(vector_10) == 10:\n",
        "    break\n",
        "  \n",
        "  else:\n",
        "    print(f'Total caracteres inválidos! {len(vector_10)}')\n",
        "\n",
        "consoantes = []\n",
        "for x in  vector_10:\n",
        "  if x in lista_consoantes:\n",
        "    consoantes.append(x)\n",
        "\n",
        "print(f'''\n",
        "vetor caracteres: {vector_10}\n",
        "total de consoantes: {len(consoantes)}\n",
        "consoantes: {' '.join(consoantes)}''')\n",
        "\n",
        "\n"
      ],
      "execution_count": null,
      "outputs": [
        {
          "output_type": "stream",
          "name": "stdout",
          "text": [
            "Digite um 10 CARACTERES na tela: jXlua63!op\n",
            "\n",
            "vetor caracteres: jXlua63!op\n",
            "total de consoantes: 4\n",
            "consoantes: j X l p\n"
          ]
        }
      ]
    },
    {
      "cell_type": "markdown",
      "metadata": {
        "id": "P89M0CMZt_-7"
      },
      "source": [
        "Exercício 5\n",
        "\n",
        "Faça um Programa que leia 20 números inteiros e armazene-os num vetor. Armazene os números pares no vetor PAR e os números IMPARES no vetor impar. Imprima os três vetores. "
      ]
    },
    {
      "cell_type": "code",
      "metadata": {
        "colab": {
          "base_uri": "https://localhost:8080/"
        },
        "id": "Rgut9iBmt_B1",
        "outputId": "a62797b6-de14-4610-dd62-c2ca076daa28"
      },
      "source": [
        "numeros = []\n",
        "pares = []\n",
        "impares = []\n",
        "for _ in range(20):\n",
        "  while True:\n",
        "    try:\n",
        "      num  = int(input('Digite um número inteiro: '))\n",
        "    \n",
        "    except ValueError:\n",
        "      print('Valor Inválido!')\n",
        "    \n",
        "    else:\n",
        "      numeros.append(num)\n",
        "      if num % 2 == 0:\n",
        "        pares.append(num)\n",
        "      else:\n",
        "        impares.append(num)\n",
        "      break\n",
        "\n",
        "print(f'''\n",
        "números: {numeros}\n",
        "pares: {pares}\n",
        "impares: {impares}\n",
        "''')"
      ],
      "execution_count": null,
      "outputs": [
        {
          "output_type": "stream",
          "name": "stdout",
          "text": [
            "Digite um número inteiro: 5\n",
            "Digite um número inteiro: 12\n",
            "Digite um número inteiro: 75\n",
            "Digite um número inteiro: bvf\n",
            "Valor Inválido!\n",
            "Digite um número inteiro: 452\n",
            "Digite um número inteiro: 4.6\n",
            "Valor Inválido!\n",
            "Digite um número inteiro: 75\n",
            "Digite um número inteiro: 35\n",
            "Digite um número inteiro: 75\n",
            "Digite um número inteiro: -9\n",
            "Digite um número inteiro: 12\n",
            "Digite um número inteiro: -8\n",
            "Digite um número inteiro: 12\n",
            "Digite um número inteiro: 3\n",
            "Digite um número inteiro: 7\n",
            "Digite um número inteiro: 38\n",
            "Digite um número inteiro: 53\n",
            "Digite um número inteiro: 42\n",
            "Digite um número inteiro: 423\n",
            "Digite um número inteiro: 75\n",
            "Digite um número inteiro: 64\n",
            "Digite um número inteiro: 12\n",
            "\n",
            "números: [5, 12, 75, 452, 75, 35, 75, -9, 12, -8, 12, 3, 7, 38, 53, 42, 423, 75, 64, 12]\n",
            "pares: [12, 452, 12, -8, 12, 38, 42, 64, 12]\n",
            "impares: [5, 75, 75, 35, 75, -9, 3, 7, 53, 423, 75]\n",
            "\n"
          ]
        }
      ]
    },
    {
      "cell_type": "markdown",
      "metadata": {
        "id": "f6qMlCjB_mBb"
      },
      "source": [
        "Exercício 6\n",
        "\n",
        "Faça um Programa que peça as quatro notas de 10 alunos, calcule e armazene num vetor a média de cada aluno, imprima o número de alunos com média maior ou igual a 7.0. "
      ]
    },
    {
      "cell_type": "code",
      "metadata": {
        "colab": {
          "base_uri": "https://localhost:8080/"
        },
        "id": "kFywqnbV_smG",
        "outputId": "db605e8e-a454-4460-db88-544a15c8a34a"
      },
      "source": [
        "alunos = []\n",
        "for x in range(10):\n",
        "  alunos.append([])\n",
        "\n",
        "\n",
        "for c, v in enumerate(alunos):\n",
        "  for n in range(1,5):\n",
        "    while True:\n",
        "      try:\n",
        "        nota = float(input(f'Aluno {c+1} -- digite a nota {n}: '))\n",
        "\n",
        "      except ValueError:\n",
        "        print('Valor Inválido!')\n",
        "\n",
        "      else:\n",
        "        if  0 <= nota <= 10:\n",
        "          alunos[c].append(nota)\n",
        "          break\n",
        "        else:\n",
        "          print('Nota precisa ser entre Zero e DEZ!')\n",
        "  soma = sum(alunos[c])\n",
        "  media = soma / len(alunos[c])\n",
        "  alunos[c].append(media)  \n",
        "print()\n",
        "print(\"***ALUNOS COM MÉIDA >= 7\")\n",
        "\n",
        "for c, v in enumerate(alunos):\n",
        "  if alunos[c][-1] >= 7:\n",
        "    print(f'''\n",
        "    Aluno {c+1}, média: {alunos[c][-1]}''')\n",
        "print(),1\n",
        "print(alunos)"
      ],
      "execution_count": null,
      "outputs": [
        {
          "output_type": "stream",
          "name": "stdout",
          "text": [
            "Aluno 1 -- digite a nota 1: 6.3\n",
            "Aluno 1 -- digite a nota 2: 73.\n",
            "Nota precisa ser entre Zero e DEZ!\n",
            "Aluno 1 -- digite a nota 2: 7.6\n",
            "Aluno 1 -- digite a nota 3: 3.6\n",
            "Aluno 1 -- digite a nota 4: 2.3\n",
            "Aluno 2 -- digite a nota 1: 7.6\n",
            "Aluno 2 -- digite a nota 2: 2.5\n",
            "Aluno 2 -- digite a nota 3: 10\n",
            "Aluno 2 -- digite a nota 4: 10\n",
            "Aluno 3 -- digite a nota 1: 9.8\n",
            "Aluno 3 -- digite a nota 2: 7\n",
            "Aluno 3 -- digite a nota 3: 8.4\n",
            "Aluno 3 -- digite a nota 4: 2.3\n",
            "Aluno 4 -- digite a nota 1: 9.5\n",
            "Aluno 4 -- digite a nota 2: 7.9\n",
            "Aluno 4 -- digite a nota 3: 9.6\n",
            "Aluno 4 -- digite a nota 4: 5.8\n",
            "Aluno 5 -- digite a nota 1: 9.6\n",
            "Aluno 5 -- digite a nota 2: 3.6\n",
            "Aluno 5 -- digite a nota 3: 8.9\n",
            "Aluno 5 -- digite a nota 4: 9.6\n",
            "Aluno 6 -- digite a nota 1: 7.8\n",
            "Aluno 6 -- digite a nota 2: 8.9\n",
            "Aluno 6 -- digite a nota 3: 5\n",
            "Aluno 6 -- digite a nota 4: 7\n",
            "Aluno 7 -- digite a nota 1: 7\n",
            "Aluno 7 -- digite a nota 2: 8\n",
            "Aluno 7 -- digite a nota 3: 9\n",
            "Aluno 7 -- digite a nota 4: 1\n",
            "Aluno 8 -- digite a nota 1: 3\n",
            "Aluno 8 -- digite a nota 2: 4\n",
            "Aluno 8 -- digite a nota 3: 10\n",
            "Aluno 8 -- digite a nota 4: 10\n",
            "Aluno 9 -- digite a nota 1: 10\n",
            "Aluno 9 -- digite a nota 2: 8\n",
            "Aluno 9 -- digite a nota 3: 9\n",
            "Aluno 9 -- digite a nota 4: 3\n",
            "Aluno 10 -- digite a nota 1: 45\n",
            "Nota precisa ser entre Zero e DEZ!\n",
            "Aluno 10 -- digite a nota 1: 6\n",
            "Aluno 10 -- digite a nota 2: 6\n",
            "Aluno 10 -- digite a nota 3: 7\n",
            "Aluno 10 -- digite a nota 4: 10\n",
            "\n",
            "***ALUNOS COM MÉIDA >= 7\n",
            "\n",
            "    Aluno 2, média: 7.525\n",
            "\n",
            "    Aluno 4, média: 8.2\n",
            "\n",
            "    Aluno 5, média: 7.925000000000001\n",
            "\n",
            "    Aluno 6, média: 7.175\n",
            "\n",
            "    Aluno 9, média: 7.5\n",
            "\n",
            "    Aluno 10, média: 7.25\n",
            "\n",
            "[[6.3, 7.6, 3.6, 2.3, 4.95], [7.6, 2.5, 10.0, 10.0, 7.525], [9.8, 7.0, 8.4, 2.3, 6.875000000000001], [9.5, 7.9, 9.6, 5.8, 8.2], [9.6, 3.6, 8.9, 9.6, 7.925000000000001], [7.8, 8.9, 5.0, 7.0, 7.175], [7.0, 8.0, 9.0, 1.0, 6.25], [3.0, 4.0, 10.0, 10.0, 6.75], [10.0, 8.0, 9.0, 3.0, 7.5], [6.0, 6.0, 7.0, 10.0, 7.25]]\n"
          ]
        }
      ]
    },
    {
      "cell_type": "markdown",
      "metadata": {
        "id": "rYkh9wZLI_c_"
      },
      "source": [
        "Exercícios 7\n",
        "\n",
        "Faça um Programa que leia um vetor de 5 números inteiros, mostre a soma, a multiplicação e os números. "
      ]
    },
    {
      "cell_type": "code",
      "metadata": {
        "colab": {
          "base_uri": "https://localhost:8080/"
        },
        "id": "Fe-68AJiA_Lr",
        "outputId": "68a4a1be-94a9-4038-b1b1-a8b978a4e611"
      },
      "source": [
        "import math\n",
        "vetor = [1, 2, 3, 4, 5]\n",
        "\n",
        "soma = 0\n",
        "produto = 1\n",
        "\n",
        "for x in vetor:\n",
        "  soma += x\n",
        "  produto *= x \n",
        "\n",
        "for x in vetor:\n",
        "  print(x)\n",
        "\n",
        "print(f'soma: {soma}')\n",
        "print(f'produto: {produto}')"
      ],
      "execution_count": null,
      "outputs": [
        {
          "output_type": "stream",
          "name": "stdout",
          "text": [
            "1\n",
            "2\n",
            "3\n",
            "4\n",
            "5\n",
            "soma: 15\n",
            "produto: 120\n"
          ]
        }
      ]
    },
    {
      "cell_type": "markdown",
      "metadata": {
        "id": "lqtlsVg6PfOE"
      },
      "source": [
        "Exercício 8\n",
        "\n",
        "Faça um Programa que peça a idade e a altura de 5 pessoas, armazene cada informação no seu respectivo vetor. Imprima a idade e a altura na ordem inversa a ordem lida. "
      ]
    },
    {
      "cell_type": "code",
      "metadata": {
        "colab": {
          "base_uri": "https://localhost:8080/"
        },
        "id": "q7STq2SJTSn3",
        "outputId": "70b6e992-8fc3-451f-c507-04716ab7ad18"
      },
      "source": [
        "pessoas = []\n",
        "for k in range(5):\n",
        "  while True:\n",
        "    try:\n",
        "      idade = int(input(f'Pessoa {k+1}: Digite a idade: '))\n",
        "      altura = float(input(f'Pessoa {k+1}: Digite a altura: '))\n",
        "    except ValueError:\n",
        "      print('Valores Inválidos!')\n",
        "    else:\n",
        "      pessoas.append([idade, altura])\n",
        "      break\n",
        "\n",
        "print('**** Pessoas')\n",
        "for k, v in enumerate(pessoas):\n",
        "  print(f'Pessoa {k+1}: altura:{pessoas[k][-1]} idade:{pessoas[k][0]}')"
      ],
      "execution_count": null,
      "outputs": [
        {
          "output_type": "stream",
          "name": "stdout",
          "text": [
            "Pessoa 1: Digite a idade: 10\n",
            "Pessoa 1: Digite a altura: 1.23\n",
            "Pessoa 2: Digite a idade: 15\n",
            "Pessoa 2: Digite a altura: 1.68\n",
            "Pessoa 3: Digite a idade: 45\n",
            "Pessoa 3: Digite a altura: 2.1\n",
            "Pessoa 4: Digite a idade: 39\n",
            "Pessoa 4: Digite a altura: 1.98\n",
            "Pessoa 5: Digite a idade: 103\n",
            "Pessoa 5: Digite a altura: 1.82\n",
            "**** Pessoas\n",
            "Pessoa 1: altura:1.23 idade:10\n",
            "Pessoa 2: altura:1.68 idade:15\n",
            "Pessoa 3: altura:2.1 idade:45\n",
            "Pessoa 4: altura:1.98 idade:39\n",
            "Pessoa 5: altura:1.82 idade:103\n"
          ]
        }
      ]
    },
    {
      "cell_type": "markdown",
      "metadata": {
        "id": "PuQqSKiHXorZ"
      },
      "source": [
        "Exercicio 9\n",
        "\n",
        "Faça um Programa que leia um vetor A com 10 números inteiros, calcule e mostre a soma dos quadrados dos elementos do vetor. "
      ]
    },
    {
      "cell_type": "code",
      "metadata": {
        "colab": {
          "base_uri": "https://localhost:8080/"
        },
        "id": "7OwdPoFxXn7F",
        "outputId": "b7003e62-e8d0-43f9-84e9-0bf0019d8ec0"
      },
      "source": [
        "import random\n",
        "vetor_a = []\n",
        "for _ in range(10):\n",
        "  vetor_a.append(random.randint(0, 100))\n",
        "\n",
        "print(vetor_a)\n",
        "\n",
        "soma = 0\n",
        "for x in vetor_a:\n",
        "  quad = x**2\n",
        "  soma += quad\n",
        "\n",
        "print(f'soma dos quadrados dos elementos: {soma}')"
      ],
      "execution_count": null,
      "outputs": [
        {
          "output_type": "stream",
          "name": "stdout",
          "text": [
            "[83, 62, 59, 81, 91, 63, 21, 10, 83, 26]\n",
            "soma dos quadrados dos elementos: 41131\n"
          ]
        }
      ]
    },
    {
      "cell_type": "markdown",
      "metadata": {
        "id": "lfZ_af5JZ_fS"
      },
      "source": [
        "Exercício 10\n",
        "\n",
        "Faça um Programa que leia dois vetores com 10 elementos cada. Gere um terceiro vetor de 20 elementos, cujos valores deverão ser compostos pelos elementos intercalados dos dois outros vetores."
      ]
    },
    {
      "cell_type": "code",
      "metadata": {
        "colab": {
          "base_uri": "https://localhost:8080/"
        },
        "id": "aJ4PBEXbaFwq",
        "outputId": "a9e612fe-737a-4a26-e864-c1c8f99e0ae0"
      },
      "source": [
        "while True:\n",
        "  elementos_a = input('Digite 10 elementos do PRIMEIRO vetor separados por vírgula: ')\n",
        "  elementos_a = elementos_a.split(',')\n",
        "  if len(elementos_a) == 10:\n",
        "    break\n",
        "  else:\n",
        "    print('Quantidade de elementos inválida!')\n",
        "\n",
        "while True:\n",
        "  elementos_b = input('Digite 10 elementos do SEGUNDO vetor separados por vírgula: ')\n",
        "  elementos_b = elementos_b.split(',')\n",
        "  if len(elementos_b) == 10:\n",
        "    break\n",
        "  else:\n",
        "    print('Quantidade de elementos inválida!')\n",
        "\n",
        "elementos_intercalados = []\n",
        "for x in range(10):\n",
        "  elementos_intercalados.append(elementos_a[x])\n",
        "  elementos_intercalados.a ppend(elementos_b[x])\n",
        "\n",
        "\n",
        "print(f'''\n",
        "***ELEMENTOS INTERCALADOS\n",
        "a = {elementos_a}\n",
        "b = {elementos_b}\n",
        "elementos intercalados = {elementos_intercalados}\n",
        "''')"
      ],
      "execution_count": null,
      "outputs": [
        {
          "output_type": "stream",
          "name": "stdout",
          "text": [
            "Digite 10 elementos do PRIMEIRO vetor separados por vírgula: 1,3,5,7,9,11,13,15,17,19\n",
            "Digite 10 elementos do SEGUNDO vetor separados por vírgula: 2,4,6,8,10,12,14,16,18,20\n",
            "\n",
            "***ELEMENTOS INTERCALADOS\n",
            "a = ['1', '3', '5', '7', '9', '11', '13', '15', '17', '19']\n",
            "b = ['2', '4', '6', '8', '10', '12', '14', '16', '18', '20']\n",
            "elementos intercalados = ['1', '2', '3', '4', '5', '6', '7', '8', '9', '10', '11', '12', '13', '14', '15', '16', '17', '18', '19', '20']\n",
            "\n"
          ]
        }
      ]
    },
    {
      "cell_type": "markdown",
      "metadata": {
        "id": "XTqfOwLOiWK1"
      },
      "source": [
        "Exercício 11\n",
        "\n",
        "Altere o programa anterior, intercalando 3 vetores de 10 elementos cada. "
      ]
    },
    {
      "cell_type": "code",
      "metadata": {
        "colab": {
          "base_uri": "https://localhost:8080/"
        },
        "id": "iVP1QPLuihEP",
        "outputId": "2a0b330b-1d5b-4764-874d-d3fdb4ea8318"
      },
      "source": [
        "while True:\n",
        "  elementos_a = input('Digite 10 elementos do PRIMEIRO vetor separados por vírgula: ')\n",
        "  elementos_a = elementos_a.split(',')\n",
        "  if len(elementos_a) == 10:\n",
        "    break\n",
        "  else:\n",
        "    print('Quantidade de elementos inválida!')\n",
        "\n",
        "while True:\n",
        "  elementos_b = input('Digite 10 elementos do SEGUNDO vetor separados por vírgula: ')\n",
        "  elementos_b = elementos_b.split(',')\n",
        "  if len(elementos_b) == 10:\n",
        "    break\n",
        "  else:\n",
        "    print('Quantidade de elementos inválida!')\n",
        "\n",
        "while True:\n",
        "  elementos_c = input('Digite 10 elementos do TERCEIRO vetor separados por vírgula: ')\n",
        "  elementos_c = elementos_c.split(',')\n",
        "  if len(elementos_c) == 10:\n",
        "    break\n",
        "  else:\n",
        "    print('Quantidade de elementos inválida!')\n",
        "\n",
        "elementos_intercalados = []\n",
        "for x in range(10):\n",
        "  elementos_intercalados.append(elementos_a[x])\n",
        "  elementos_intercalados.append(elementos_b[x])\n",
        "  elementos_intercalados.a,ppend(elementos_c[x])\n",
        "\n",
        "\n",
        "print(f'''\n",
        "***ELEMENTOS INTERCALADOS\n",
        "a = {elementos_a}\n",
        "b = {elementos_b}\n",
        "b = {elementos_c}\n",
        "elementos intercalados = {elementos_intercalados}\n",
        "''')"
      ],
      "execution_count": null,
      "outputs": [
        {
          "output_type": "stream",
          "name": "stdout",
          "text": [
            "Digite 10 elementos do PRIMEIRO vetor separados por vírgula: 1,2,3,4,5,6,7,8\n",
            "Quantidade de elementos inválida!\n",
            "Digite 10 elementos do PRIMEIRO vetor separados por vírgula: 1,2,3,4,5,6,7,8,9,10\n",
            "Digite 10 elementos do SEGUNDO vetor separados por vírgula: a,b,c,d,e,f,g,h,i,j,k,\n",
            "Quantidade de elementos inválida!\n",
            "Digite 10 elementos do SEGUNDO vetor separados por vírgula: a,b,c,d,e,f,g,h,i,j\n",
            "Digite 10 elementos do Terceiro vetor separados por vírgula: !,@,#,$,%,¨,&,*,(,)\n",
            "\n",
            "***ELEMENTOS INTERCALADOS\n",
            "a = ['1', '2', '3', '4', '5', '6', '7', '8', '9', '10']\n",
            "b = ['a', 'b', 'c', 'd', 'e', 'f', 'g', 'h', 'i', 'j']\n",
            "b = ['!', '@', '#', '$', '%', '¨', '&', '*', '(', ')']\n",
            "elementos intercalados = ['1', 'a', '!', '2', 'b', '@', '3', 'c', '#', '4', 'd', '$', '5', 'e', '%', '6', 'f', '¨', '7', 'g', '&', '8', 'h', '*', '9', 'i', '(', '10', 'j', ')']\n",
            "\n"
          ]
        }
      ]
    },
    {
      "cell_type": "markdown",
      "metadata": {
        "id": "tLAYM5hKk_wo"
      },
      "source": [
        "Exercício 12\n",
        "\n",
        "Foram anotadas as idades e alturas de 30 alunos. Faça um Programa que determine quantos alunos com mais de 13 anos possuem altura inferior à média de altura desses alunos. "
      ]
    },
    {
      "cell_type": "code",
      "metadata": {
        "colab": {
          "base_uri": "https://localhost:8080/"
        },
        "id": "LasetwJMlBtD",
        "outputId": "eb180e16-8f86-46fb-ee9b-bed45a77f817"
      },
      "source": [
        "import random\n",
        "alunos = []\n",
        "for _ in range(30):\n",
        "  idade = random.randint(1, 27)\n",
        "  \n",
        "  if 0 <= idade <= 12:\n",
        "    altura = random.uniform(1, 1.2)\n",
        "  else:\n",
        "    altura = random.uniform(1, 1.7)\n",
        "  \n",
        "  alunos.append([idade, altura])\n",
        "\n",
        "print(alunos)\n",
        "\n",
        "soma_alturas = 0\n",
        "\n",
        "for k, v in enumerate(alunos):\n",
        "  soma_alturas +=  v[1]\n",
        "\n",
        "media = soma_alturas / len(alunos)\n",
        "\n",
        "print('***ALUNOS MAIORES DE 13 ANOS COM ALTURA INFERIOR À MEDIA:')\n",
        "print(f'média = {media}')\n",
        "for k, v in enumerate(alunos):\n",
        "  if  13 < v[0] and v[1]<= media:\n",
        "    print(f'''\n",
        "    aluno {k+1}: idade = {v[0]}; altura = {v[1]}\n",
        "    ''')"
      ],
      "execution_count": null,
      "outputs": [
        {
          "output_type": "stream",
          "name": "stdout",
          "text": [
            "[[4, 1.1619964157959983], [12, 1.105157236003559], [6, 1.1624939135650316], [7, 1.1137088213717006], [24, 1.5697913003834802], [26, 1.2383072857436643], [13, 1.2108350783133899], [5, 1.1945501601631618], [3, 1.1782406801371041], [6, 1.1697875151056623], [8, 1.0128563893646403], [19, 1.2221967934213536], [23, 1.2985738783440204], [15, 1.3891320073898767], [26, 1.494059846438546], [1, 1.0008398617146308], [4, 1.1604010229520436], [27, 1.4178986160114244], [17, 1.4757238023865007], [24, 1.1851978832857961], [16, 1.5046817392893979], [6, 1.1453345799496126], [9, 1.194049130222904], [26, 1.5390760913355157], [2, 1.117275354462044], [15, 1.4094842324023058], [5, 1.1959282888396263], [14, 1.676874252635876], [8, 1.1861077603934518], [4, 1.0731782408536203]]\n",
            "***ALUNOS MAIORES DE 13 ANOS COM ALTURA INFERIOR À MEDIA:\n",
            "média = 1.2601246059425315\n",
            "\n",
            "    aluno 6: idade = 26; altura = 1.2383072857436643\n",
            "    \n",
            "\n",
            "    aluno 12: idade = 19; altura = 1.2221967934213536\n",
            "    \n",
            "\n",
            "    aluno 20: idade = 24; altura = 1.1851978832857961\n",
            "    \n"
          ]
        }
      ]
    },
    {
      "cell_type": "markdown",
      "metadata": {
        "id": "eBtXvmGMuNPg"
      },
      "source": [
        "Exercícios 13\n",
        "\n",
        "Faça um programa que receba a temperatura média de cada mês do ano e armazene-as em uma lista. Após isto, calcule a média anual das temperaturas e mostre todas as temperaturas acima da média anual, e em que mês elas ocorreram (mostrar o mês por extenso: 1 – Janeiro, 2 – Fevereiro, . . . ). "
      ]
    },
    {
      "cell_type": "code",
      "metadata": {
        "colab": {
          "base_uri": "https://localhost:8080/"
        },
        "id": "31kRIkjWuZOP",
        "outputId": "c4c2ab69-d779-428f-f043-b7b7abd1dc96"
      },
      "source": [
        "import random\n",
        "meses = []\n",
        "nome_meses = ['1 - Janeiro', '2 - Fevereiro', '3 - Março', '4 - Abril', '5 - Maio', '6 - Junho', '7 - Julho', '8 - Agosto', '9 - Setembro', '10 - Outubro', '11 - Novembro', '12 - Dezembro']\n",
        "for _ in range(12):\n",
        "  meses.append(random.uniform(24 , 47))\n",
        "media = sum(meses) / len(meses)\n",
        "\n",
        "print(meses)\n",
        "\n",
        "print(f'''\n",
        "***MESES ACIMA DA MÉDIA ANUAL\n",
        "Média Anual: {media}\n",
        "\n",
        "''')\n",
        "\n",
        "for k, v in enumerate(meses):\n",
        "  if v >=  media:\n",
        "    print(f'{nome_meses[k]}, temperatura = {v:.2f}')\n",
        "\n"
      ],
      "execution_count": null,
      "outputs": [
        {
          "output_type": "stream",
          "name": "stdout",
          "text": [
            "[26.569606862949833, 29.440528311028483, 46.50444753674866, 45.68232800372248, 25.968768911574973, 41.283476824602516, 46.3023333299451, 41.08830344524589, 32.612496327681384, 34.212413775863226, 25.761235456100625, 28.365384274848395]\n",
            "\n",
            "***MESES ACIMA DA MÉDIA ANUAL\n",
            "Média Anual: 35.315943588359296\n",
            "\n",
            "\n",
            "3 - Março, temperatura = 46.50\n",
            "4 - Abril, temperatura = 45.68\n",
            "6 - Junho, temperatura = 41.28\n",
            "7 - Julho, temperatura = 46.30\n",
            "8 - Agosto, temperatura = 41.09\n"
          ]
        }
      ]
    },
    {
      "cell_type": "markdown",
      "metadata": {
        "id": "miz4CHus-xMU"
      },
      "source": [
        "Exercício 14\n",
        "\n",
        "Utilizando listas faça um programa que faça 5 perguntas para uma pessoa sobre um crime. As perguntas são:\n",
        "\n",
        "    \"Telefonou para a vítima?\"\n",
        "    \"Esteve no local do crime?\"\n",
        "    \"Mora perto da vítima?\"\n",
        "    \"Devia para a vítima?\"\n",
        "    \"Já trabalhou com a vítima?\" \n",
        "    O programa deve no final emitir uma classificação sobre a participação da pessoa no crime. Se a pessoa responder positivamente a 2 questões ela deve ser classificada como \"Suspeita\", entre 3 e 4 como \"Cúmplice\" e 5 como \"Assassino\". Caso contrário, ele será classificado como \"Inocente\". "
      ]
    },
    {
      "cell_type": "code",
      "metadata": {
        "colab": {
          "base_uri": "https://localhost:8080/"
        },
        "id": "LbtLtIHG-vy1",
        "outputId": "990114f5-8cda-4f71-a1d0-7db83bd9cc06"
      },
      "source": [
        "perguntas =[\"Telefonou para a vítima?\", \"Esteve no local do crime?\", \"Mora perto da vítima?\", \"Devia para a vítima?\", \"Já trabalhou com a vítima?\" ]\n",
        "respostas = []\n",
        "\n",
        "for pergunta in perguntas:\n",
        "  while True:\n",
        "    resposta = input(f'{pergunta} ')\n",
        "    \n",
        "    if resposta.lower() in ['s', 'sim', 'y', 'yes']:\n",
        "      respostas.append(1)\n",
        "      break\n",
        "    \n",
        "    elif resposta.lower() in ['n', 'não', 'no']:\n",
        "      respostas.append(0)\n",
        "      break\n",
        "    \n",
        "    else:\n",
        "      print('Resposta Inválida!')\n",
        "\n",
        "num_positivas = sum(respostas)\n",
        "\n",
        "print(respostas)\n",
        "\n",
        "if num_positivas == 2:\n",
        "  print('Suspeita')\n",
        "\n",
        "elif 3 <= num_positivas <= 4:\n",
        "  print('Cúmplice')\n",
        "\n",
        "elif num_positivas == 5:\n",
        "  print('Assassino')\n",
        "\n",
        "else:\n",
        "  print('Inocente')\n",
        "\n",
        "\n"
      ],
      "execution_count": null,
      "outputs": [
        {
          "output_type": "stream",
          "name": "stdout",
          "text": [
            "Telefonou para a vítima? SIM\n",
            "Esteve no local do crime? SIM\n",
            "Mora perto da vítima? NÃO\n",
            "Devia para a vítima? NÃO\n",
            "Já trabalhou com a vítima? NÃO\n",
            "[1, 1, 0, 0, 0]\n",
            "Suspeita\n"
          ]
        }
      ]
    },
    {
      "cell_type": "markdown",
      "metadata": {
        "id": "xl_zeE-hEEIf"
      },
      "source": [
        "Exercício 15\n",
        "\n",
        "Faça um programa que leia um número indeterminado de valores, correspondentes a notas, encerrando a entrada de dados quando for informado um valor igual a -1 (que não deve ser armazenado). Após esta entrada de dados, faça:\n",
        "\n",
        "    Mostre a quantidade de valores que foram lidos;\n",
        "    Exiba todos os valores na ordem em que foram informados, um ao lado do outro;\n",
        "    Exiba todos os valores na ordem inversa à que foram informados, um abaixo do outro;\n",
        "    Calcule e mostre a soma dos valores;\n",
        "    Calcule e mostre a média dos valores;\n",
        "    Calcule e mostre a quantidade de valores acima da média calculada;\n",
        "    Calcule e mostre a quantidade de valores abaixo de sete;\n",
        "    Encerre o programa com uma mensagem; "
      ]
    },
    {
      "cell_type": "code",
      "metadata": {
        "colab": {
          "base_uri": "https://localhost:8080/"
        },
        "id": "ApkBv053EG7r",
        "outputId": "73500301-e16e-4e79-d4a4-4f7539538152"
      },
      "source": [
        "print('*** Digite as notas, para finalizar digite o valor -1.')\n",
        "notas = []\n",
        "notas_abaixo_sete = []\n",
        "\n",
        "while True:\n",
        "  try:\n",
        "    nota = float(input('Digite uma nota: '))\n",
        "  \n",
        "  except ValueError:\n",
        "    print('Nota Inválida!')\n",
        "\n",
        "  else:\n",
        "    if nota == -1:\n",
        "      break\n",
        "    \n",
        "    elif nota > 10 or nota < 0:\n",
        "      print('Notas precisam ser de 0 até 10')\n",
        "    \n",
        "    else:\n",
        "      notas.append(nota)\n",
        "\n",
        "      if nota < 7:\n",
        "        notas_abaixo_sete.append(nota)\n",
        "\n",
        "tamanho = len(notas)\n",
        "soma = sum(notas)\n",
        "media = soma /tamanho\n",
        "valores = [str(x) for x in notas]\n",
        "print(f'''\n",
        "quantidade de valores lidos = {tamanho}\n",
        "valores na ordem informada = {\" - \".join(valores)}\n",
        "valores na ordem inversa informada:\n",
        "''')\n",
        "\n",
        "notas_acima_media = []\n",
        "\n",
        "notas_inversas = notas[::-1]\n",
        "for nota in notas_inversas:\n",
        "  if media < nota:\n",
        "    notas_acima_media.append(nota)\n",
        "  print(nota)\n",
        "\n",
        "print(f'''\n",
        "soma dos valores = {soma}\n",
        "média dos valaroes = {media}\n",
        "notas acima da média = {notas_acima_media}\n",
        "notas abaixo de 7 = {notas_abaixo_sete}\n",
        "\n",
        "'Programa Finalizado!'\n",
        "''')"
      ],
      "execution_count": null,
      "outputs": [
        {
          "output_type": "stream",
          "name": "stdout",
          "text": [
            "*** Digite as notas, para finalizar digite o valor -1.\n",
            "Digite uma nota: 10\n",
            "Digite uma nota: 5.5\n",
            "Digite uma nota: 7\n",
            "Digite uma nota: 9\n",
            "Digite uma nota: -1\n",
            "\n",
            "quantidade de valores lidos = 4\n",
            "valores na ordem informada = 10.0 - 5.5 - 7.0 - 9.0\n",
            "valores na ordem inversa informada:\n",
            "\n",
            "9.0\n",
            "7.0\n",
            "5.5\n",
            "10.0\n",
            "\n",
            "soma dos valores = 31.5\n",
            "média dos valaroes = 7.875\n",
            "notas acima da média = [9.0, 10.0]\n",
            "notas abaixo de 7 = [5.5]\n",
            "\n",
            "'Programa Finalizado!'\n",
            "\n"
          ]
        }
      ]
    },
    {
      "cell_type": "code",
      "metadata": {
        "colab": {
          "base_uri": "https://localhost:8080/"
        },
        "id": "lucq8PW7OKdi",
        "outputId": "cf55a824-f94c-4dee-c626-d10c1ab156f1"
      },
      "source": [
        "list_x =[1,2,3,4,5,8,9]\n",
        "list_z = list_x[::]\n",
        "list_y = list_x\n",
        "print(list_z, id(list_z))\n",
        "print(list_y, id(list_y))\n",
        "print(list_x, id(list_x))"
      ],
      "execution_count": null,
      "outputs": [
        {
          "output_type": "stream",
          "name": "stdout",
          "text": [
            "[1, 2, 3, 4, 5, 8, 9] 140294841306080\n",
            "[1, 2, 3, 4, 5, 8, 9] 140294842203904\n",
            "[1, 2, 3, 4, 5, 8, 9] 140294842203904\n"
          ]
        }
      ]
    },
    {
      "cell_type": "markdown",
      "metadata": {
        "id": "Y_ojQwDF3B2E"
      },
      "source": [
        "Exercício 16\n",
        "\n",
        "Utilize uma lista para resolver o problema a seguir. Uma empresa paga seus vendedores com base em comissões. O vendedor recebe \\$200 por semana mais 9 por cento de suas vendas brutas daquela semana. Por exemplo, um vendedor que teve vendas brutas de \\$3000 em uma semana recebe \\$200 mais 9 por cento de \\$3000, ou seja, um total de \\$470. Escreva um programa (usando um array de contadores) que determine quantos vendedores receberam salários nos seguintes intervalos de valores:\n",
        "\n",
        "    $200 - $299\n",
        "    $300 - $399\n",
        "    $400 - $499\n",
        "    $500 - $599\n",
        "    $600 - $699\n",
        "    $700 - $799\n",
        "    $800 - $899\n",
        "    $900 - $999\n",
        "    $1000 em diante \n",
        "\n",
        "Desafio: Crie ma fórmula para chegar na posição da lista a partir do salário, sem fazer vários ifs aninhados. "
      ]
    },
    {
      "cell_type": "code",
      "metadata": {
        "id": "00_FQuv32uU_",
        "colab": {
          "base_uri": "https://localhost:8080/",
          "height": 250
        },
        "outputId": "99e47884-db8f-4a77-cac2-c6e465dfdfdd"
      },
      "source": [
        "salarios = [200, 250, 320, 413, 516, 680, 791, 877, 999, 1000, 2000, 3000]\n",
        "faixas = [ x // 100 - 2 if x < 1000 else 8 for x in salarios]\n",
        "print(contagem_faixa_salarial)\n",
        "\n",
        "indices = []\n",
        "[indices.append(i) for i in faixas if i not in indices]\n",
        "contagem = [faixas.count(i) for i in indices]\n",
        "contagem"
      ],
      "execution_count": null,
      "outputs": [
        {
          "output_type": "error",
          "ename": "NameError",
          "evalue": "ignored",
          "traceback": [
            "\u001b[0;31m---------------------------------------------------------------------------\u001b[0m",
            "\u001b[0;31mNameError\u001b[0m                                 Traceback (most recent call last)",
            "\u001b[0;32m<ipython-input-1-5e55b64c6604>\u001b[0m in \u001b[0;36m<module>\u001b[0;34m()\u001b[0m\n\u001b[1;32m      1\u001b[0m \u001b[0msalarios\u001b[0m \u001b[0;34m=\u001b[0m \u001b[0;34m[\u001b[0m\u001b[0;36m200\u001b[0m\u001b[0;34m,\u001b[0m \u001b[0;36m250\u001b[0m\u001b[0;34m,\u001b[0m \u001b[0;36m320\u001b[0m\u001b[0;34m,\u001b[0m \u001b[0;36m413\u001b[0m\u001b[0;34m,\u001b[0m \u001b[0;36m516\u001b[0m\u001b[0;34m,\u001b[0m \u001b[0;36m680\u001b[0m\u001b[0;34m,\u001b[0m \u001b[0;36m791\u001b[0m\u001b[0;34m,\u001b[0m \u001b[0;36m877\u001b[0m\u001b[0;34m,\u001b[0m \u001b[0;36m999\u001b[0m\u001b[0;34m,\u001b[0m \u001b[0;36m1000\u001b[0m\u001b[0;34m,\u001b[0m \u001b[0;36m2000\u001b[0m\u001b[0;34m,\u001b[0m \u001b[0;36m3000\u001b[0m\u001b[0;34m]\u001b[0m\u001b[0;34m\u001b[0m\u001b[0;34m\u001b[0m\u001b[0m\n\u001b[1;32m      2\u001b[0m \u001b[0mfaixas\u001b[0m \u001b[0;34m=\u001b[0m \u001b[0;34m[\u001b[0m \u001b[0mx\u001b[0m \u001b[0;34m//\u001b[0m \u001b[0;36m100\u001b[0m \u001b[0;34m-\u001b[0m \u001b[0;36m2\u001b[0m \u001b[0;32mif\u001b[0m \u001b[0mx\u001b[0m \u001b[0;34m<\u001b[0m \u001b[0;36m1000\u001b[0m \u001b[0;32melse\u001b[0m \u001b[0;36m8\u001b[0m \u001b[0;32mfor\u001b[0m \u001b[0mx\u001b[0m \u001b[0;32min\u001b[0m \u001b[0msalarios\u001b[0m\u001b[0;34m]\u001b[0m\u001b[0;34m\u001b[0m\u001b[0;34m\u001b[0m\u001b[0m\n\u001b[0;32m----> 3\u001b[0;31m \u001b[0mprint\u001b[0m\u001b[0;34m(\u001b[0m\u001b[0mcontagem_faixa_salarial\u001b[0m\u001b[0;34m)\u001b[0m\u001b[0;34m\u001b[0m\u001b[0;34m\u001b[0m\u001b[0m\n\u001b[0m\u001b[1;32m      4\u001b[0m \u001b[0;34m\u001b[0m\u001b[0m\n\u001b[1;32m      5\u001b[0m \u001b[0mindices\u001b[0m \u001b[0;34m=\u001b[0m \u001b[0;34m[\u001b[0m\u001b[0;34m]\u001b[0m\u001b[0;34m\u001b[0m\u001b[0;34m\u001b[0m\u001b[0m\n",
            "\u001b[0;31mNameError\u001b[0m: name 'contagem_faixa_salarial' is not defined"
          ]
        }
      ]
    },
    {
      "cell_type": "markdown",
      "metadata": {
        "id": "DgAhfamKOX0K"
      },
      "source": [
        "# [Exercícios Funções](https://wiki.python.org.br/ExerciciosFuncoes)"
      ]
    },
    {
      "cell_type": "markdown",
      "metadata": {
        "id": "8mAzWZkpTGIH"
      },
      "source": [
        "Exercício 1\n",
        "\n",
        "Faça um programa para imprimir:\n",
        "\n",
        "        1\n",
        "        2   2\n",
        "        3   3   3\n",
        "        .....\n",
        "        n   n   n   n   n   n  ... n\n",
        "\n",
        "    para um n informado pelo usuário. Use uma função que receba um valor n inteiro e imprima até a n-ésima linha. "
      ]
    },
    {
      "cell_type": "code",
      "metadata": {
        "colab": {
          "base_uri": "https://localhost:8080/"
        },
        "id": "pDp_QbKFOkAz",
        "outputId": "6b369a4e-0263-4602-a6ef-5e14de5ebd47"
      },
      "source": [
        "dir(str)\n",
        "\n",
        "\n",
        "def line(num):\n",
        "  return (f'{num} ' * num).strip()\n",
        "\n",
        "def colum(num):\n",
        "  ret_msg =''\n",
        "  for x in range(1, num + 1):\n",
        "    ret_msg += line(x) + '\\n'\n",
        "  return ret_msg\n",
        "\n",
        "print(colum(10))\n",
        " \n"
      ],
      "execution_count": null,
      "outputs": [
        {
          "output_type": "stream",
          "name": "stdout",
          "text": [
            "1\n",
            "2 2\n",
            "3 3 3\n",
            "4 4 4 4\n",
            "5 5 5 5 5\n",
            "6 6 6 6 6 6\n",
            "7 7 7 7 7 7 7\n",
            "8 8 8 8 8 8 8 8\n",
            "9 9 9 9 9 9 9 9 9\n",
            "10 10 10 10 10 10 10 10 10 10\n",
            "\n"
          ]
        }
      ]
    },
    {
      "cell_type": "markdown",
      "metadata": {
        "id": "pl3fBy6sTNC_"
      },
      "source": [
        "Exercício 2\n",
        "\n",
        "Faça um programa para imprimir:\n",
        "\n",
        "        1\n",
        "        1   2\n",
        "        1   2   3\n",
        "        .....\n",
        "        1   2   3   ...  n\n",
        "\n",
        "    para um n informado pelo usuário. Use uma função que receba um valor n inteiro imprima até a n-ésima linha. "
      ]
    },
    {
      "cell_type": "code",
      "metadata": {
        "colab": {
          "base_uri": "https://localhost:8080/"
        },
        "id": "VZLOW9qkPbwc",
        "outputId": "0cd2e47f-f4df-44c8-f80c-1e1cfbfc56b7"
      },
      "source": [
        "def coluna(num):\n",
        "  msg = ''\n",
        "  for x in range(1, num + 1):\n",
        "    msg += str(x) + ' '\n",
        "  return msg.strip()\n",
        "\n",
        "def linha(num):\n",
        "  msg = ''\n",
        "  for x in range(1, num + 1):\n",
        "    msg += coluna(x) + '\\n'\n",
        "  return msg\n",
        "\n",
        "\n",
        "print(linha(10))"
      ],
      "execution_count": null,
      "outputs": [
        {
          "output_type": "stream",
          "name": "stdout",
          "text": [
            "1\n",
            "1 2\n",
            "1 2 3\n",
            "1 2 3 4\n",
            "1 2 3 4 5\n",
            "1 2 3 4 5 6\n",
            "1 2 3 4 5 6 7\n",
            "1 2 3 4 5 6 7 8\n",
            "1 2 3 4 5 6 7 8 9\n",
            "1 2 3 4 5 6 7 8 9 10\n",
            "\n"
          ]
        }
      ]
    },
    {
      "cell_type": "markdown",
      "metadata": {
        "id": "8MssITo6rTSO"
      },
      "source": [
        ""
      ]
    },
    {
      "cell_type": "code",
      "metadata": {
        "colab": {
          "base_uri": "https://localhost:8080/"
        },
        "id": "q6s_MHb0P_eS",
        "outputId": "6e2d83c3-c9e6-4488-c5e3-1075cd0bbd42"
      },
      "source": [
        "help('rs'.rstrip)"
      ],
      "execution_count": null,
      "outputs": [
        {
          "output_type": "stream",
          "name": "stdout",
          "text": [
            "Help on built-in function rstrip:\n",
            "\n",
            "rstrip(chars=None, /) method of builtins.str instance\n",
            "    Return a copy of the string with trailing whitespace removed.\n",
            "    \n",
            "    If chars is given and not None, remove characters in chars instead.\n",
            "\n"
          ]
        }
      ]
    },
    {
      "cell_type": "markdown",
      "metadata": {
        "id": "GwDCLY4dEa5_"
      },
      "source": [
        "# [Exercícios com Strings](https://wiki.python.org.br/ExerciciosComStrings)"
      ]
    },
    {
      "cell_type": "markdown",
      "metadata": {
        "id": "lsui6qJKEu5F"
      },
      "source": [
        "Exercício 1\n",
        "\n",
        "Tamanho de strings. Faça um programa que leia 2 strings e informe o conteúdo delas seguido do seu comprimento. Informe também se as duas strings possuem o mesmo comprimento e são iguais ou diferentes no conteúdo.\n",
        "\n",
        "    Compara duas strings\n",
        "    String 1: Brasil Hexa 2006\n",
        "    String 2: Brasil! Hexa 2006!\n",
        "    Tamanho de \"Brasil Hexa 2006\": 16 caracteres\n",
        "    Tamanho de \"Brasil! Hexa 2006!\": 18 caracteres\n",
        "    As duas strings são de tamanhos diferentes.\n",
        "    As duas strings possuem conteúdo diferente."
      ]
    },
    {
      "cell_type": "code",
      "metadata": {
        "id": "PcA9-L7JEmWB"
      },
      "source": [
        "def compara_string(string_1, string_2):\n",
        "  tamanho_1 = len(string_1)\n",
        "  tamanho_2 = len(string_2)\n",
        "  is_tamanho_igual = tamanho_1 == tamanho_2\n",
        "  is_conteudo_igual = string_1 == string_2\n",
        "  \n",
        "  print(f'''\n",
        "  Compara duas strings\n",
        "  String 1: {string_1}\n",
        "  String 2: {string_2}\n",
        "  Tamanho de \"{string_1}\": {tamanho_1} caracteres\n",
        "  Tamanho de \"{string_2}\": {tamanho_2} caracteres\n",
        "  As duas strings são de tamanhos {'iguais.' if is_tamanho_igual else 'diferentes.'}\n",
        "  As duas strings possuem conteúdos {'iguais.' if is_conteudo_igual else 'diferentes.'}\n",
        "  ''')\n",
        "\n",
        "\n",
        "\n"
      ],
      "execution_count": null,
      "outputs": []
    },
    {
      "cell_type": "code",
      "metadata": {
        "colab": {
          "base_uri": "https://localhost:8080/"
        },
        "id": "6MlosP6MHFy-",
        "outputId": "60dcebac-5234-4f47-a231-68f1b794137d"
      },
      "source": [
        "compara_string('Brasil Hexa 2006','Brasil! Hexa 2006!')"
      ],
      "execution_count": null,
      "outputs": [
        {
          "output_type": "stream",
          "name": "stdout",
          "text": [
            "\n",
            "  Compara duas strings\n",
            "  String 1: Brasil Hexa 2006\n",
            "  String 2: Brasil! Hexa 2006!\n",
            "  Tamanho de \"Brasil Hexa 2006\": 16 caracteres\n",
            "  Tamanho de \"Brasil! Hexa 2006!\": 18 caracteres\n",
            "  As duas strings são de tamanhos diferentes.\n",
            "  As duas strings possuem conteúdos diferentes.\n",
            "  \n"
          ]
        }
      ]
    },
    {
      "cell_type": "markdown",
      "metadata": {
        "id": "jbZK9zDyI6Mx"
      },
      "source": [
        "Exercicio 2\n",
        "\n",
        "Nome ao contrário em maiúsculas. Faça um programa que permita ao usuário digitar o seu nome e em seguida mostre o nome do usuário de trás para frente utilizando somente letras maiúsculas. Dica: lembre−se que ao informar o nome o usuário pode digitar letras maiúsculas ou minúsculas. "
      ]
    },
    {
      "cell_type": "code",
      "metadata": {
        "colab": {
          "base_uri": "https://localhost:8080/"
        },
        "id": "HzEjkNV1JAzO",
        "outputId": "eb18a902-4080-47ac-acbc-1a78fc3506d9"
      },
      "source": [
        "nome = 'bruno torres mendes da silva'\n",
        "letras_reversas = ''.join(reversed(nome.upper()))\n",
        "palavras_reversas = ' '.join([i for i in (nome.upper().split())[::-1]])\n",
        "letras_reversas_palavras_fixas =' '.join([i[::-1] for i in (nome.upper().split())])\n",
        "print(f'''\n",
        "reverso por letras: {letras_reversas}\n",
        "reverso por palavras: {palavras_reversas}\n",
        "reverso por letras nas palavras: {letras_reversas_palavras_fixas}''')"
      ],
      "execution_count": null,
      "outputs": [
        {
          "output_type": "stream",
          "name": "stdout",
          "text": [
            "\n",
            "reverso por letras: AVLIS AD SEDNEM SERROT ONURB\n",
            "reverso por palavras: SILVA DA MENDES TORRES BRUNO\n",
            "reverso por letras nas palavras: ONURB SERROT SEDNEM AD AVLIS\n"
          ]
        }
      ]
    },
    {
      "cell_type": "markdown",
      "metadata": {
        "id": "q91A7E7ll0-6"
      },
      "source": [
        "Exercício 3\n",
        "\n",
        "Nome na vertical. Faça um programa que solicite o nome do usuário e imprima-o na vertical.\n",
        "\n",
        "    F\n",
        "    U\n",
        "    L\n",
        "    A\n",
        "    N\n",
        "    O"
      ]
    },
    {
      "cell_type": "code",
      "metadata": {
        "colab": {
          "base_uri": "https://localhost:8080/"
        },
        "id": "I1x0cKf7OSpj",
        "outputId": "57128509-3104-4ceb-9b1d-d1e426faca2c"
      },
      "source": [
        "\n",
        "nome = input('Digite seu nome: ')\n",
        "\n",
        "for letra in nome:\n",
        "  print(letra)"
      ],
      "execution_count": null,
      "outputs": [
        {
          "output_type": "stream",
          "name": "stdout",
          "text": [
            "Digite seu nome: bruno torres\n",
            "b\n",
            "r\n",
            "u\n",
            "n\n",
            "o\n",
            " \n",
            "t\n",
            "o\n",
            "r\n",
            "r\n",
            "e\n",
            "s\n"
          ]
        }
      ]
    },
    {
      "cell_type": "markdown",
      "metadata": {
        "id": "pkWU-ZbPmg9j"
      },
      "source": [
        "Exercício 4\n",
        "\n",
        "Nome na vertical em escada. Modifique o programa anterior de forma a mostrar o nome em formato de escada.\n",
        "\n",
        "    F\n",
        "    FU\n",
        "    FUL\n",
        "    FULA\n",
        "    FULAN\n",
        "    FULANO"
      ]
    },
    {
      "cell_type": "code",
      "metadata": {
        "colab": {
          "base_uri": "https://localhost:8080/"
        },
        "id": "ZBIlNHjdml-O",
        "outputId": "9c0e4b7a-3f9a-481a-a91a-58b3e5fd7eb1"
      },
      "source": [
        "nome = input('Digite seu nome: ')\n",
        "\n",
        "for i in range(len(nome) + 1):\n",
        "  print(nome[:i])"
      ],
      "execution_count": null,
      "outputs": [
        {
          "output_type": "stream",
          "name": "stdout",
          "text": [
            "Digite seu nome: FULANO\n",
            "\n",
            "F\n",
            "FU\n",
            "FUL\n",
            "FULA\n",
            "FULAN\n",
            "FULANO\n"
          ]
        }
      ]
    },
    {
      "cell_type": "markdown",
      "metadata": {
        "id": "wWbnCbLFocQ9"
      },
      "source": [
        "Exercício \n",
        "\n",
        "Nome na vertical em escada invertida. Altere o programa anterior de modo que a escada seja invertida.\n",
        "\n",
        "    FULANO\n",
        "    FULAN\n",
        "    FULA\n",
        "    FUL\n",
        "    FU\n",
        "    F"
      ]
    },
    {
      "cell_type": "code",
      "metadata": {
        "colab": {
          "base_uri": "https://localhost:8080/"
        },
        "id": "fBL0noNPnaAs",
        "outputId": "380bdcf8-8445-499c-953a-03ae95f6cd31"
      },
      "source": [
        "nome = 'FULANO'\n",
        "\n",
        "for i in range(len(nome)):\n",
        "  print(nome[:(-i if i !=0 else None)])\n"
      ],
      "execution_count": null,
      "outputs": [
        {
          "output_type": "stream",
          "name": "stdout",
          "text": [
            "FULANO\n",
            "FULAN\n",
            "FULA\n",
            "FUL\n",
            "FU\n",
            "F\n"
          ]
        }
      ]
    },
    {
      "cell_type": "markdown",
      "metadata": {
        "id": "6PRlHOxOtUKQ"
      },
      "source": [
        "Exercício 6\n",
        "\n",
        "Data por extenso. Faça um programa que solicite a data de nascimento (dd/mm/aaaa) do usuário e imprima a data com o nome do mês por extenso.\n",
        "\n",
        "    Data de Nascimento: 29/10/1973\n",
        "    Você nasceu em  29 de Outubro de 1973."
      ]
    },
    {
      "cell_type": "code",
      "metadata": {
        "colab": {
          "base_uri": "https://localhost:8080/"
        },
        "id": "8riNlMpmsdnk",
        "outputId": "b225d38d-fe55-49e7-f1b7-5fc435811dd7"
      },
      "source": [
        "def check_is_data_valida(data):\n",
        "  is_ano_valido = is_mes_valido = is_dia_valido = False\n",
        "\n",
        "  if len(data) == 10 and data[2] == '/' and data[5] == '/':\n",
        "    try:\n",
        "      dia = int(data_nascimento[:2])\n",
        "      mes = int(data_nascimento[3:5])\n",
        "      ano = int(data_nascimento[-4:])\n",
        "    \n",
        "    except ValueError:\n",
        "      print('Valores Inválidos!')\n",
        "    \n",
        "    else:\n",
        "      \n",
        "      is_ano_valido = 0 <= ano <= 3000\n",
        "      is_ano_bissexto = ano % 4 == 0\n",
        "      is_mes_valido = 1 <= mes <= 12\n",
        "      \n",
        "      if is_mes_valido:\n",
        "        finais_meses = [30, 28, 31, 30, 31, 30, 31, 31, 30, 31, 30, 31]\n",
        "        \n",
        "        if is_ano_bissexto:\n",
        "          finais_meses[1] = 29\n",
        "        \n",
        "        is_dia_valido = 1 <= dia <= finais_meses[mes - 1]\n",
        "    \n",
        "    finally:\n",
        "      return is_ano_valido and is_mes_valido and is_dia_valido, (dia, mes, ano)\n",
        "  \n",
        "  else:\n",
        "    return is_ano_valido and is_mes_valido and is_dia_valido, (0, 0, 0)\n",
        "\n",
        "def get_data_extenso(data):\n",
        "  meses = ['Janeiro', 'Fevereiro', 'Março', 'Abril', 'Maio', 'Junho', 'Julho', 'Agosto', 'Setembro', 'Outubro', 'Novembro', 'Dezembro']\n",
        "  return f'{data[0]} de {meses[data[1] -1]} de {data[2]}'\n",
        "\n",
        "while True:\n",
        "  data_nascimento = input('Digite sua data de nascimento no formato dd/mm/aaaa: ')\n",
        "  is_data_valida, data = check_is_data_valida(data_nascimento)\n",
        "  \n",
        "  if is_data_valida:\n",
        "    print(f'Data de Nascimento: {data_nascimento}')\n",
        "    print(f'Você nasceu em {get_data_extenso(data)}')\n",
        "    break\n",
        "  \n",
        "  else:\n",
        "    print(f'Data Inválida {data}')\n",
        "\n",
        "\n",
        "\n",
        "\n"
      ],
      "execution_count": null,
      "outputs": [
        {
          "output_type": "stream",
          "name": "stdout",
          "text": [
            "Digite sua data de nascimento no formato dd/mm/aaaa: 12/12/1912\n",
            "Data de Nascimento: 12/12/1912\n",
            "Você nasceu em 12 de Dezembro de 1912\n"
          ]
        }
      ]
    },
    {
      "cell_type": "markdown",
      "metadata": {
        "id": "gI5t5xp1Hi6v"
      },
      "source": [
        "Exercicio 7\n",
        "\n",
        "Conta espaços e vogais. Dado uma string com uma frase informada pelo usuário (incluindo espaços em branco), conte:\n",
        "\n",
        "    quantos espaços em branco existem na frase.\n",
        "    quantas vezes aparecem as vogais a, e, i, o, u. "
      ]
    },
    {
      "cell_type": "code",
      "metadata": {
        "colab": {
          "base_uri": "https://localhost:8080/"
        },
        "id": "HTDiqZxNH41g",
        "outputId": "2c4d5f59-0324-46a4-8923-79ba0e19cfe4"
      },
      "source": [
        "frase = (input('Digite uma frase: ')).lower()\n",
        "print(frase)\n",
        "qtd_branco = frase.count(' ')\n",
        "qtd_a = frase.count('a')\n",
        "qtd_e = frase.count('e')\n",
        "qtd_i = frase.count('i')\n",
        "qtd_o = frase.count('o')\n",
        "qtd_u = frase.count('u')\n",
        "\n",
        "print(f'''\n",
        "***Contador de Vogais e Espaços Vazios:\n",
        "\n",
        "quantidade de espaços vazios: {qtd_branco}\n",
        "quantidade de a: {qtd_a}\n",
        "quantidade de e: {qtd_e}\n",
        "quantidade de i: {qtd_i}\n",
        "quantidade de o: {qtd_o}\n",
        "quantidade de u: {qtd_u}\n",
        "''')"
      ],
      "execution_count": null,
      "outputs": [
        {
          "output_type": "stream",
          "name": "stdout",
          "text": [
            "Digite uma frase: Testando o programa contador de vogais\n",
            "testando o programa contador de vogais\n",
            "\n",
            "***Contador de Vogais e Espaços Vazios:\n",
            "\n",
            "quantidade de espaços vazios: 5\n",
            "quantidade de a: 5\n",
            "quantidade de e: 2\n",
            "quantidade de i: 1\n",
            "quantidade de o: 6\n",
            "quantidade de u: 0\n",
            "\n"
          ]
        }
      ]
    },
    {
      "cell_type": "markdown",
      "metadata": {
        "id": "bIpV5oZ-P8ji"
      },
      "source": [
        "Exercício 8\n",
        "\n",
        "Palíndromo. Um palíndromo é uma seqüência de caracteres cuja leitura é idêntica se feita da direita para esquerda ou vice−versa. Por exemplo: OSSO e OVO são palíndromos. Em textos mais complexos os espaços e pontuação são ignorados. A frase SUBI NO ONIBUS é o exemplo de uma frase palíndroma onde os espaços foram ignorados. Faça um programa que leia uma seqüência de caracteres, mostre−a e diga se é um palíndromo ou não. "
      ]
    },
    {
      "cell_type": "code",
      "metadata": {
        "colab": {
          "base_uri": "https://localhost:8080/"
        },
        "id": "FfVHI6pdRtpF",
        "outputId": "d11c3fa8-390f-4d00-cffa-422044a0ab4c"
      },
      "source": [
        "sequencia = ''.join((input('Digite uma sequência ')).lower().strip().split())\n",
        "if sequencia == sequencia[::-1]:\n",
        "  print('palíndromo')\n",
        "\n",
        "else:\n",
        "  print('não é palíndromo')"
      ],
      "execution_count": null,
      "outputs": [
        {
          "output_type": "stream",
          "name": "stdout",
          "text": [
            "Digite uma sequência SUBI NO ONIBUS \n",
            "palíndromo\n"
          ]
        }
      ]
    },
    {
      "cell_type": "markdown",
      "metadata": {
        "id": "Q3wORI9wTCox"
      },
      "source": [
        "Exercício 9\n",
        "\n",
        "Verificação de CPF. Desenvolva um programa que solicite a digitação de um número de CPF no formato xxx.xxx.xxx-xx e indique se é um número válido ou inválido através da validação dos dígitos verificadores e dos caracteres de formatação. "
      ]
    },
    {
      "cell_type": "code",
      "metadata": {
        "colab": {
          "base_uri": "https://localhost:8080/"
        },
        "id": "agzJ0zEgOQp4",
        "outputId": "935e1cdd-f722-4ed8-bc3e-b80a9a473f5f"
      },
      "source": [
        "cpf_orig = input('Digite seu CPF: ')\n",
        "is_formatacao_valida = len(cpf_orig) == 14 and cpf_orig[3] == '.' and cpf_orig[7] == '.' and cpf_orig[11] == '-'\n",
        "\n",
        "if is_formatacao_valida:\n",
        "  cpf = cpf_orig.replace('.', '')\n",
        "  cpf = cpf.replace('-', '')\n",
        "  \n",
        "  try:\n",
        "    cpf = int(cpf)\n",
        "  \n",
        "  except ValueError:\n",
        "    print('Numeração Inválida!')\n",
        "  \n",
        "  else:\n",
        "    print(f'''Cpf Válido! {cpf_orig}''')\n",
        "else:\n",
        "  print('Formatação Inválida!')\n"
      ],
      "execution_count": null,
      "outputs": [
        {
          "output_type": "stream",
          "name": "stdout",
          "text": [
            "Digite seu CPF: 010.704.375-06\n",
            "Cpf Válido! 010.704.375-06\n"
          ]
        }
      ]
    },
    {
      "cell_type": "markdown",
      "metadata": {
        "id": "r4j86mNgZWI6"
      },
      "source": [
        "Exercício 9\n",
        "\n",
        "Número por extenso. Escreva um programa que solicite ao usuário a digitação de um número até 99 e imprima-o na tela por extenso. "
      ]
    },
    {
      "cell_type": "code",
      "metadata": {
        "colab": {
          "base_uri": "https://localhost:8080/"
        },
        "id": "BOKdPsqdI2Hz",
        "outputId": "09f8c776-4570-4397-e470-b2327a397fb7"
      },
      "source": [
        "restos = ['um', 'dois', 'três', 'quatro', 'cinco', 'seis', 'sete', 'oito', 'nove']\n",
        "fora_padrao =['onze','doze', 'treze', 'quatorze', 'quinze', 'dezesseis', 'dezessete', 'dezoito', 'dezenove,']\n",
        "dividendos = ['dez', 'vinte', 'trinta', 'quarenta', 'cinquenta', 'sessenta', 'setenta', 'oitenta', 'noventa']\n",
        "\n",
        "while True:\n",
        "  try:\n",
        "    num = int(input('Digite um número inteiro de 0 até 99: '))\n",
        "    \n",
        "    if num == -1:\n",
        "      print('fim')\n",
        "      break\n",
        "  \n",
        "  except ValueError:\n",
        "    print('Digitação Inválida!')\n",
        "  \n",
        "  else:\n",
        "    if 0<= num <= 99:\n",
        "      dividendo = num // 10\n",
        "      resto = num % 10\n",
        "      num_txt = ''\n",
        "\n",
        "      if dividendo == 0 and resto == 0:\n",
        "        num_txt = f'zero'\n",
        "\n",
        "      elif dividendo == 0 and resto >= 1:\n",
        "        num_txt =f'{restos[resto-1]}'\n",
        "\n",
        "      elif dividendo == 1 and resto >= 1:\n",
        "        num_txt =f'{fora_padrao[resto-1]}'\n",
        "      \n",
        "      elif dividendo >= 1 and resto == 0:\n",
        "        num_txt =f'{dividendos[dividendo - 1]}'\n",
        "      \n",
        "      elif dividendo >= 1 and resto > 0:\n",
        "        num_txt =f'{dividendos[dividendo - 1]} e {restos[resto-1]}'\n",
        "      \n",
        "      else:\n",
        "        num_txt ='número não identificado!'\n",
        "      \n",
        "      print(num_txt)\n",
        "\n",
        "    else:\n",
        "      print('Número Inválido')\n",
        "\n"
      ],
      "execution_count": null,
      "outputs": [
        {
          "output_type": "stream",
          "name": "stdout",
          "text": [
            "Digite um número inteiro de 0 até 99: 65\n",
            "sessenta e cinco\n",
            "Digite um número inteiro de 0 até 99: 46\n",
            "quarenta e seis\n",
            "Digite um número inteiro de 0 até 99: 15\n",
            "quinze\n",
            "Digite um número inteiro de 0 até 99: 33\n",
            "trinta e três\n",
            "Digite um número inteiro de 0 até 99: 55\n",
            "cinquenta e cinco\n",
            "Digite um número inteiro de 0 até 99: -1\n",
            "fim\n"
          ]
        }
      ]
    },
    {
      "cell_type": "markdown",
      "metadata": {
        "id": "FLnM0rGXjW7x"
      },
      "source": [
        "Jogo de Forca. Desenvolva um jogo da forca. O programa terá uma lista de palavras lidas de um arquivo texto e escolherá uma aleatoriamente. O jogador poderá errar 6 vezes antes de ser enforcado.\n",
        "\n",
        "    Digite uma letra: A\n",
        "    -> Você errou pela 1ª vez. Tente de novo!\n",
        "\n",
        "    Digite uma letra: O\n",
        "    A palavra é: _ _ _ _ O\n",
        "\n",
        "    Digite uma letra: E\n",
        "    A palavra é: _ E _ _ O\n",
        "\n",
        "    Digite uma letra: S\n",
        "    -> Você errou pela 2ª vez. Tente de novo!"
      ]
    },
    {
      "cell_type": "code",
      "metadata": {
        "colab": {
          "base_uri": "https://localhost:8080/"
        },
        "id": "6J_xtTczjV7T",
        "outputId": "c6c16de1-0cb2-4ae8-f694-6e2a2e396b43"
      },
      "source": [
        "palavra_secreta = 'churrasco'\n",
        "lista_secreta = list(palavra_secreta)\n",
        "forca = [' _ '] * len(palavra_secreta)\n",
        "letras_escolhidas = []\n",
        "erro = 0\n",
        "max_erros = 6\n",
        "\n",
        "while True:\n",
        "  letra_escolhida = input('Digite uma letra: ')\n",
        "  \n",
        "  if len(letra_escolhida) != 1:\n",
        "    print('Digite apenas uma letra por vez!')\n",
        "\n",
        "  elif letra_escolhida in letras_escolhidas:\n",
        "    print('Esta letra já foi escolhida')\n",
        "  \n",
        "  else:\n",
        "    letras_escolhidas.append(letra_escolhida)\n",
        "    \n",
        "    if letra_escolhida not in palavra_secreta:\n",
        "      erro += 1\n",
        "      \n",
        "      if erro == max_erros:\n",
        "        print(f'-> Você errou pela {erro}ª vez. GAME OVER! ')\n",
        "        break\n",
        "      \n",
        "      else:\n",
        "        print(f'-> Você errou pela {erro}ª vez. Tente de novo! ')\n",
        "      \n",
        "      \n",
        "    else:\n",
        "      for k, v in enumerate(lista_secreta):\n",
        "        if letra_escolhida == v:\n",
        "          forca[k] = lista_secreta[k]\n",
        "\n",
        "      acertos = \"\".join(forca)\n",
        "\n",
        "      print(f'A palavra é: {acertos}')\n",
        "\n",
        "      if acertos ==  palavra_secreta:\n",
        "        print('Você GANHOU!')\n",
        "        break\n",
        "\n",
        "\n"
      ],
      "execution_count": null,
      "outputs": [
        {
          "output_type": "stream",
          "name": "stdout",
          "text": [
            "Digite uma letra: rr\n",
            "Digite apenas uma letra por vez!\n",
            "Digite uma letra: c\n",
            "A palavra é: c _  _  _  _  _  _ c _ \n",
            "Digite uma letra: h\n",
            "A palavra é: ch _  _  _  _  _ c _ \n",
            "Digite uma letra: u\n",
            "A palavra é: chu _  _  _  _ c _ \n",
            "Digite uma letra: r\n",
            "A palavra é: churr _  _ c _ \n",
            "Digite uma letra: a\n",
            "A palavra é: churra _ c _ \n",
            "Digite uma letra: s\n",
            "A palavra é: churrasc _ \n",
            "Digite uma letra: a\n",
            "Esta letra já foi escolhida\n",
            "Digite uma letra: t\n",
            "-> Você errou pela 1ª vez. Tente de novo! \n",
            "Digite uma letra: a\n",
            "Esta letra já foi escolhida\n",
            "Digite uma letra: e\n",
            "-> Você errou pela 2ª vez. Tente de novo! \n",
            "Digite uma letra: o\n",
            "A palavra é: churrasco\n",
            "Você GANHOU!\n"
          ]
        }
      ]
    },
    {
      "cell_type": "code",
      "metadata": {
        "colab": {
          "base_uri": "https://localhost:8080/"
        },
        "id": "gf0r8rmySapX",
        "outputId": "7f10f5be-fc84-47b5-ea20-0c1f8d222326"
      },
      "source": [
        "'rr' in 'churrasco'"
      ],
      "execution_count": null,
      "outputs": [
        {
          "output_type": "execute_result",
          "data": {
            "text/plain": [
              "True"
            ]
          },
          "metadata": {},
          "execution_count": 7
        }
      ]
    },
    {
      "cell_type": "code",
      "metadata": {
        "id": "CK3nj6mzx4Rs",
        "colab": {
          "base_uri": "https://localhost:8080/"
        },
        "outputId": "547d8868-6a8c-4de2-9ae7-6f8a32a25709"
      },
      "source": [
        "my = '123.123.123-123'\n",
        "\n",
        "help(my.isdigit)\n"
      ],
      "execution_count": null,
      "outputs": [
        {
          "output_type": "stream",
          "name": "stdout",
          "text": [
            "Help on built-in function isdigit:\n",
            "\n",
            "isdigit() method of builtins.str instance\n",
            "    Return True if the string is a digit string, False otherwise.\n",
            "    \n",
            "    A string is a digit string if all characters in the string are digits and there\n",
            "    is at least one character in the string.\n",
            "\n"
          ]
        }
      ]
    },
    {
      "cell_type": "markdown",
      "metadata": {
        "id": "ECU9Pv4CD-0f"
      },
      "source": [
        "# [Exercícios de Arquivos](https://wiki.python.org.br/ExerciciosArquivos)"
      ]
    },
    {
      "cell_type": "code",
      "metadata": {
        "id": "A78vaS0RyiMw"
      },
      "source": [
        "from google.colab import drive\n",
        "drive.mount('/content/drive')"
      ],
      "execution_count": null,
      "outputs": []
    },
    {
      "cell_type": "markdown",
      "metadata": {
        "id": "Iaa4un7tEtrh"
      },
      "source": [
        "### Exercício 1\n",
        "\n",
        "Faça um programa que leia um arquivo texto contendo uma lista de endereços IP e gere um outro arquivo, contendo um relatório dos endereços IP válidos e inválidos.\n",
        "\n",
        "    O arquivo de entrada possui o seguinte formato: \n",
        "\n",
        "200.135.80.9\n",
        "\n",
        "192.168.1.1\n",
        "\n",
        "8.35.67.74\n",
        "\n",
        "257.32.4.5\n",
        "\n",
        "85.345.1.2\n",
        "\n",
        "1.2.3.4\n",
        "\n",
        "9.8.234.5\n",
        "\n",
        "192.168.0.256\n",
        "\n",
        "    O arquivo de saída possui o seguinte formato: \n",
        "\n",
        "[Endereços válidos:]\n",
        "\n",
        "200.135.80.9\n",
        "\n",
        "192.168.1.1\n",
        "\n",
        "8.35.67.74\n",
        "\n",
        "1.2.3.4\n",
        "\n",
        "\n",
        "[Endereços inválidos:]\n",
        "\n",
        "257.32.4.5\n",
        "\n",
        "85.345.1.2\n",
        "\n",
        "9.8.234.5\n",
        "\n",
        "192.168.0.256"
      ]
    },
    {
      "cell_type": "code",
      "metadata": {
        "id": "MlpkgH5LJDU_"
      },
      "source": [
        "def validar_ip(ip: str):\n",
        "  ip_partes = ip.split('.')\n",
        "  \n",
        "  if len(ip_partes) != 4 :\n",
        "    return False\n",
        "\n",
        "  try:\n",
        "    for x in ip_partes:\n",
        "      if not 0 <= int(x) <= 255:\n",
        "        return False\n",
        "      \n",
        "    return True\n",
        "    \n",
        "  except ValueError:\n",
        "    return False\n"
      ],
      "execution_count": null,
      "outputs": []
    },
    {
      "cell_type": "code",
      "metadata": {
        "colab": {
          "base_uri": "https://localhost:8080/"
        },
        "id": "KSNABWMpMMnJ",
        "outputId": "ef9a8681-bdbc-4be5-8fb4-4a6e0d952003"
      },
      "source": [
        "\n",
        "ips_validos = []\n",
        "ips_invalidos = []\n",
        "\n",
        "with open('sample_data/ips.txt','r') as arquivo:\n",
        "  for linha in arquivo:\n",
        "    ip = linha.strip()\n",
        "    if validar_ip(ip):\n",
        "      ips_validos.append(ip)\n",
        "      print(f'{ip} válido')\n",
        "    else:\n",
        "      ips_invalidos.append(ip)\n",
        "      print(f'{ip} inválido')\n"
      ],
      "execution_count": null,
      "outputs": [
        {
          "output_type": "stream",
          "name": "stdout",
          "text": [
            "200.135.80.9 válido\n",
            "192.168.1.1 válido\n",
            "8.35.67.74 válido\n",
            "257.32.4.5 inválido\n",
            "85.345.1.2 inválido\n",
            "1.2.3.4 válido\n",
            "9.8.234.5 válido\n",
            "192.168.0.256 inválido\n",
            "192.168. inválido\n",
            "255.255.255.255 válido\n",
            "A.V.0.256 inválido\n",
            "192.B. inválido\n"
          ]
        }
      ]
    },
    {
      "cell_type": "code",
      "metadata": {
        "id": "J2CuGp30njFi"
      },
      "source": [
        "with open('sample_data/ips_saida.txt','w') as arquivo:\n",
        "  arquivo.writelines('[Endereços Válidos]\\n')\n",
        "  for ip in ips_validos:\n",
        "    arquivo.writelines(f'{ip}\\n')\n",
        "  arquivo.writelines('\\n')\n",
        "  arquivo.writelines('\\n')\n",
        "  arquivo.writelines('[Endereços Inválidos]\\n')\n",
        "  for ip in ips_invalidos:\n",
        "    arquivo.writelines(f'{ip}\\n')"
      ],
      "execution_count": null,
      "outputs": []
    },
    {
      "cell_type": "markdown",
      "metadata": {
        "id": "c2V8nGhAqN31"
      },
      "source": [
        "## Exercício 2\n",
        "\n",
        "A ACME Inc., uma empresa de 500 funcionários, está tendo problemas de espaço em disco no seu servidor de arquivos. Para tentar resolver este problema, o Administrador de Rede precisa saber qual o espaço ocupado pelos usuários, e identificar os usuários com maior espaço ocupado. Através de um programa, baixado da Internet, ele conseguiu gerar o seguinte arquivo, chamado \"usuarios.txt\":\n",
        "\n",
        "alexandre       456123789\n",
        "\n",
        "anderson        1245698456\n",
        "\n",
        "antonio         123456456\n",
        "\n",
        "carlos          91257581\n",
        "\n",
        "cesar           987458\n",
        "\n",
        "rosemary        789456125\n",
        "\n",
        "Neste arquivo, o nome do usuário possui 15 caracteres. A partir deste arquivo, você deve criar um programa que gere um relatório, chamado \"relatório.txt\", no seguinte formato:\n",
        "\n",
        "ACME Inc.               Uso do espaço em disco pelos usuários\n",
        "------------------------------------------------------------------------\n",
        "Nr.  Usuário        Espaço utilizado     % do uso\n",
        "\n",
        "1    alexandre       434,99 MB             16,85%\n",
        "\n",
        "2    anderson       1187,99 MB             46,02%\n",
        "\n",
        "3    antonio         117,73 MB              4,56%\n",
        "\n",
        "4    carlos           87,03 MB              3,37%\n",
        "\n",
        "5    cesar             0,94 MB              0,04%\n",
        "\n",
        "6    rosemary        752,88 MB             29,16%\n",
        "\n",
        "Espaço total ocupado: 2581,57 MB\n",
        "\n",
        "Espaço médio ocupado: 430,26 MB\n",
        "\n",
        "O arquivo de entrada deve ser lido uma única vez, e os dados armazenados em memória, caso sejam necessários, de forma a agilizar a execução do programa. A conversão da espaço ocupado em disco, de bytes para megabytes deverá ser feita através de uma função separada, que será chamada pelo programa principal. O cálculo do percentual de uso também deverá ser feito através de uma função, que será chamada pelo programa principal. "
      ]
    },
    {
      "cell_type": "code",
      "metadata": {
        "id": "IaqWOqKiw23C"
      },
      "source": [
        "def converter_byte_to_megabyte(num):\n",
        "  return int(num) / 1_048_576"
      ],
      "execution_count": null,
      "outputs": []
    },
    {
      "cell_type": "code",
      "metadata": {
        "colab": {
          "base_uri": "https://localhost:8080/"
        },
        "id": "JYmnrll_tDHH",
        "outputId": "ad86aa77-34e3-44d6-d4f5-d9d86c2fd78c"
      },
      "source": [
        "usuarios = []\n",
        "\n",
        "with open('sample_data/usuarios.txt', 'r') as arquivo:\n",
        "  for linha in arquivo:\n",
        "    usuario = linha.strip()\n",
        "    usuarios.append((usuario[:16],converter_byte_to_megabyte(usuario[16:])))\n",
        "\n",
        "total_megas = sum([v for k, v in usuarios])\n",
        "media_megas = total_megas / len(usuarios)\n",
        "usuarios = [(k, v, v/total_megas) for (k, v) in usuarios]\n",
        "\n",
        "print(usuarios)\n"
      ],
      "execution_count": null,
      "outputs": [
        {
          "output_type": "stream",
          "name": "stdout",
          "text": [
            "[('alexandre       ', 434.9935426712036, 0.1684991436018679), ('anderson        ', 1187.990623474121, 0.4601801705680585), ('antonio         ', 117.73725128173828, 0.04560671381277526), ('carlos          ', 87.03001117706299, 0.033711954115329186), ('cesar           ', 0.9417133331298828, 0.00036478217395237254), ('rosemary        ', 752.884030342102, 0.29163723572801675)]\n"
          ]
        }
      ]
    },
    {
      "cell_type": "code",
      "metadata": {
        "id": "W09RlNwhzNy7"
      },
      "source": [
        "just_c1 = 10\n",
        "just_c2 = 15\n",
        "just_c3 = 10\n",
        "just_c4 = 20\n",
        "\n",
        "titulo = f'''{'ACME Inc.'.ljust(20)}{'Uso do espaço em disco pelos usuários'}\n",
        "{'-'*75}\n",
        "'''\n",
        "\n",
        "cabecalho_txt = f'''{'Nr.'.ljust(just_c1)}{'Usuário'.ljust(just_c2)}{'Espaço utilizado'.center(just_c3)}{'% do uso'.center(just_c4)}\n",
        "'''\n",
        "\n",
        "usuarios_format = []\n",
        "for k, v in enumerate(usuarios):\n",
        "  usuario_numero = f'{k}'.ljust(just_c1)\n",
        "  usuario_nome = f'{v[0]}'.ljust(just_c2)\n",
        "  usuario_espaco = f'{v[1]:.2f} MB'.replace('.',',').rjust(just_c3)\n",
        "  usuario_espaco_percent = f'{v[2]:.2%}'.replace('.',',').rjust(just_c4)\n",
        "  \n",
        "  usuarios_format.append(f'''\n",
        "{usuario_numero}{usuario_nome}{usuario_espaco}{usuario_espaco_percent}''') \n",
        "\n",
        "rodape = f'''\n",
        "\n",
        "\n",
        "Espaço total ocupado: {total_megas:.2f} MB\n",
        "Espaço médio ocupado: {media_megas:.2f} MB'''\n",
        "\n",
        "saida_txt = f'''{titulo}{cabecalho_txt}{''.join(usuarios_format)}{rodape}'''\n",
        "  \n",
        "with open('sample_data/relatorio.txt','w') as arquivo:\n",
        "  arquivo.writelines(saida_txt)\n",
        "  \n"
      ],
      "execution_count": null,
      "outputs": []
    },
    {
      "cell_type": "code",
      "metadata": {
        "id": "GvNb6gMeqTK4",
        "colab": {
          "base_uri": "https://localhost:8080/"
        },
        "outputId": "361b5c4f-6485-4d09-dbf4-d27332c30ff0"
      },
      "source": [
        "fill ='_'\n",
        "for n in range(1,11):\n",
        "  print(f'The number is {n:0>5}')\n"
      ],
      "execution_count": null,
      "outputs": [
        {
          "output_type": "stream",
          "name": "stdout",
          "text": [
            "The number is 00001\n",
            "The number is 00002\n",
            "The number is 00003\n",
            "The number is 00004\n",
            "The number is 00005\n",
            "The number is 00006\n",
            "The number is 00007\n",
            "The number is 00008\n",
            "The number is 00009\n",
            "The number is 00010\n"
          ]
        }
      ]
    },
    {
      "cell_type": "code",
      "metadata": {
        "colab": {
          "base_uri": "https://localhost:8080/",
          "height": 36
        },
        "id": "9bkr6RaZjYcz",
        "outputId": "d92b8a18-1237-4bf8-e276-db6654eaecc5"
      },
      "source": [
        "x = f'{\"final\":x<10} {25566.588585:<2.2%}oi'\n",
        "x"
      ],
      "execution_count": null,
      "outputs": [
        {
          "output_type": "execute_result",
          "data": {
            "application/vnd.google.colaboratory.intrinsic+json": {
              "type": "string"
            },
            "text/plain": [
              "'finalxxxxx 2556658.86%oi'"
            ]
          },
          "metadata": {},
          "execution_count": 10
        }
      ]
    },
    {
      "cell_type": "code",
      "metadata": {
        "colab": {
          "base_uri": "https://localhost:8080/"
        },
        "id": "cb1Uus9XkTAr",
        "outputId": "0769654f-4582-4df2-b202-bcf44f7e5c55"
      },
      "source": [
        "help(divmod)"
      ],
      "execution_count": null,
      "outputs": [
        {
          "output_type": "stream",
          "name": "stdout",
          "text": [
            "Help on built-in function divmod in module builtins:\n",
            "\n",
            "divmod(x, y, /)\n",
            "    Return the tuple (x//y, x%y).  Invariant: div*y + mod == x.\n",
            "\n"
          ]
        }
      ]
    },
    {
      "cell_type": "markdown",
      "metadata": {
        "id": "_d_HtgGqZPKc"
      },
      "source": [
        "## [Exercício com Classe](https://wiki.python.org.br/ExerciciosClasses)"
      ]
    },
    {
      "cell_type": "markdown",
      "metadata": {
        "id": "e2Obf4FEZeru"
      },
      "source": [
        "Exercício 1\n",
        "\n",
        "Classe Bola: Crie uma classe que modele uma bola:\n",
        "\n",
        "    Atributos: Cor, circunferência, material\n",
        "    Métodos: trocaCor e mostraCor "
      ]
    },
    {
      "cell_type": "code",
      "metadata": {
        "id": "yHiSjpfQZSyT"
      },
      "source": [
        "class Bola:\n",
        "  def __init__(self):\n",
        "    self.cor = 'Azul'\n",
        "    self.circunferência = 4\n",
        "    self.material = 'papel'\n",
        "  \n",
        "  def troca_cor(self, cor):\n",
        "    self.cor = cor\n",
        "\n",
        "  def mostra_cor(self):\n",
        "    return self.cor\n"
      ],
      "execution_count": null,
      "outputs": []
    },
    {
      "cell_type": "markdown",
      "metadata": {
        "id": "bRksPn7EgJ5K"
      },
      "source": [
        "Exercício 2\n",
        "\n",
        "Classe Quadrado: Crie uma classe que modele um quadrado:\n",
        "\n",
        "    Atributos: Tamanho do lado\n",
        "    Métodos: Mudar valor do Lado, Retornar valor do Lado e calcular Área; "
      ]
    },
    {
      "cell_type": "code",
      "metadata": {
        "id": "y4yzF-3QgRWS"
      },
      "source": [
        "class Quadrado:\n",
        "  def __init__(self):\n",
        "    self.lado = 1\n",
        "  \n",
        "  def calcular_area(self):\n",
        "    return self.lado**2\n",
        " "
      ],
      "execution_count": null,
      "outputs": []
    },
    {
      "cell_type": "markdown",
      "metadata": {
        "id": "AHKObWFahcoy"
      },
      "source": [
        "Exercício 3\n",
        "\n",
        "Classe Retangulo: Crie uma classe que modele um retangulo:\n",
        "\n",
        "    Atributos: LadoA, LadoB (ou Comprimento e Largura, ou Base e Altura, a escolher)\n",
        "    Métodos: Mudar valor dos lados, Retornar valor dos lados, calcular Área e calcular Perímetro;\n",
        "    Crie um programa que utilize esta classe. Ele deve pedir ao usuário que informe as medidades de um local. Depois, deve criar um objeto com as medidas e calcular a quantidade de pisos e de rodapés necessárias para o local. "
      ]
    },
    {
      "cell_type": "code",
      "metadata": {
        "id": "jjpM0fUdgMFw"
      },
      "source": [
        "class Retangulo:\n",
        "  def __init__(self):\n",
        "    self.lado_1 = 1\n",
        "    self.lado_2 = 1\n",
        "  \n",
        "  def mudar_lado_1(self, valor):\n",
        "    self.lado_1 = valor\n",
        "  \n",
        "  def mudar_lado_2(self, valor):\n",
        "    self.lado_2 = valor\n",
        "  \n",
        "  def get_lado_1(self):\n",
        "    return self.lado_1\n",
        "\n",
        "  def get_lado_2(self):\n",
        "    return self.lado_2\n",
        "  \n",
        "  def calcular_area(self):\n",
        "    return self.lado_1 * self.lado_2\n",
        "\n",
        "  def calcular_perimetro(self):\n",
        "    return self.lado_1 * self.lado_2\n",
        "    "
      ],
      "execution_count": null,
      "outputs": []
    },
    {
      "cell_type": "markdown",
      "metadata": {
        "id": "qg3XqUiex-ts"
      },
      "source": [
        "Exercício 4\n",
        "\n",
        "Classe Pessoa: Crie uma classe que modele uma pessoa:\n",
        "\n",
        "    Atributos: nome, idade, peso e altura\n",
        "    Métodos: Envelhercer, engordar, emagrecer, crescer. Obs: Por padrão, a cada ano que nossa pessoa envelhece, sendo a idade dela menor que 21 anos, ela deve crescer 0,5 cm. "
      ]
    },
    {
      "cell_type": "code",
      "metadata": {
        "id": "QtN_OgsNyOpX"
      },
      "source": [
        "class Pessoa:\n",
        "  def __spec__\n",
        "  def __init__(self):\n",
        "    self.nome = None\n",
        "    self.idade = 0\n",
        "    self.peso = 0\n",
        "    self.altura = 0\n",
        "  \n",
        "  def envelhecer(self, valor):\n",
        "    if idade < 21:\n",
        "      self.crescer(0.5)\n",
        "    self.idade += valor\n",
        "  \n",
        "  def engordar(self, valor):\n",
        "    self.peso += valor\n",
        "\n",
        "  def emagrecer(self, valor):\n",
        "    self.peso -= valor\n",
        "  \n",
        "  def crescer(self, valor):\n",
        "    self.altura += valor"
      ],
      "execution_count": null,
      "outputs": []
    },
    {
      "cell_type": "code",
      "metadata": {
        "colab": {
          "base_uri": "https://localhost:8080/"
        },
        "id": "nSBOKJf1zNaS",
        "outputId": "5a13ba80-d01e-4dcb-a6a2-ea7e07d025fb"
      },
      "source": [
        "p = Pessoa()\n",
        "p.engordar(5)\n",
        "print(p)"
      ],
      "execution_count": null,
      "outputs": [
        {
          "output_type": "stream",
          "name": "stdout",
          "text": [
            "<__main__.Pessoa object at 0x7f5866edcb90>\n"
          ]
        }
      ]
    },
    {
      "cell_type": "markdown",
      "metadata": {
        "id": "9HgEjnTXXayU"
      },
      "source": [
        "Exercicio 5\n",
        "\n",
        "Classe Conta Corrente: Crie uma classe para implementar uma conta corrente. A classe deve possuir os seguintes atributos: número da conta, nome do correntista e saldo. Os métodos são os seguintes: alterarNome, depósito e saque; No construtor, saldo é opcional, com valor default zero e os demais atributos são obrigatórios. "
      ]
    },
    {
      "cell_type": "code",
      "metadata": {
        "colab": {
          "base_uri": "https://localhost:8080/"
        },
        "id": "X9mdJ3bzTZ8h",
        "outputId": "4961df6a-648e-4b76-dff3-05be7d66cf2a"
      },
      "source": [
        "class ContaCorrente:\n",
        "  def __init__(self, nome, numero_conta, saldo = 0):\n",
        "    self.nome = nome\n",
        "    self.numero_conta = numero_conta\n",
        "    self.saldo = 0\n",
        "  \n",
        "  def __str__(self):\n",
        "    return f'''{self.nome},{self.numero_conta},{self.saldo}'''\n",
        "  \n",
        "\n",
        "if __name__ == '__main__':\n",
        "  conta_1 = ContaCorrente('Bruno', '2.654.321-56')\n",
        "  print(conta_1)"
      ],
      "execution_count": null,
      "outputs": [
        {
          "output_type": "stream",
          "name": "stdout",
          "text": [
            "Bruno,2.654.321-56,0\n"
          ]
        }
      ]
    },
    {
      "cell_type": "markdown",
      "metadata": {
        "id": "C2h8zxXQa8V2"
      },
      "source": [
        "Exercício 6\n",
        "\n",
        "Classe TV: Faça um programa que simule um televisor criando-o como um objeto. O usuário deve ser capaz de informar o número do canal e aumentar ou diminuir o volume. Certifique-se de que o número do canal e o nível do volume permanecem dentro de faixas válidas. "
      ]
    },
    {
      "cell_type": "code",
      "metadata": {
        "colab": {
          "base_uri": "https://localhost:8080/"
        },
        "id": "oT1MdmNCYyGl",
        "outputId": "92057a2e-b587-49ae-fb11-d8c805c16aa5"
      },
      "source": [
        "class Televisao:\n",
        "  def __init__(self):\n",
        "    self._volume = 0\n",
        "    self._canal = 3\n",
        "\n",
        "  @property\n",
        "  def canal(self):\n",
        "    return self._canal\n",
        "\n",
        "  @canal.setter\n",
        "  def canal(self, value):\n",
        "    if 2 <= value <= 11:\n",
        "      self._canal = value\n",
        "      print(f'sintonizando canal: {value}')\n",
        "    \n",
        "  \n",
        "  @property\n",
        "  def volume(self):\n",
        "    return self._volume\n",
        "\n",
        "  @volume.setter\n",
        "  def volume(self, value):\n",
        "    if 0 <= value <= 100:\n",
        "      self._volume = value\n",
        "      print(f'Ajustando Volume em: {value}')\n",
        "    else:\n",
        "      if value > 100:\n",
        "        print('volume máximo')\n",
        "      else:\n",
        "        print('volume mínimo')\n",
        "\n",
        "if __name__ == '__main__':\n",
        "  tv = Televisao()\n",
        "  \n",
        "  print(tv.volume)\n",
        "\n",
        "  for x in range(10):\n",
        "    print(x)\n",
        "    tv.volume = x\n",
        "    \n"
      ],
      "execution_count": null,
      "outputs": [
        {
          "output_type": "stream",
          "name": "stdout",
          "text": [
            "0\n",
            "0\n",
            "Ajustando Volume em: 0\n",
            "1\n",
            "Ajustando Volume em: 1\n",
            "2\n",
            "Ajustando Volume em: 2\n",
            "3\n",
            "Ajustando Volume em: 3\n",
            "4\n",
            "Ajustando Volume em: 4\n",
            "5\n",
            "Ajustando Volume em: 5\n",
            "6\n",
            "Ajustando Volume em: 6\n",
            "7\n",
            "Ajustando Volume em: 7\n",
            "8\n",
            "Ajustando Volume em: 8\n",
            "9\n",
            "Ajustando Volume em: 9\n"
          ]
        }
      ]
    },
    {
      "cell_type": "markdown",
      "metadata": {
        "id": "jFeIv4LJfCE5"
      },
      "source": [
        "Exercício 10\n",
        "\n",
        "Classe Bomba de Combustível: Faça um programa completo utilizando classes e métodos que:\n",
        "\n",
        "    Possua uma classe chamada bombaCombustível, com no mínimo esses atributos:\n",
        "        tipoCombustivel.\n",
        "        valorLitro\n",
        "        quantidadeCombustivel \n",
        "    Possua no mínimo esses métodos:\n",
        "        abastecerPorValor( ) – método onde é informado o valor a ser abastecido e mostra a quantidade de litros que foi colocada no veículo\n",
        "        abastecerPorLitro( ) – método onde é informado a quantidade em litros de combustível e mostra o valor a ser pago pelo cliente.\n",
        "        alterarValor( ) – altera o valor do litro do combustível.\n",
        "        alterarCombustivel( ) – altera o tipo do combustível.\n",
        "        alterarQuantidadeCombustivel( ) – altera a quantidade de combustível restante na bomba. \n",
        "    OBS: Sempre que acontecer um abastecimento é necessário atualizar a quantidade de combustível total na bomba. "
      ]
    },
    {
      "cell_type": "code",
      "metadata": {
        "colab": {
          "base_uri": "https://localhost:8080/"
        },
        "id": "IXognSkXa7Ut",
        "outputId": "c8e97a19-fb73-4c42-a10e-12d6b9789de5"
      },
      "source": [
        "class BombaCombustivel:\n",
        "    def __init__(self, tipo_combustivel: str, valor_litro: float, quantidade_combustivel: float):\n",
        "        self._tipo_combustivel = None\n",
        "        self._valor_litro = None\n",
        "        self._quantidade_combustivel = None\n",
        "        self.tipo_combustivel = tipo_combustivel\n",
        "        self.valor_litro = valor_litro\n",
        "        self.quantidade_combustivel = quantidade_combustivel\n",
        "\n",
        "    @property\n",
        "    def tipo_combustivel(self):\n",
        "        return self._tipo_combustivel\n",
        "\n",
        "    @tipo_combustivel.setter\n",
        "    def tipo_combustivel(self, valor):\n",
        "        self._tipo_combustivel = valor\n",
        "\n",
        "    @property\n",
        "    def valor_litro(self):\n",
        "        return self._valor_litro\n",
        "\n",
        "    @valor_litro.setter\n",
        "    def valor_litro(self, valor):\n",
        "        if not valor > 0:\n",
        "            raise ValueError(f'Valor Litro Inválido! {valor}')\n",
        "        self._valor_litro = valor\n",
        "\n",
        "    @property\n",
        "    def quantidade_combustivel(self):\n",
        "        return self._quantidade_combustivel\n",
        "\n",
        "    @quantidade_combustivel.setter\n",
        "    def quantidade_combustivel(self, valor):\n",
        "        if valor <= 0:\n",
        "            self._quantidade_combustivel = 0\n",
        "        else:\n",
        "            self._quantidade_combustivel = valor\n",
        "\n",
        "    def abastecer_por_valor(self, valor):\n",
        "        print(f'\\nAbastecendo {self.tipo_combustivel} por valor: R${valor:.2f}')\n",
        "        if valor > 0:\n",
        "            litros_para_abastecer = valor / self._valor_litro\n",
        "            self._abastecer(valor, litros_para_abastecer)\n",
        "        else:\n",
        "            print('O valor de ve ser maior que zero!')\n",
        "\n",
        "    def abastecer_litro(self, litros_para_abastecer):\n",
        "        print(f'\\nAbastecendo {self.tipo_combustivel} por litro: {litros_para_abastecer:.2f}L')\n",
        "        if litros_para_abastecer > 0:\n",
        "            valor = litros_para_abastecer * self._valor_litro\n",
        "            self._abastecer(valor, litros_para_abastecer)\n",
        "        else:\n",
        "            print('A quantidade de litros para abastecer de ve ser maior que zero!')\n",
        "\n",
        "    def _abastecer(self, valo_pago, litros_abastecido):\n",
        "        if litros_abastecido > self.quantidade_combustivel:\n",
        "            print('Quantidade de combustível insuficiente na bomba!')\n",
        "        else:\n",
        "            self.quantidade_combustivel -= litros_abastecido\n",
        "            print(f'''Valor Pago: R${valo_pago:.2f}\n",
        "Litros Abastecidos: {litros_abastecido:.2f}L\n",
        "Quantidade Combustível: {self._quantidade_combustivel:.2f}L''')\n",
        "\n",
        "\n",
        "if __name__ == '__main__':\n",
        "    bomb = BombaCombustivel('GNV', 6.54, 1000)\n",
        "    bomb.abastecer_por_valor(1000)\n",
        "    bomb.abastecer_litro(152.91)\n",
        "    bomb.abastecer_por_valor(50)\n",
        "\n"
      ],
      "execution_count": null,
      "outputs": [
        {
          "output_type": "stream",
          "name": "stdout",
          "text": [
            "\n",
            "Abastecendo GNV por valor: R$1000.00\n",
            "Valor Pago: R$1000.00\n",
            "Litros Abastecidos: 152.91L\n",
            "Quantidade Combustível: 847.09L\n",
            "\n",
            "Abastecendo GNV por litro: 152.91L\n",
            "Valor Pago: R$1000.03\n",
            "Litros Abastecidos: 152.91L\n",
            "Quantidade Combustível: 694.18L\n",
            "\n",
            "Abastecendo GNV por valor: R$50.00\n",
            "Valor Pago: R$50.00\n",
            "Litros Abastecidos: 7.65L\n",
            "Quantidade Combustível: 686.54L\n"
          ]
        }
      ]
    }
  ]
}