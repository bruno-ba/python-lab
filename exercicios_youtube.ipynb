{
  "nbformat": 4,
  "nbformat_minor": 0,
  "metadata": {
    "colab": {
      "name": "exercicios_youtube.ipynb",
      "provenance": [],
      "collapsed_sections": [],
      "authorship_tag": "ABX9TyPMlz7BDthFKXUVHRAtq6Uk",
      "include_colab_link": true
    },
    "kernelspec": {
      "name": "python3",
      "display_name": "Python 3"
    },
    "language_info": {
      "name": "python"
    }
  },
  "cells": [
    {
      "cell_type": "markdown",
      "metadata": {
        "id": "view-in-github",
        "colab_type": "text"
      },
      "source": [
        "<a href=\"https://colab.research.google.com/github/bruno-ba/python-lab/blob/main/exercicios_youtube.ipynb\" target=\"_parent\"><img src=\"https://colab.research.google.com/assets/colab-badge.svg\" alt=\"Open In Colab\"/></a>"
      ]
    },
    {
      "cell_type": "markdown",
      "metadata": {
        "id": "5pKMHvvwiVNy"
      },
      "source": [
        "# Estudo e aplicações de exemplos demonstrados práticos do canal [Socrática](https://www.youtube.com/channel/UCW6TXMZ5Pq6yL6_k5NZ2e0Q)"
      ]
    },
    {
      "cell_type": "markdown",
      "metadata": {
        "id": "FstM37QUjmWg"
      },
      "source": [
        ""
      ]
    },
    {
      "cell_type": "markdown",
      "metadata": {
        "id": "dohuOAKGjvLI"
      },
      "source": [
        "## [Iterators, Iterables, and Itertools in Python || Python Tutorial || Learn Python Programming ](https://www.youtube.com/watch?v=WR7mO_jYN9g)"
      ]
    },
    {
      "cell_type": "markdown",
      "metadata": {
        "id": "L9bZIY54kwZ0"
      },
      "source": [
        "Iterable\n",
        "Sequence =  Interable + Ordered\n",
        "\n",
        "common sequences: lists, tuples, strings, bytes"
      ]
    },
    {
      "cell_type": "code",
      "metadata": {
        "colab": {
          "base_uri": "https://localhost:8080/"
        },
        "id": "PNYUYMZjj8oI",
        "outputId": "830da3a6-e558-4deb-b952-9c6919f65722"
      },
      "source": [
        "list = ['CX32', 'GSOF', 'Emily', 'Franz', 'Rex']\n",
        "for element in list:\n",
        "  print(element)"
      ],
      "execution_count": null,
      "outputs": [
        {
          "output_type": "stream",
          "name": "stdout",
          "text": [
            "CX32\n",
            "GSOF\n",
            "Emily\n",
            "Franz\n",
            "Rex\n"
          ]
        }
      ]
    },
    {
      "cell_type": "code",
      "metadata": {
        "colab": {
          "base_uri": "https://localhost:8080/"
        },
        "id": "UgzDMO7jktRG",
        "outputId": "a4216257-ad26-4d2e-d719-170700d718ea"
      },
      "source": [
        "for letter in 'Socratica':\n",
        "  print(letter)"
      ],
      "execution_count": null,
      "outputs": [
        {
          "output_type": "stream",
          "name": "stdout",
          "text": [
            "S\n",
            "o\n",
            "c\n",
            "r\n",
            "a\n",
            "t\n",
            "i\n",
            "c\n",
            "a\n"
          ]
        }
      ]
    },
    {
      "cell_type": "code",
      "metadata": {
        "colab": {
          "base_uri": "https://localhost:8080/"
        },
        "id": "5eVAgAxglkF3",
        "outputId": "b43c69f6-15f9-4804-ce23-d49be84ae837"
      },
      "source": [
        "for byte in b'Binary':\n",
        "  print(byte)"
      ],
      "execution_count": null,
      "outputs": [
        {
          "output_type": "stream",
          "name": "stdout",
          "text": [
            "66\n",
            "105\n",
            "110\n",
            "97\n",
            "114\n",
            "121\n"
          ]
        }
      ]
    },
    {
      "cell_type": "code",
      "metadata": {
        "id": "fkt-yF4mq_dI"
      },
      "source": [
        "#for digit in 299792458:\n",
        " # print(digit)"
      ],
      "execution_count": null,
      "outputs": []
    },
    {
      "cell_type": "code",
      "metadata": {
        "colab": {
          "base_uri": "https://localhost:8080/"
        },
        "id": "2o1VvXbirJOs",
        "outputId": "5afd312a-9769-49a6-d54d-4ec49382b3fa"
      },
      "source": [
        "c = 299792458\n",
        "digits = [int(x) for x in str(c)]\n",
        "for digit in digits:\n",
        "  print(digit)"
      ],
      "execution_count": null,
      "outputs": [
        {
          "output_type": "stream",
          "name": "stdout",
          "text": [
            "2\n",
            "9\n",
            "9\n",
            "7\n",
            "9\n",
            "2\n",
            "4\n",
            "5\n",
            "8\n"
          ]
        }
      ]
    },
    {
      "cell_type": "code",
      "metadata": {
        "colab": {
          "base_uri": "https://localhost:8080/"
        },
        "id": "NUKYy0b8rbLC",
        "outputId": "e2f35766-03d1-4518-cd52-1580536b9126"
      },
      "source": [
        "usernames =('Rainer', 'Alfons', 'Flatsheep')\n",
        "looper1 = usernames.__iter__()\n",
        "type(looper1)"
      ],
      "execution_count": null,
      "outputs": [
        {
          "output_type": "execute_result",
          "data": {
            "text/plain": [
              "tuple_iterator"
            ]
          },
          "metadata": {},
          "execution_count": 7
        }
      ]
    },
    {
      "cell_type": "code",
      "metadata": {
        "colab": {
          "base_uri": "https://localhost:8080/",
          "height": 36
        },
        "id": "fN3KTnZmsPbP",
        "outputId": "30ae2ac2-9af8-4edb-ac37-e8b4950a6ace"
      },
      "source": [
        "looper1.__next__()"
      ],
      "execution_count": null,
      "outputs": [
        {
          "output_type": "execute_result",
          "data": {
            "application/vnd.google.colaboratory.intrinsic+json": {
              "type": "string"
            },
            "text/plain": [
              "'Rainer'"
            ]
          },
          "metadata": {},
          "execution_count": 8
        }
      ]
    },
    {
      "cell_type": "code",
      "metadata": {
        "colab": {
          "base_uri": "https://localhost:8080/",
          "height": 36
        },
        "id": "5GYtxhkHsY6d",
        "outputId": "5b06a5f7-2156-4fea-e7ef-9e56dcbfdef6"
      },
      "source": [
        "looper1.__next__()"
      ],
      "execution_count": null,
      "outputs": [
        {
          "output_type": "execute_result",
          "data": {
            "application/vnd.google.colaboratory.intrinsic+json": {
              "type": "string"
            },
            "text/plain": [
              "'Alfons'"
            ]
          },
          "metadata": {},
          "execution_count": 9
        }
      ]
    },
    {
      "cell_type": "code",
      "metadata": {
        "colab": {
          "base_uri": "https://localhost:8080/",
          "height": 36
        },
        "id": "SZxCzOqasfC5",
        "outputId": "7a3312ee-99f4-411e-d6a3-129e0947978e"
      },
      "source": [
        "looper1.__next__()"
      ],
      "execution_count": null,
      "outputs": [
        {
          "output_type": "execute_result",
          "data": {
            "application/vnd.google.colaboratory.intrinsic+json": {
              "type": "string"
            },
            "text/plain": [
              "'Flatsheep'"
            ]
          },
          "metadata": {},
          "execution_count": 10
        }
      ]
    },
    {
      "cell_type": "code",
      "metadata": {
        "colab": {
          "base_uri": "https://localhost:8080/",
          "height": 210
        },
        "id": "t1wdfYGoslBN",
        "outputId": "7700f983-06dc-4092-9975-0203fcffba7b"
      },
      "source": [
        "looper1.__next__()"
      ],
      "execution_count": null,
      "outputs": [
        {
          "output_type": "error",
          "ename": "StopIteration",
          "evalue": "ignored",
          "traceback": [
            "\u001b[0;31m---------------------------------------------------------------------------\u001b[0m",
            "\u001b[0;31mStopIteration\u001b[0m                             Traceback (most recent call last)",
            "\u001b[0;32m<ipython-input-11-27baa47aadbd>\u001b[0m in \u001b[0;36m<module>\u001b[0;34m()\u001b[0m\n\u001b[0;32m----> 1\u001b[0;31m \u001b[0mlooper1\u001b[0m\u001b[0;34m.\u001b[0m\u001b[0m__next__\u001b[0m\u001b[0;34m(\u001b[0m\u001b[0;34m)\u001b[0m\u001b[0;34m\u001b[0m\u001b[0;34m\u001b[0m\u001b[0m\n\u001b[0m",
            "\u001b[0;31mStopIteration\u001b[0m: "
          ]
        }
      ]
    },
    {
      "cell_type": "code",
      "metadata": {
        "colab": {
          "base_uri": "https://localhost:8080/"
        },
        "id": "Pg4inDoytLjh",
        "outputId": "5808c4e7-1e72-47a0-9f5d-c627aff998f4"
      },
      "source": [
        "usernames"
      ],
      "execution_count": null,
      "outputs": [
        {
          "output_type": "execute_result",
          "data": {
            "text/plain": [
              "('Rainer', 'Alfons', 'Flatsheep')"
            ]
          },
          "metadata": {},
          "execution_count": 12
        }
      ]
    },
    {
      "cell_type": "code",
      "metadata": {
        "id": "gDwzh5RMtOBt"
      },
      "source": [
        "looper2 = iter(usernames)"
      ],
      "execution_count": null,
      "outputs": []
    },
    {
      "cell_type": "code",
      "metadata": {
        "colab": {
          "base_uri": "https://localhost:8080/",
          "height": 36
        },
        "id": "cwSz1W3_tcUJ",
        "outputId": "fec382ce-83a5-4182-d6a4-1c07994a510c"
      },
      "source": [
        "next(looper2)"
      ],
      "execution_count": null,
      "outputs": [
        {
          "output_type": "execute_result",
          "data": {
            "application/vnd.google.colaboratory.intrinsic+json": {
              "type": "string"
            },
            "text/plain": [
              "'Rainer'"
            ]
          },
          "metadata": {},
          "execution_count": 15
        }
      ]
    },
    {
      "cell_type": "code",
      "metadata": {
        "colab": {
          "base_uri": "https://localhost:8080/",
          "height": 36
        },
        "id": "v6t6xFLvtfT7",
        "outputId": "bb5cbaf4-b857-4304-d499-6a2b6c0b0dfa"
      },
      "source": [
        "next(looper2)"
      ],
      "execution_count": null,
      "outputs": [
        {
          "output_type": "execute_result",
          "data": {
            "application/vnd.google.colaboratory.intrinsic+json": {
              "type": "string"
            },
            "text/plain": [
              "'Alfons'"
            ]
          },
          "metadata": {},
          "execution_count": 16
        }
      ]
    },
    {
      "cell_type": "code",
      "metadata": {
        "colab": {
          "base_uri": "https://localhost:8080/",
          "height": 36
        },
        "id": "qsVmyZPOtiHZ",
        "outputId": "497bc2a4-57e1-4f72-b84d-1fab55483d28"
      },
      "source": [
        "next(looper2)"
      ],
      "execution_count": null,
      "outputs": [
        {
          "output_type": "execute_result",
          "data": {
            "application/vnd.google.colaboratory.intrinsic+json": {
              "type": "string"
            },
            "text/plain": [
              "'Flatsheep'"
            ]
          },
          "metadata": {},
          "execution_count": 17
        }
      ]
    },
    {
      "cell_type": "code",
      "metadata": {
        "colab": {
          "base_uri": "https://localhost:8080/",
          "height": 210
        },
        "id": "xkjO5BFPtow5",
        "outputId": "6096f042-e18b-4092-8227-06f8b956c7d9"
      },
      "source": [
        "next(looper2)"
      ],
      "execution_count": null,
      "outputs": [
        {
          "output_type": "error",
          "ename": "StopIteration",
          "evalue": "ignored",
          "traceback": [
            "\u001b[0;31m---------------------------------------------------------------------------\u001b[0m",
            "\u001b[0;31mStopIteration\u001b[0m                             Traceback (most recent call last)",
            "\u001b[0;32m<ipython-input-18-76970af3d3d2>\u001b[0m in \u001b[0;36m<module>\u001b[0;34m()\u001b[0m\n\u001b[0;32m----> 1\u001b[0;31m \u001b[0mnext\u001b[0m\u001b[0;34m(\u001b[0m\u001b[0mlooper2\u001b[0m\u001b[0;34m)\u001b[0m\u001b[0;34m\u001b[0m\u001b[0;34m\u001b[0m\u001b[0m\n\u001b[0m",
            "\u001b[0;31mStopIteration\u001b[0m: "
          ]
        }
      ]
    },
    {
      "cell_type": "code",
      "metadata": {
        "id": "ZqGMH2Wgtwgc"
      },
      "source": [
        "users = ['laust', 'leoMoon', 'JennaSys', 'dgletts']"
      ],
      "execution_count": null,
      "outputs": []
    },
    {
      "cell_type": "code",
      "metadata": {
        "colab": {
          "base_uri": "https://localhost:8080/"
        },
        "id": "pZb-joz-uBYl",
        "outputId": "c4839aad-4721-4e07-bf7b-4b757d077cc8"
      },
      "source": [
        "for user in users:\n",
        "  print(user)"
      ],
      "execution_count": null,
      "outputs": [
        {
          "output_type": "stream",
          "name": "stdout",
          "text": [
            "laust\n",
            "leoMoon\n",
            "JennaSys\n",
            "dgletts\n"
          ]
        }
      ]
    },
    {
      "cell_type": "code",
      "metadata": {
        "colab": {
          "base_uri": "https://localhost:8080/"
        },
        "id": "HPb7lSMeuJe6",
        "outputId": "6e9209ad-6a13-40ae-982d-f027da7966c2"
      },
      "source": [
        "looper = iter(users)\n",
        "while True:\n",
        "  try:\n",
        "    user = next(looper)\n",
        "    print(user)\n",
        "  except StopIteration:\n",
        "    break"
      ],
      "execution_count": null,
      "outputs": [
        {
          "output_type": "stream",
          "name": "stdout",
          "text": [
            "laust\n",
            "leoMoon\n",
            "JennaSys\n",
            "dgletts\n"
          ]
        }
      ]
    },
    {
      "cell_type": "code",
      "metadata": {
        "id": "ejvtFlvRupqz"
      },
      "source": [
        "class Portifolio:\n",
        "  def __init__(self):\n",
        "    #key=ticker, Value = number of shares\n",
        "    self.holdings = {} \n",
        "  \n",
        "  def buy(self, ticker, shares):\n",
        "    self.holdings[ticker] = self.holdings.get(ticker, 0) + shares\n",
        "  \n",
        "  def sell(self, ticker, shares):\n",
        "    self.holdings[ticker] = self.holdings.get(ticker, 0) - shares\n",
        "  \n",
        "  def __iter__(self):\n",
        "    return iter(self.holdings.items())"
      ],
      "execution_count": null,
      "outputs": []
    },
    {
      "cell_type": "code",
      "metadata": {
        "id": "pruwhzLxvP0a",
        "colab": {
          "base_uri": "https://localhost:8080/"
        },
        "outputId": "8183aa25-918b-4444-c5ef-d8642cff16ca"
      },
      "source": [
        " p = Portifolio()\n",
        " p.buy('ALPHA', 15)\n",
        " p.buy('BETA', 23)\n",
        " p.buy('GAMMA', 9)\n",
        " p.buy('GAMMA', 20)\n",
        "\n",
        " for (ticker, shares) in p:\n",
        "   print(ticker, shares)\n"
      ],
      "execution_count": null,
      "outputs": [
        {
          "output_type": "stream",
          "name": "stdout",
          "text": [
            "ALPHA 15\n",
            "BETA 23\n",
            "GAMMA 29\n"
          ]
        }
      ]
    },
    {
      "cell_type": "code",
      "metadata": {
        "id": "A7faQSRGJYD8"
      },
      "source": [
        "import itertools"
      ],
      "execution_count": null,
      "outputs": []
    },
    {
      "cell_type": "code",
      "metadata": {
        "colab": {
          "base_uri": "https://localhost:8080/"
        },
        "id": "mhkGWpx3JihJ",
        "outputId": "0d371a7a-1ec9-4cd0-a9a2-da09d7e9a1c9"
      },
      "source": [
        "dir(itertools)"
      ],
      "execution_count": null,
      "outputs": [
        {
          "output_type": "execute_result",
          "data": {
            "text/plain": [
              "['__doc__',\n",
              " '__loader__',\n",
              " '__name__',\n",
              " '__package__',\n",
              " '__spec__',\n",
              " '_grouper',\n",
              " '_tee',\n",
              " '_tee_dataobject',\n",
              " 'accumulate',\n",
              " 'chain',\n",
              " 'combinations',\n",
              " 'combinations_with_replacement',\n",
              " 'compress',\n",
              " 'count',\n",
              " 'cycle',\n",
              " 'dropwhile',\n",
              " 'filterfalse',\n",
              " 'groupby',\n",
              " 'islice',\n",
              " 'permutations',\n",
              " 'product',\n",
              " 'repeat',\n",
              " 'starmap',\n",
              " 'takewhile',\n",
              " 'tee',\n",
              " 'zip_longest']"
            ]
          },
          "metadata": {},
          "execution_count": 10
        }
      ]
    },
    {
      "cell_type": "code",
      "metadata": {
        "colab": {
          "base_uri": "https://localhost:8080/"
        },
        "id": "IU9xrW-MJsw6",
        "outputId": "0bb2f95f-2386-405b-c3f8-ecb53c4384e5"
      },
      "source": [
        "help(itertools.chain)"
      ],
      "execution_count": null,
      "outputs": [
        {
          "output_type": "stream",
          "name": "stdout",
          "text": [
            "Help on class chain in module itertools:\n",
            "\n",
            "class chain(builtins.object)\n",
            " |  chain(*iterables) --> chain object\n",
            " |  \n",
            " |  Return a chain object whose .__next__() method returns elements from the\n",
            " |  first iterable until it is exhausted, then elements from the next\n",
            " |  iterable, until all of the iterables are exhausted.\n",
            " |  \n",
            " |  Methods defined here:\n",
            " |  \n",
            " |  __getattribute__(self, name, /)\n",
            " |      Return getattr(self, name).\n",
            " |  \n",
            " |  __iter__(self, /)\n",
            " |      Implement iter(self).\n",
            " |  \n",
            " |  __next__(self, /)\n",
            " |      Implement next(self).\n",
            " |  \n",
            " |  __reduce__(...)\n",
            " |      Return state information for pickling.\n",
            " |  \n",
            " |  __setstate__(...)\n",
            " |      Set state information for unpickling.\n",
            " |  \n",
            " |  ----------------------------------------------------------------------\n",
            " |  Class methods defined here:\n",
            " |  \n",
            " |  from_iterable(...) from builtins.type\n",
            " |      chain.from_iterable(iterable) --> chain object\n",
            " |      \n",
            " |      Alternate chain() constructor taking a single iterable argument\n",
            " |      that evaluates lazily.\n",
            " |  \n",
            " |  ----------------------------------------------------------------------\n",
            " |  Static methods defined here:\n",
            " |  \n",
            " |  __new__(*args, **kwargs) from builtins.type\n",
            " |      Create and return a new object.  See help(type) for accurate signature.\n",
            "\n"
          ]
        }
      ]
    },
    {
      "cell_type": "code",
      "metadata": {
        "id": "Q3X-0FfLKPE3"
      },
      "source": [
        "d = iter('MADAGASCAR')"
      ],
      "execution_count": null,
      "outputs": []
    },
    {
      "cell_type": "code",
      "metadata": {
        "colab": {
          "base_uri": "https://localhost:8080/"
        },
        "id": "mEl5d8ExKVgT",
        "outputId": "8f73ba71-ff42-4066-f5ea-642be7c91c9b"
      },
      "source": [
        "type(d)"
      ],
      "execution_count": null,
      "outputs": [
        {
          "output_type": "execute_result",
          "data": {
            "text/plain": [
              "str_iterator"
            ]
          },
          "metadata": {},
          "execution_count": 32
        }
      ]
    },
    {
      "cell_type": "code",
      "metadata": {
        "colab": {
          "base_uri": "https://localhost:8080/"
        },
        "id": "Ly_tD5G7KZ5F",
        "outputId": "d6144518-7d28-4d21-d4f3-d8310644ec6d"
      },
      "source": [
        "while True:\n",
        "  try:\n",
        "    print(next(d))\n",
        "  except StopIteration:\n",
        "    break"
      ],
      "execution_count": null,
      "outputs": [
        {
          "output_type": "stream",
          "name": "stdout",
          "text": [
            "M\n",
            "A\n",
            "D\n",
            "A\n",
            "G\n",
            "A\n",
            "S\n",
            "C\n",
            "A\n",
            "R\n"
          ]
        }
      ]
    },
    {
      "cell_type": "code",
      "metadata": {
        "id": "kn79x7HUhtfU"
      },
      "source": [
        "import itertools\n",
        "ranks = list(range(2,11))+['J', 'Q', 'K', 'A']\n",
        "            "
      ],
      "execution_count": null,
      "outputs": []
    },
    {
      "cell_type": "code",
      "metadata": {
        "colab": {
          "base_uri": "https://localhost:8080/"
        },
        "id": "atQ4XqIkiKpI",
        "outputId": "12bb89a1-16e9-43b3-e291-7fca26043c54"
      },
      "source": [
        "ranks"
      ],
      "execution_count": null,
      "outputs": [
        {
          "output_type": "execute_result",
          "data": {
            "text/plain": [
              "[2, 3, 4, 5, 6, 7, 8, 9, 10, 'J', 'Q', 'K', 'A']"
            ]
          },
          "metadata": {},
          "execution_count": 4
        }
      ]
    },
    {
      "cell_type": "code",
      "metadata": {
        "colab": {
          "base_uri": "https://localhost:8080/"
        },
        "id": "cZN7MbLliMTY",
        "outputId": "0a6c3324-5aca-457e-d8cb-647c9a608f42"
      },
      "source": [
        "ranks = [str(rank) for rank in ranks]\n",
        "print(ranks)"
      ],
      "execution_count": null,
      "outputs": [
        {
          "output_type": "stream",
          "name": "stdout",
          "text": [
            "['2', '3', '4', '5', '6', '7', '8', '9', '10', 'J', 'Q', 'K', 'A']\n"
          ]
        }
      ]
    },
    {
      "cell_type": "code",
      "metadata": {
        "id": "rZjtccIZiWNc"
      },
      "source": [
        "suits = ['Hearts', 'Clubs', 'Diamonds', 'Spades']"
      ],
      "execution_count": null,
      "outputs": []
    },
    {
      "cell_type": "code",
      "metadata": {
        "colab": {
          "base_uri": "https://localhost:8080/"
        },
        "id": "1X5vLJ_timyF",
        "outputId": "18c712fa-fef9-4ff0-e357-084c268b71c3"
      },
      "source": [
        "deck = [card for card in itertools.product(ranks, suits)]\n",
        "print(f'decks: {len(deck)}')\n",
        "print(deck)"
      ],
      "execution_count": null,
      "outputs": [
        {
          "output_type": "stream",
          "name": "stdout",
          "text": [
            "decks: 52\n",
            "[('2', 'Hearts'), ('2', 'Clubs'), ('2', 'Diamonds'), ('2', 'Spades'), ('3', 'Hearts'), ('3', 'Clubs'), ('3', 'Diamonds'), ('3', 'Spades'), ('4', 'Hearts'), ('4', 'Clubs'), ('4', 'Diamonds'), ('4', 'Spades'), ('5', 'Hearts'), ('5', 'Clubs'), ('5', 'Diamonds'), ('5', 'Spades'), ('6', 'Hearts'), ('6', 'Clubs'), ('6', 'Diamonds'), ('6', 'Spades'), ('7', 'Hearts'), ('7', 'Clubs'), ('7', 'Diamonds'), ('7', 'Spades'), ('8', 'Hearts'), ('8', 'Clubs'), ('8', 'Diamonds'), ('8', 'Spades'), ('9', 'Hearts'), ('9', 'Clubs'), ('9', 'Diamonds'), ('9', 'Spades'), ('10', 'Hearts'), ('10', 'Clubs'), ('10', 'Diamonds'), ('10', 'Spades'), ('J', 'Hearts'), ('J', 'Clubs'), ('J', 'Diamonds'), ('J', 'Spades'), ('Q', 'Hearts'), ('Q', 'Clubs'), ('Q', 'Diamonds'), ('Q', 'Spades'), ('K', 'Hearts'), ('K', 'Clubs'), ('K', 'Diamonds'), ('K', 'Spades'), ('A', 'Hearts'), ('A', 'Clubs'), ('A', 'Diamonds'), ('A', 'Spades')]\n"
          ]
        }
      ]
    },
    {
      "cell_type": "code",
      "metadata": {
        "colab": {
          "base_uri": "https://localhost:8080/"
        },
        "id": "5CrNtSI3joNu",
        "outputId": "f54ecb73-1e1e-4bb1-f327-122f86edf2a3"
      },
      "source": [
        "for card in deck:\n",
        "  index, value = card\n",
        "  print(index, value)"
      ],
      "execution_count": null,
      "outputs": [
        {
          "output_type": "stream",
          "name": "stdout",
          "text": [
            "2 Hearts\n",
            "2 Clubs\n",
            "2 Diamonds\n",
            "2 Spades\n",
            "3 Hearts\n",
            "3 Clubs\n",
            "3 Diamonds\n",
            "3 Spades\n",
            "4 Hearts\n",
            "4 Clubs\n",
            "4 Diamonds\n",
            "4 Spades\n",
            "5 Hearts\n",
            "5 Clubs\n",
            "5 Diamonds\n",
            "5 Spades\n",
            "6 Hearts\n",
            "6 Clubs\n",
            "6 Diamonds\n",
            "6 Spades\n",
            "7 Hearts\n",
            "7 Clubs\n",
            "7 Diamonds\n",
            "7 Spades\n",
            "8 Hearts\n",
            "8 Clubs\n",
            "8 Diamonds\n",
            "8 Spades\n",
            "9 Hearts\n",
            "9 Clubs\n",
            "9 Diamonds\n",
            "9 Spades\n",
            "10 Hearts\n",
            "10 Clubs\n",
            "10 Diamonds\n",
            "10 Spades\n",
            "J Hearts\n",
            "J Clubs\n",
            "J Diamonds\n",
            "J Spades\n",
            "Q Hearts\n",
            "Q Clubs\n",
            "Q Diamonds\n",
            "Q Spades\n",
            "K Hearts\n",
            "K Clubs\n",
            "K Diamonds\n",
            "K Spades\n",
            "A Hearts\n",
            "A Clubs\n",
            "A Diamonds\n",
            "A Spades\n"
          ]
        }
      ]
    },
    {
      "cell_type": "code",
      "metadata": {
        "id": "bXj_EMmjmymx"
      },
      "source": [
        "hands = [hand for hand in itertools.combinations(deck, 5)]"
      ],
      "execution_count": null,
      "outputs": []
    },
    {
      "cell_type": "code",
      "metadata": {
        "colab": {
          "base_uri": "https://localhost:8080/"
        },
        "id": "6ith4-tEnGNZ",
        "outputId": "4f90aef1-4deb-4bc9-ccc4-abe6834d8ede"
      },
      "source": [
        "print(len(hands)) "
      ],
      "execution_count": null,
      "outputs": [
        {
          "output_type": "stream",
          "name": "stdout",
          "text": [
            "2598960\n"
          ]
        }
      ]
    },
    {
      "cell_type": "markdown",
      "metadata": {
        "id": "X1TfMy8H8Ti8"
      },
      "source": [
        "## [Generators in Python || Python Tutorial || Learn Python Programming](https://www.youtube.com/watch?v=gMompY5MyPg)"
      ]
    },
    {
      "cell_type": "code",
      "metadata": {
        "id": "NU7e40488hkn"
      },
      "source": [
        "def f():\n",
        "  return 1\n",
        "  return 2\n",
        "  return 3"
      ],
      "execution_count": null,
      "outputs": []
    },
    {
      "cell_type": "code",
      "metadata": {
        "colab": {
          "base_uri": "https://localhost:8080/"
        },
        "id": "OVweo1NH__Ri",
        "outputId": "c99f0f86-af10-4ca2-c08e-307eadd4b45e"
      },
      "source": [
        "print(f())"
      ],
      "execution_count": null,
      "outputs": [
        {
          "output_type": "stream",
          "name": "stdout",
          "text": [
            "1\n"
          ]
        }
      ]
    },
    {
      "cell_type": "code",
      "metadata": {
        "id": "BnPB28_XALJw"
      },
      "source": [
        "def g():\n",
        "  yield 1\n",
        "  yield 2\n",
        "  yield 3"
      ],
      "execution_count": null,
      "outputs": []
    },
    {
      "cell_type": "code",
      "metadata": {
        "colab": {
          "base_uri": "https://localhost:8080/"
        },
        "id": "oEflBL_XATDP",
        "outputId": "a7b6384f-90d9-4421-ec14-c32ff0f53d69"
      },
      "source": [
        "print(g())"
      ],
      "execution_count": null,
      "outputs": [
        {
          "output_type": "stream",
          "name": "stdout",
          "text": [
            "<generator object g at 0x7ff93ad97c50>\n"
          ]
        }
      ]
    },
    {
      "cell_type": "code",
      "metadata": {
        "colab": {
          "base_uri": "https://localhost:8080/"
        },
        "id": "zlQ55G7xAYs9",
        "outputId": "58b59cc5-92d7-433d-ca32-014cd5647eec"
      },
      "source": [
        "for x in g():\n",
        "  print(x)"
      ],
      "execution_count": null,
      "outputs": [
        {
          "output_type": "stream",
          "name": "stdout",
          "text": [
            "1\n",
            "2\n",
            "3\n"
          ]
        }
      ]
    },
    {
      "cell_type": "code",
      "metadata": {
        "id": "sHdfbGXsArjR"
      },
      "source": [
        "import string"
      ],
      "execution_count": null,
      "outputs": []
    },
    {
      "cell_type": "code",
      "metadata": {
        "id": "vsSduSeqA3Se"
      },
      "source": [
        "def letters():\n",
        "  for c in string.ascii_lowercase:\n",
        "    yield c"
      ],
      "execution_count": null,
      "outputs": []
    },
    {
      "cell_type": "code",
      "metadata": {
        "colab": {
          "base_uri": "https://localhost:8080/"
        },
        "id": "pgbz_WhRA_2b",
        "outputId": "8de0098e-d889-43b3-878a-ed09226f16f3"
      },
      "source": [
        "for letter in letters():\n",
        "  print(letter)"
      ],
      "execution_count": null,
      "outputs": [
        {
          "output_type": "stream",
          "name": "stdout",
          "text": [
            "a\n",
            "b\n",
            "c\n",
            "d\n",
            "e\n",
            "f\n",
            "g\n",
            "h\n",
            "i\n",
            "j\n",
            "k\n",
            "l\n",
            "m\n",
            "n\n",
            "o\n",
            "p\n",
            "q\n",
            "r\n",
            "s\n",
            "t\n",
            "u\n",
            "v\n",
            "w\n",
            "x\n",
            "y\n",
            "z\n"
          ]
        }
      ]
    },
    {
      "cell_type": "code",
      "metadata": {
        "id": "SaIFccvYBQaM"
      },
      "source": [
        "import itertools\n",
        "def prime_numbers():\n",
        "  #Handle the first prime\n",
        "  yield 2\n",
        "  prime_cache = [2]\n",
        "  # loop over positive, odd integers\n",
        "  for n in itertools.count(3,2):\n",
        "    is_prime = True#check to see if any prime number divides n \n",
        "    for p in prime_cache:\n",
        "      if n % p ==0: # p divide n evenly\n",
        "        is_prime = False\n",
        "        break\n",
        "    \n",
        "    if is_prime:\n",
        "      prime_cache.append(n)\n",
        "      yield n"
      ],
      "execution_count": null,
      "outputs": []
    },
    {
      "cell_type": "code",
      "metadata": {
        "id": "5b5rjLwuDVSQ"
      },
      "source": [
        "for p in prime_numbers():\n",
        "  print(p)\n",
        "  if p > 100:\n",
        "    break"
      ],
      "execution_count": null,
      "outputs": []
    },
    {
      "cell_type": "code",
      "metadata": {
        "id": "j2bIO7QTEQus"
      },
      "source": [
        ""
      ],
      "execution_count": null,
      "outputs": []
    },
    {
      "cell_type": "markdown",
      "metadata": {
        "id": "TCE3frv0xJIb"
      },
      "source": [
        "# Estudo e aplicações de exemplos demonstrados práticos do canal [Kite](https://www.youtube.com/watch?v=r7Dtus7N4pI)"
      ]
    },
    {
      "cell_type": "markdown",
      "metadata": {
        "id": "3oPYzJi_xhDW"
      },
      "source": [
        "## [Python Decorators in 15 Minutes](https://www.youtube.com/watch?v=r7Dtus7N4pI)\n"
      ]
    },
    {
      "cell_type": "markdown",
      "metadata": {
        "id": "cdfDDQGSxNCH"
      },
      "source": [
        ""
      ]
    },
    {
      "cell_type": "code",
      "metadata": {
        "id": "az8UfBnGxxtW"
      },
      "source": [
        "def f1():\n",
        "  print('Called f1')"
      ],
      "execution_count": null,
      "outputs": []
    },
    {
      "cell_type": "code",
      "metadata": {
        "colab": {
          "base_uri": "https://localhost:8080/"
        },
        "id": "45JxFMLodjH1",
        "outputId": "465cee6b-246f-4a25-fd74-c36214429728"
      },
      "source": [
        "print(f1)"
      ],
      "execution_count": null,
      "outputs": [
        {
          "output_type": "stream",
          "name": "stdout",
          "text": [
            "<function f1 at 0x7f12ff057b90>\n"
          ]
        }
      ]
    },
    {
      "cell_type": "code",
      "metadata": {
        "id": "wP0uq-ffdu-K"
      },
      "source": [
        "def f2(f):\n",
        "  f()"
      ],
      "execution_count": null,
      "outputs": []
    },
    {
      "cell_type": "code",
      "metadata": {
        "colab": {
          "base_uri": "https://localhost:8080/"
        },
        "id": "SVDhm8Eid3nQ",
        "outputId": "87b2cd12-3075-4cd9-d03f-ba08a58db724"
      },
      "source": [
        "f2(f1)"
      ],
      "execution_count": null,
      "outputs": [
        {
          "output_type": "stream",
          "name": "stdout",
          "text": [
            "Called f1\n"
          ]
        }
      ]
    },
    {
      "cell_type": "code",
      "metadata": {
        "id": "StBgGjRWeBYJ"
      },
      "source": [
        "def f1(func):\n",
        "  def wrapper():\n",
        "    print('Started')\n",
        "    func()\n",
        "    print('Ended')\n",
        "  return wrapper\n",
        "\n"
      ],
      "execution_count": null,
      "outputs": []
    },
    {
      "cell_type": "code",
      "metadata": {
        "id": "BJ-LRrrXeerG"
      },
      "source": [
        "def f():\n",
        "  print('Hello')"
      ],
      "execution_count": null,
      "outputs": []
    },
    {
      "cell_type": "code",
      "metadata": {
        "colab": {
          "base_uri": "https://localhost:8080/"
        },
        "id": "1iTAXMU1elPW",
        "outputId": "d9e9360a-1b58-4b7e-b53a-2c837bac11f7"
      },
      "source": [
        "f1(f)()"
      ],
      "execution_count": null,
      "outputs": [
        {
          "output_type": "stream",
          "name": "stdout",
          "text": [
            "Started\n",
            "Hello\n",
            "Ended\n"
          ]
        }
      ]
    },
    {
      "cell_type": "code",
      "metadata": {
        "colab": {
          "base_uri": "https://localhost:8080/"
        },
        "id": "EaX8OMWxfBw8",
        "outputId": "6d8e1c58-f826-43eb-99f9-dc96b76f3ef8"
      },
      "source": [
        "print(f1(f))"
      ],
      "execution_count": null,
      "outputs": [
        {
          "output_type": "stream",
          "name": "stdout",
          "text": [
            "<function f1.<locals>.wrapper at 0x7f12ff01e710>\n"
          ]
        }
      ]
    },
    {
      "cell_type": "code",
      "metadata": {
        "id": "4vrTDJN-fOrz"
      },
      "source": [
        "x = f1(f)"
      ],
      "execution_count": null,
      "outputs": []
    },
    {
      "cell_type": "code",
      "metadata": {
        "colab": {
          "base_uri": "https://localhost:8080/"
        },
        "id": "62iD-0Nqf-Xp",
        "outputId": "b5466005-ecb6-4202-8e5f-1d46bd304b92"
      },
      "source": [
        "x()"
      ],
      "execution_count": null,
      "outputs": [
        {
          "output_type": "stream",
          "name": "stdout",
          "text": [
            "Started\n",
            "Hello\n",
            "Ended\n"
          ]
        }
      ]
    },
    {
      "cell_type": "code",
      "metadata": {
        "id": "KYEESRt8gTqG"
      },
      "source": [
        ""
      ],
      "execution_count": null,
      "outputs": []
    },
    {
      "cell_type": "code",
      "metadata": {
        "id": "L2CyDg_DgpZ0"
      },
      "source": [
        "@f1\n",
        "def f():\n",
        "  print('sou uma função')"
      ],
      "execution_count": null,
      "outputs": []
    },
    {
      "cell_type": "code",
      "metadata": {
        "colab": {
          "base_uri": "https://localhost:8080/"
        },
        "id": "NcaALfoag5_i",
        "outputId": "2800650c-3555-49a5-a01d-ce535a247683"
      },
      "source": [
        "f()"
      ],
      "execution_count": null,
      "outputs": [
        {
          "output_type": "stream",
          "name": "stdout",
          "text": [
            "Started\n",
            "sou uma função\n",
            "Ended\n"
          ]
        }
      ]
    },
    {
      "cell_type": "markdown",
      "metadata": {
        "id": "RUWPTBMN5v_p"
      },
      "source": [
        "# Estudo e aplicações de exemplos demonstrados práticos do canal [Carlos Melo](https://www.youtube.com/channel/UCxaCu5ht7d3jvisTpiW6vxw)"
      ]
    },
    {
      "cell_type": "markdown",
      "metadata": {
        "id": "EaK-Z-In6c3R"
      },
      "source": [
        "## [Resolvendo um Sistema de Equações Lineares com Python](https://www.youtube.com/watch?v=ZPmtWwZ5GuU)"
      ]
    },
    {
      "cell_type": "code",
      "metadata": {
        "id": "05aVisQC6mBO"
      },
      "source": [
        "import numpy as np"
      ],
      "execution_count": null,
      "outputs": []
    },
    {
      "cell_type": "code",
      "metadata": {
        "colab": {
          "base_uri": "https://localhost:8080/"
        },
        "id": "26QEQc7X7nuq",
        "outputId": "5ae6b924-7c2a-49bd-eecf-ae592b1b012f"
      },
      "source": [
        "A = np.array([[1, 1], [-3, 1]])\n",
        "B = np.array([[6],[2]])\n",
        "\n",
        "A_inversa = np.linalg.inv(A)\n",
        "\n",
        "X = np.dot(A_inversa, B)\n",
        "\n",
        "X"
      ],
      "execution_count": null,
      "outputs": [
        {
          "output_type": "execute_result",
          "data": {
            "text/plain": [
              "array([[1.],\n",
              "       [5.]])"
            ]
          },
          "metadata": {},
          "execution_count": 4
        }
      ]
    },
    {
      "cell_type": "code",
      "metadata": {
        "colab": {
          "base_uri": "https://localhost:8080/"
        },
        "id": "TnuTpM4B854p",
        "outputId": "b83ccc9f-53e3-4c45-b75b-27dc00e90728"
      },
      "source": [
        "np.linalg.solve(A,B)"
      ],
      "execution_count": null,
      "outputs": [
        {
          "output_type": "execute_result",
          "data": {
            "text/plain": [
              "array([[1.],\n",
              "       [5.]])"
            ]
          },
          "metadata": {},
          "execution_count": 5
        }
      ]
    },
    {
      "cell_type": "code",
      "metadata": {
        "colab": {
          "base_uri": "https://localhost:8080/"
        },
        "id": "v5DZhgnn9B0d",
        "outputId": "318e5cb7-4b34-45ae-86ea-8725df8f12b1"
      },
      "source": [
        "Z = np.array([[-1, -4, 0], [0, -4, 1], [-1, 0, -1]])\n",
        "W = np.array([[20], [7], [13]])\n",
        "\n",
        "print(Z)\n",
        "print(W)"
      ],
      "execution_count": null,
      "outputs": [
        {
          "output_type": "stream",
          "name": "stdout",
          "text": [
            "[[-1 -4  0]\n",
            " [ 0 -4  1]\n",
            " [-1  0 -1]]\n",
            "[[20]\n",
            " [ 7]\n",
            " [13]]\n"
          ]
        }
      ]
    },
    {
      "cell_type": "code",
      "metadata": {
        "colab": {
          "base_uri": "https://localhost:8080/",
          "height": 376
        },
        "id": "QXxxuevX_ShI",
        "outputId": "0f8ed970-dee7-440f-ceaf-743b4dc79a7f"
      },
      "source": [
        "np.linalg.solve(Z, W)"
      ],
      "execution_count": null,
      "outputs": [
        {
          "output_type": "error",
          "ename": "LinAlgError",
          "evalue": "ignored",
          "traceback": [
            "\u001b[0;31m---------------------------------------------------------------------------\u001b[0m",
            "\u001b[0;31mLinAlgError\u001b[0m                               Traceback (most recent call last)",
            "\u001b[0;32m<ipython-input-15-4eff66dd8d21>\u001b[0m in \u001b[0;36m<module>\u001b[0;34m()\u001b[0m\n\u001b[0;32m----> 1\u001b[0;31m \u001b[0mnp\u001b[0m\u001b[0;34m.\u001b[0m\u001b[0mlinalg\u001b[0m\u001b[0;34m.\u001b[0m\u001b[0msolve\u001b[0m\u001b[0;34m(\u001b[0m\u001b[0mZ\u001b[0m\u001b[0;34m,\u001b[0m \u001b[0mW\u001b[0m\u001b[0;34m)\u001b[0m\u001b[0;34m\u001b[0m\u001b[0;34m\u001b[0m\u001b[0m\n\u001b[0m",
            "\u001b[0;32m<__array_function__ internals>\u001b[0m in \u001b[0;36msolve\u001b[0;34m(*args, **kwargs)\u001b[0m\n",
            "\u001b[0;32m/usr/local/lib/python3.7/dist-packages/numpy/linalg/linalg.py\u001b[0m in \u001b[0;36msolve\u001b[0;34m(a, b)\u001b[0m\n\u001b[1;32m    392\u001b[0m     \u001b[0msignature\u001b[0m \u001b[0;34m=\u001b[0m \u001b[0;34m'DD->D'\u001b[0m \u001b[0;32mif\u001b[0m \u001b[0misComplexType\u001b[0m\u001b[0;34m(\u001b[0m\u001b[0mt\u001b[0m\u001b[0;34m)\u001b[0m \u001b[0;32melse\u001b[0m \u001b[0;34m'dd->d'\u001b[0m\u001b[0;34m\u001b[0m\u001b[0;34m\u001b[0m\u001b[0m\n\u001b[1;32m    393\u001b[0m     \u001b[0mextobj\u001b[0m \u001b[0;34m=\u001b[0m \u001b[0mget_linalg_error_extobj\u001b[0m\u001b[0;34m(\u001b[0m\u001b[0m_raise_linalgerror_singular\u001b[0m\u001b[0;34m)\u001b[0m\u001b[0;34m\u001b[0m\u001b[0;34m\u001b[0m\u001b[0m\n\u001b[0;32m--> 394\u001b[0;31m     \u001b[0mr\u001b[0m \u001b[0;34m=\u001b[0m \u001b[0mgufunc\u001b[0m\u001b[0;34m(\u001b[0m\u001b[0ma\u001b[0m\u001b[0;34m,\u001b[0m \u001b[0mb\u001b[0m\u001b[0;34m,\u001b[0m \u001b[0msignature\u001b[0m\u001b[0;34m=\u001b[0m\u001b[0msignature\u001b[0m\u001b[0;34m,\u001b[0m \u001b[0mextobj\u001b[0m\u001b[0;34m=\u001b[0m\u001b[0mextobj\u001b[0m\u001b[0;34m)\u001b[0m\u001b[0;34m\u001b[0m\u001b[0;34m\u001b[0m\u001b[0m\n\u001b[0m\u001b[1;32m    395\u001b[0m \u001b[0;34m\u001b[0m\u001b[0m\n\u001b[1;32m    396\u001b[0m     \u001b[0;32mreturn\u001b[0m \u001b[0mwrap\u001b[0m\u001b[0;34m(\u001b[0m\u001b[0mr\u001b[0m\u001b[0;34m.\u001b[0m\u001b[0mastype\u001b[0m\u001b[0;34m(\u001b[0m\u001b[0mresult_t\u001b[0m\u001b[0;34m,\u001b[0m \u001b[0mcopy\u001b[0m\u001b[0;34m=\u001b[0m\u001b[0;32mFalse\u001b[0m\u001b[0;34m)\u001b[0m\u001b[0;34m)\u001b[0m\u001b[0;34m\u001b[0m\u001b[0;34m\u001b[0m\u001b[0m\n",
            "\u001b[0;32m/usr/local/lib/python3.7/dist-packages/numpy/linalg/linalg.py\u001b[0m in \u001b[0;36m_raise_linalgerror_singular\u001b[0;34m(err, flag)\u001b[0m\n\u001b[1;32m     86\u001b[0m \u001b[0;34m\u001b[0m\u001b[0m\n\u001b[1;32m     87\u001b[0m \u001b[0;32mdef\u001b[0m \u001b[0m_raise_linalgerror_singular\u001b[0m\u001b[0;34m(\u001b[0m\u001b[0merr\u001b[0m\u001b[0;34m,\u001b[0m \u001b[0mflag\u001b[0m\u001b[0;34m)\u001b[0m\u001b[0;34m:\u001b[0m\u001b[0;34m\u001b[0m\u001b[0;34m\u001b[0m\u001b[0m\n\u001b[0;32m---> 88\u001b[0;31m     \u001b[0;32mraise\u001b[0m \u001b[0mLinAlgError\u001b[0m\u001b[0;34m(\u001b[0m\u001b[0;34m\"Singular matrix\"\u001b[0m\u001b[0;34m)\u001b[0m\u001b[0;34m\u001b[0m\u001b[0;34m\u001b[0m\u001b[0m\n\u001b[0m\u001b[1;32m     89\u001b[0m \u001b[0;34m\u001b[0m\u001b[0m\n\u001b[1;32m     90\u001b[0m \u001b[0;32mdef\u001b[0m \u001b[0m_raise_linalgerror_nonposdef\u001b[0m\u001b[0;34m(\u001b[0m\u001b[0merr\u001b[0m\u001b[0;34m,\u001b[0m \u001b[0mflag\u001b[0m\u001b[0;34m)\u001b[0m\u001b[0;34m:\u001b[0m\u001b[0;34m\u001b[0m\u001b[0;34m\u001b[0m\u001b[0m\n",
            "\u001b[0;31mLinAlgError\u001b[0m: Singular matrix"
          ]
        }
      ]
    }
  ]
}