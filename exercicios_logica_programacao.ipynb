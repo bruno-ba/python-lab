{
  "nbformat": 4,
  "nbformat_minor": 0,
  "metadata": {
    "colab": {
      "name": "exercicios_logica_programacao.ipynb",
      "provenance": [],
      "collapsed_sections": [
        "hd--ZnG_ihVR",
        "zEuGjWC4nFiV",
        "87SKnqn1n9WM",
        "Asvedx7hoqQd",
        "EY294qyurDYF",
        "d4cE7-vqs1Hy",
        "QCAnBE1JdQYP",
        "sFOjjpJaeqxN",
        "mGv9wr8JkdXC",
        "wIcxFarulUMo",
        "lhfCKnLYoCp5",
        "J5xSAGq2rnV5",
        "nYYlc4dWssGa",
        "CG3aS3js7MiC",
        "Q85AqTHH95cn",
        "DV6A_lJhr4a-",
        "nbVxhCAZ-uYl",
        "9qDlDWO3EpUl"
      ],
      "authorship_tag": "ABX9TyPXNd/SyPgYheiNunZp1IE+",
      "include_colab_link": true
    },
    "kernelspec": {
      "name": "python3",
      "display_name": "Python 3"
    },
    "language_info": {
      "name": "python"
    }
  },
  "cells": [
    {
      "cell_type": "markdown",
      "metadata": {
        "id": "view-in-github",
        "colab_type": "text"
      },
      "source": [
        "<a href=\"https://colab.research.google.com/github/bruno-ba/python-lab/blob/main/exercicios_logica_programacao.ipynb\" target=\"_parent\"><img src=\"https://colab.research.google.com/assets/colab-badge.svg\" alt=\"Open In Colab\"/></a>"
      ]
    },
    {
      "cell_type": "markdown",
      "metadata": {
        "id": "6QMdQS21iDUF"
      },
      "source": [
        ""
      ]
    },
    {
      "cell_type": "markdown",
      "metadata": {
        "id": "wVcHVe6OiIqj"
      },
      "source": [
        "# Fundamentos de Lógica de Programação com Python"
      ]
    },
    {
      "cell_type": "markdown",
      "metadata": {
        "id": "hd--ZnG_ihVR"
      },
      "source": [
        "## Tipo Inteiro"
      ]
    },
    {
      "cell_type": "code",
      "metadata": {
        "colab": {
          "base_uri": "https://localhost:8080/"
        },
        "id": "YnvtWEcKimuu",
        "outputId": "1e1f2af2-472d-430e-b379-0c95f00c1bf0"
      },
      "source": [
        "1"
      ],
      "execution_count": null,
      "outputs": [
        {
          "output_type": "execute_result",
          "data": {
            "text/plain": [
              "1"
            ]
          },
          "metadata": {},
          "execution_count": 1
        }
      ]
    },
    {
      "cell_type": "code",
      "metadata": {
        "colab": {
          "base_uri": "https://localhost:8080/"
        },
        "id": "80HKHiSii7Ji",
        "outputId": "d0b7f900-9a69-4e00-b869-63ca99177b1f"
      },
      "source": [
        "type(1)"
      ],
      "execution_count": null,
      "outputs": [
        {
          "output_type": "execute_result",
          "data": {
            "text/plain": [
              "int"
            ]
          },
          "metadata": {},
          "execution_count": 2
        }
      ]
    },
    {
      "cell_type": "code",
      "metadata": {
        "colab": {
          "base_uri": "https://localhost:8080/"
        },
        "id": "GbA5Wg8mjNnF",
        "outputId": "5dca254e-b5e7-4a2c-f22d-d23e20bc269b"
      },
      "source": [
        "1 + 2"
      ],
      "execution_count": null,
      "outputs": [
        {
          "output_type": "execute_result",
          "data": {
            "text/plain": [
              "3"
            ]
          },
          "metadata": {},
          "execution_count": 3
        }
      ]
    },
    {
      "cell_type": "code",
      "metadata": {
        "colab": {
          "base_uri": "https://localhost:8080/"
        },
        "id": "PzeKhRBXjSGa",
        "outputId": "fc2f0124-15bd-4d9f-f4e6-8d2dbc759409"
      },
      "source": [
        "5 - 3"
      ],
      "execution_count": null,
      "outputs": [
        {
          "output_type": "execute_result",
          "data": {
            "text/plain": [
              "2"
            ]
          },
          "metadata": {},
          "execution_count": 4
        }
      ]
    },
    {
      "cell_type": "code",
      "metadata": {
        "colab": {
          "base_uri": "https://localhost:8080/"
        },
        "id": "RCJjCuLEjVp1",
        "outputId": "376ef2b9-cb78-44af-f677-d701155ad137"
      },
      "source": [
        "6 * 7"
      ],
      "execution_count": null,
      "outputs": [
        {
          "output_type": "execute_result",
          "data": {
            "text/plain": [
              "42"
            ]
          },
          "metadata": {},
          "execution_count": 5
        }
      ]
    },
    {
      "cell_type": "code",
      "metadata": {
        "colab": {
          "base_uri": "https://localhost:8080/"
        },
        "id": "yQkgapswjaRM",
        "outputId": "829b6694-1f05-40e5-b803-b0413878bf13"
      },
      "source": [
        "43 % 6"
      ],
      "execution_count": null,
      "outputs": [
        {
          "output_type": "execute_result",
          "data": {
            "text/plain": [
              "1"
            ]
          },
          "metadata": {},
          "execution_count": 7
        }
      ]
    },
    {
      "cell_type": "code",
      "metadata": {
        "colab": {
          "base_uri": "https://localhost:8080/"
        },
        "id": "ofWDchi8jtSi",
        "outputId": "28361835-43d8-458f-b2ae-ca46ea6228ed"
      },
      "source": [
        "7 * 8"
      ],
      "execution_count": null,
      "outputs": [
        {
          "output_type": "execute_result",
          "data": {
            "text/plain": [
              "56"
            ]
          },
          "metadata": {},
          "execution_count": 8
        }
      ]
    },
    {
      "cell_type": "code",
      "metadata": {
        "colab": {
          "base_uri": "https://localhost:8080/"
        },
        "id": "JsvOaKK-kEXr",
        "outputId": "a5fe0428-034a-4b00-8359-eb52932ef48c"
      },
      "source": [
        "43 // 6"
      ],
      "execution_count": null,
      "outputs": [
        {
          "output_type": "execute_result",
          "data": {
            "text/plain": [
              "7"
            ]
          },
          "metadata": {},
          "execution_count": 9
        }
      ]
    },
    {
      "cell_type": "code",
      "metadata": {
        "colab": {
          "base_uri": "https://localhost:8080/"
        },
        "id": "uLN1VQ3VkO8p",
        "outputId": "2dd52328-57f7-4787-a953-4462c93537ae"
      },
      "source": [
        "43 / 6"
      ],
      "execution_count": null,
      "outputs": [
        {
          "output_type": "execute_result",
          "data": {
            "text/plain": [
              "7.166666666666667"
            ]
          },
          "metadata": {},
          "execution_count": 10
        }
      ]
    },
    {
      "cell_type": "code",
      "metadata": {
        "colab": {
          "base_uri": "https://localhost:8080/"
        },
        "id": "_SI-TKjHkRbC",
        "outputId": "73b2ff13-0116-4444-b9b6-1185fd1c0345"
      },
      "source": [
        "2 ** 3"
      ],
      "execution_count": null,
      "outputs": [
        {
          "output_type": "execute_result",
          "data": {
            "text/plain": [
              "8"
            ]
          },
          "metadata": {},
          "execution_count": 11
        }
      ]
    },
    {
      "cell_type": "code",
      "metadata": {
        "colab": {
          "base_uri": "https://localhost:8080/"
        },
        "id": "32ilrINSkWL9",
        "outputId": "3f50ff90-96b4-4c4a-bf4c-bb0f528a2526"
      },
      "source": [
        "9 ** .5"
      ],
      "execution_count": null,
      "outputs": [
        {
          "output_type": "execute_result",
          "data": {
            "text/plain": [
              "3.0"
            ]
          },
          "metadata": {},
          "execution_count": 14
        }
      ]
    },
    {
      "cell_type": "code",
      "metadata": {
        "colab": {
          "base_uri": "https://localhost:8080/"
        },
        "id": "RjserCMKmui0",
        "outputId": "ec975234-c5ac-4130-db6f-ba05c0b77b62"
      },
      "source": [
        "2 ** 1000"
      ],
      "execution_count": null,
      "outputs": [
        {
          "output_type": "execute_result",
          "data": {
            "text/plain": [
              "10715086071862673209484250490600018105614048117055336074437503883703510511249361224931983788156958581275946729175531468251871452856923140435984577574698574803934567774824230985421074605062371141877954182153046474983581941267398767559165543946077062914571196477686542167660429831652624386837205668069376"
            ]
          },
          "metadata": {},
          "execution_count": 15
        }
      ]
    },
    {
      "cell_type": "markdown",
      "metadata": {
        "id": "zEuGjWC4nFiV"
      },
      "source": [
        "## Tipo Ponto Flutuante"
      ]
    },
    {
      "cell_type": "code",
      "metadata": {
        "colab": {
          "base_uri": "https://localhost:8080/"
        },
        "id": "YErGTB9unJrU",
        "outputId": "9e705c92-6b48-496d-9ad4-d7e6e0463e65"
      },
      "source": [
        "type(7.66666666)"
      ],
      "execution_count": null,
      "outputs": [
        {
          "output_type": "execute_result",
          "data": {
            "text/plain": [
              "float"
            ]
          },
          "metadata": {},
          "execution_count": 17
        }
      ]
    },
    {
      "cell_type": "code",
      "metadata": {
        "colab": {
          "base_uri": "https://localhost:8080/"
        },
        "id": "4Y1EdUd6nfqU",
        "outputId": "e9431e85-11e9-41f3-c8ec-c651a99eee03"
      },
      "source": [
        "7.5 + 5, 5.5 - 7, 7.2 * 2, 2.1 ** 2, 7.3 / 2"
      ],
      "execution_count": null,
      "outputs": [
        {
          "output_type": "execute_result",
          "data": {
            "text/plain": [
              "(12.5, -1.5, 14.4, 4.41, 3.65)"
            ]
          },
          "metadata": {},
          "execution_count": 19
        }
      ]
    },
    {
      "cell_type": "code",
      "metadata": {
        "colab": {
          "base_uri": "https://localhost:8080/"
        },
        "id": "kEquXqDCWAoo",
        "outputId": "ef8ab01a-1515-425f-e213-21f1ea10bd12"
      },
      "source": [
        "type(1.35)"
      ],
      "execution_count": null,
      "outputs": [
        {
          "output_type": "execute_result",
          "data": {
            "text/plain": [
              "float"
            ]
          },
          "metadata": {},
          "execution_count": 7
        }
      ]
    },
    {
      "cell_type": "code",
      "metadata": {
        "colab": {
          "base_uri": "https://localhost:8080/"
        },
        "id": "VSHHsKGVWEur",
        "outputId": "4bcc0c60-8bff-40be-f9e4-6b706547bdc1"
      },
      "source": [
        ".34"
      ],
      "execution_count": null,
      "outputs": [
        {
          "output_type": "execute_result",
          "data": {
            "text/plain": [
              "0.34"
            ]
          },
          "metadata": {},
          "execution_count": 8
        }
      ]
    },
    {
      "cell_type": "code",
      "metadata": {
        "colab": {
          "base_uri": "https://localhost:8080/"
        },
        "id": "5vrBSr4-WGjk",
        "outputId": "c2e64976-bc3c-428c-a2f1-804bb88a2b83"
      },
      "source": [
        ".1 + .2, .1 *.2, .1-.2, .1/.2"
      ],
      "execution_count": null,
      "outputs": [
        {
          "output_type": "execute_result",
          "data": {
            "text/plain": [
              "(0.30000000000000004, 0.020000000000000004, -0.1, 0.5)"
            ]
          },
          "metadata": {},
          "execution_count": 10
        }
      ]
    },
    {
      "cell_type": "code",
      "metadata": {
        "colab": {
          "base_uri": "https://localhost:8080/"
        },
        "id": "9yvbc1C9WkR9",
        "outputId": "d4835130-0cf1-4288-8129-16eeae248555"
      },
      "source": [
        "type(1.0)"
      ],
      "execution_count": null,
      "outputs": [
        {
          "output_type": "execute_result",
          "data": {
            "text/plain": [
              "float"
            ]
          },
          "metadata": {},
          "execution_count": 11
        }
      ]
    },
    {
      "cell_type": "code",
      "metadata": {
        "colab": {
          "base_uri": "https://localhost:8080/"
        },
        "id": "_O3s06iPWmrl",
        "outputId": "b6acd254-e28a-4438-e919-b5a67743edcc"
      },
      "source": [
        "int(1.0)"
      ],
      "execution_count": null,
      "outputs": [
        {
          "output_type": "execute_result",
          "data": {
            "text/plain": [
              "1"
            ]
          },
          "metadata": {},
          "execution_count": 13
        }
      ]
    },
    {
      "cell_type": "code",
      "metadata": {
        "colab": {
          "base_uri": "https://localhost:8080/"
        },
        "id": "KJEVJTn6Wskw",
        "outputId": "366123c2-3c1a-443f-ee1c-6fbf283a8e05"
      },
      "source": [
        "type(_)"
      ],
      "execution_count": null,
      "outputs": [
        {
          "output_type": "execute_result",
          "data": {
            "text/plain": [
              "int"
            ]
          },
          "metadata": {},
          "execution_count": 14
        }
      ]
    },
    {
      "cell_type": "code",
      "metadata": {
        "colab": {
          "base_uri": "https://localhost:8080/"
        },
        "id": "U2GbJUH3WwTS",
        "outputId": "bbe9421e-b16a-419d-bb78-9dcf7680919b"
      },
      "source": [
        "float(1)"
      ],
      "execution_count": null,
      "outputs": [
        {
          "output_type": "execute_result",
          "data": {
            "text/plain": [
              "1.0"
            ]
          },
          "metadata": {},
          "execution_count": 15
        }
      ]
    },
    {
      "cell_type": "code",
      "metadata": {
        "colab": {
          "base_uri": "https://localhost:8080/"
        },
        "id": "ZtWGH9rzWzyl",
        "outputId": "336bbd6c-262a-4411-d1fe-7c753e6cb207"
      },
      "source": [
        "type(_)"
      ],
      "execution_count": null,
      "outputs": [
        {
          "output_type": "execute_result",
          "data": {
            "text/plain": [
              "float"
            ]
          },
          "metadata": {},
          "execution_count": 16
        }
      ]
    },
    {
      "cell_type": "code",
      "metadata": {
        "colab": {
          "base_uri": "https://localhost:8080/"
        },
        "id": "YDq0LDByW6rX",
        "outputId": "53d23987-e8a8-4f5b-a2e9-0339d94511db"
      },
      "source": [
        "int(1.5)"
      ],
      "execution_count": null,
      "outputs": [
        {
          "output_type": "execute_result",
          "data": {
            "text/plain": [
              "1"
            ]
          },
          "metadata": {},
          "execution_count": 17
        }
      ]
    },
    {
      "cell_type": "markdown",
      "metadata": {
        "id": "i_b3Thd_XKbw"
      },
      "source": [
        "### número complexo"
      ]
    },
    {
      "cell_type": "code",
      "metadata": {
        "colab": {
          "base_uri": "https://localhost:8080/"
        },
        "id": "PN-8iPmzXPlL",
        "outputId": "3c54e622-74eb-4004-ed7f-58838edd1920"
      },
      "source": [
        "1j"
      ],
      "execution_count": null,
      "outputs": [
        {
          "output_type": "execute_result",
          "data": {
            "text/plain": [
              "1j"
            ]
          },
          "metadata": {},
          "execution_count": 18
        }
      ]
    },
    {
      "cell_type": "code",
      "metadata": {
        "colab": {
          "base_uri": "https://localhost:8080/"
        },
        "id": "_ThnzC3YXThO",
        "outputId": "1341627f-194b-4f85-f812-31bf4b581ce1"
      },
      "source": [
        "type(1j)"
      ],
      "execution_count": null,
      "outputs": [
        {
          "output_type": "execute_result",
          "data": {
            "text/plain": [
              "complex"
            ]
          },
          "metadata": {},
          "execution_count": 19
        }
      ]
    },
    {
      "cell_type": "code",
      "metadata": {
        "colab": {
          "base_uri": "https://localhost:8080/"
        },
        "id": "CpueSmzSXM_j",
        "outputId": "b291be27-5ea6-435f-9361-26bdc35d4ef5"
      },
      "source": [
        "1j**2"
      ],
      "execution_count": null,
      "outputs": [
        {
          "output_type": "execute_result",
          "data": {
            "text/plain": [
              "(-1+0j)"
            ]
          },
          "metadata": {},
          "execution_count": 21
        }
      ]
    },
    {
      "cell_type": "code",
      "metadata": {
        "colab": {
          "base_uri": "https://localhost:8080/"
        },
        "id": "w9RXHHkAXlJy",
        "outputId": "77e9ded9-554c-413c-882e-0cb2f7f9f623"
      },
      "source": [
        "(1+1j)**2"
      ],
      "execution_count": null,
      "outputs": [
        {
          "output_type": "execute_result",
          "data": {
            "text/plain": [
              "2j"
            ]
          },
          "metadata": {},
          "execution_count": 22
        }
      ]
    },
    {
      "cell_type": "code",
      "metadata": {
        "colab": {
          "base_uri": "https://localhost:8080/"
        },
        "id": "SOeEZaY2Xwn9",
        "outputId": "1ed412ca-d775-43b3-817d-f56135c41ca8"
      },
      "source": [
        "(1+1j)**4"
      ],
      "execution_count": null,
      "outputs": [
        {
          "output_type": "execute_result",
          "data": {
            "text/plain": [
              "(-4+0j)"
            ]
          },
          "metadata": {},
          "execution_count": 23
        }
      ]
    },
    {
      "cell_type": "markdown",
      "metadata": {
        "id": "87SKnqn1n9WM"
      },
      "source": [
        "## Variáveis"
      ]
    },
    {
      "cell_type": "code",
      "metadata": {
        "colab": {
          "base_uri": "https://localhost:8080/"
        },
        "id": "bLApLVeEoAK7",
        "outputId": "eddeccad-eee4-4c2c-92f3-afd9cbb275dd"
      },
      "source": [
        "pi = 3.1416\n",
        "raio = 2\n",
        "pi * raio ** 2"
      ],
      "execution_count": null,
      "outputs": [
        {
          "output_type": "execute_result",
          "data": {
            "text/plain": [
              "12.5664"
            ]
          },
          "metadata": {},
          "execution_count": 23
        }
      ]
    },
    {
      "cell_type": "code",
      "metadata": {
        "colab": {
          "base_uri": "https://localhost:8080/"
        },
        "id": "gdTXJWfSoTvw",
        "outputId": "a5bb153e-4966-42d2-f18e-bcc1f2073187"
      },
      "source": [
        "raio = 1\n",
        "pi * raio ** 2"
      ],
      "execution_count": null,
      "outputs": [
        {
          "output_type": "execute_result",
          "data": {
            "text/plain": [
              "3.1416"
            ]
          },
          "metadata": {},
          "execution_count": 24
        }
      ]
    },
    {
      "cell_type": "code",
      "metadata": {
        "colab": {
          "base_uri": "https://localhost:8080/",
          "height": 163
        },
        "id": "qTXcKAJ3oiCG",
        "outputId": "3c452c46-8fe1-47f1-ca77-8edf6d1eb918"
      },
      "source": [
        "nao_exite"
      ],
      "execution_count": null,
      "outputs": [
        {
          "output_type": "error",
          "ename": "NameError",
          "evalue": "ignored",
          "traceback": [
            "\u001b[0;31m---------------------------------------------------------------------------\u001b[0m",
            "\u001b[0;31mNameError\u001b[0m                                 Traceback (most recent call last)",
            "\u001b[0;32m<ipython-input-25-c8ae3691710e>\u001b[0m in \u001b[0;36m<module>\u001b[0;34m()\u001b[0m\n\u001b[0;32m----> 1\u001b[0;31m \u001b[0mnao_exite\u001b[0m\u001b[0;34m\u001b[0m\u001b[0;34m\u001b[0m\u001b[0m\n\u001b[0m",
            "\u001b[0;31mNameError\u001b[0m: name 'nao_exite' is not defined"
          ]
        }
      ]
    },
    {
      "cell_type": "code",
      "metadata": {
        "id": "r5CygiAWYciu"
      },
      "source": [
        "n=1"
      ],
      "execution_count": null,
      "outputs": []
    },
    {
      "cell_type": "code",
      "metadata": {
        "colab": {
          "base_uri": "https://localhost:8080/"
        },
        "id": "AM9Qpu47Yf7-",
        "outputId": "5c4d145a-bd8a-4074-93f1-76546938d2e5"
      },
      "source": [
        "n"
      ],
      "execution_count": null,
      "outputs": [
        {
          "output_type": "execute_result",
          "data": {
            "text/plain": [
              "1"
            ]
          },
          "metadata": {},
          "execution_count": 25
        }
      ]
    },
    {
      "cell_type": "code",
      "metadata": {
        "colab": {
          "base_uri": "https://localhost:8080/"
        },
        "id": "mUgAzAQoYhPG",
        "outputId": "88c978fb-8aed-41fd-e28d-9c0ad8e1a830"
      },
      "source": [
        "type(n)"
      ],
      "execution_count": null,
      "outputs": [
        {
          "output_type": "execute_result",
          "data": {
            "text/plain": [
              "int"
            ]
          },
          "metadata": {},
          "execution_count": 26
        }
      ]
    },
    {
      "cell_type": "code",
      "metadata": {
        "id": "GcAoCN5FYlFZ"
      },
      "source": [
        "_i =5.0"
      ],
      "execution_count": null,
      "outputs": []
    },
    {
      "cell_type": "code",
      "metadata": {
        "colab": {
          "base_uri": "https://localhost:8080/",
          "height": 129
        },
        "id": "Xl_ZErBIYqvN",
        "outputId": "531f93e5-6ec9-4e9e-bac6-682d3b8d176d"
      },
      "source": [
        "7n = 9"
      ],
      "execution_count": null,
      "outputs": [
        {
          "output_type": "error",
          "ename": "SyntaxError",
          "evalue": "ignored",
          "traceback": [
            "\u001b[0;36m  File \u001b[0;32m\"<ipython-input-28-d78bf2980c64>\"\u001b[0;36m, line \u001b[0;32m1\u001b[0m\n\u001b[0;31m    7n = 9\u001b[0m\n\u001b[0m     ^\u001b[0m\n\u001b[0;31mSyntaxError\u001b[0m\u001b[0;31m:\u001b[0m invalid syntax\n"
          ]
        }
      ]
    },
    {
      "cell_type": "code",
      "metadata": {
        "id": "fPtCAVrhYtQW"
      },
      "source": [
        "n_n8=8"
      ],
      "execution_count": null,
      "outputs": []
    },
    {
      "cell_type": "code",
      "metadata": {
        "colab": {
          "base_uri": "https://localhost:8080/"
        },
        "id": "JNCre43EY09z",
        "outputId": "251e6c39-ad93-422e-f651-b7bc27e3a429"
      },
      "source": [
        "n_n8"
      ],
      "execution_count": null,
      "outputs": [
        {
          "output_type": "execute_result",
          "data": {
            "text/plain": [
              "8"
            ]
          },
          "metadata": {},
          "execution_count": 30
        }
      ]
    },
    {
      "cell_type": "code",
      "metadata": {
        "colab": {
          "base_uri": "https://localhost:8080/",
          "height": 163
        },
        "id": "X3zjKtaEY2tM",
        "outputId": "3f030b11-0284-4171-f5d3-5b2f94b52737"
      },
      "source": [
        "x"
      ],
      "execution_count": null,
      "outputs": [
        {
          "output_type": "error",
          "ename": "NameError",
          "evalue": "ignored",
          "traceback": [
            "\u001b[0;31m---------------------------------------------------------------------------\u001b[0m",
            "\u001b[0;31mNameError\u001b[0m                                 Traceback (most recent call last)",
            "\u001b[0;32m<ipython-input-31-6fcf9dfbd479>\u001b[0m in \u001b[0;36m<module>\u001b[0;34m()\u001b[0m\n\u001b[0;32m----> 1\u001b[0;31m \u001b[0mx\u001b[0m\u001b[0;34m\u001b[0m\u001b[0;34m\u001b[0m\u001b[0m\n\u001b[0m",
            "\u001b[0;31mNameError\u001b[0m: name 'x' is not defined"
          ]
        }
      ]
    },
    {
      "cell_type": "code",
      "metadata": {
        "colab": {
          "base_uri": "https://localhost:8080/"
        },
        "id": "gBqYInZwY5sl",
        "outputId": "f9bed7d7-47ff-4ff4-fd9f-487c4ecf56b9"
      },
      "source": [
        "n"
      ],
      "execution_count": null,
      "outputs": [
        {
          "output_type": "execute_result",
          "data": {
            "text/plain": [
              "1"
            ]
          },
          "metadata": {},
          "execution_count": 32
        }
      ]
    },
    {
      "cell_type": "code",
      "metadata": {
        "colab": {
          "base_uri": "https://localhost:8080/"
        },
        "id": "iW3vOv7rY9yn",
        "outputId": "3d91f625-5af5-4e77-9292-d74ec9c6b2fd"
      },
      "source": [
        "type(n)"
      ],
      "execution_count": null,
      "outputs": [
        {
          "output_type": "execute_result",
          "data": {
            "text/plain": [
              "int"
            ]
          },
          "metadata": {},
          "execution_count": 33
        }
      ]
    },
    {
      "cell_type": "code",
      "metadata": {
        "id": "VQm89GaJZB4K"
      },
      "source": [
        "n =1j"
      ],
      "execution_count": null,
      "outputs": []
    },
    {
      "cell_type": "code",
      "metadata": {
        "colab": {
          "base_uri": "https://localhost:8080/"
        },
        "id": "dBf5jAiCZFm7",
        "outputId": "a9688836-4769-45f5-a2eb-fd731380ac9e"
      },
      "source": [
        "type(n)"
      ],
      "execution_count": null,
      "outputs": [
        {
          "output_type": "execute_result",
          "data": {
            "text/plain": [
              "complex"
            ]
          },
          "metadata": {},
          "execution_count": 35
        }
      ]
    },
    {
      "cell_type": "code",
      "metadata": {
        "id": "xs_vich8ZKhe"
      },
      "source": [
        "n=1.0"
      ],
      "execution_count": null,
      "outputs": []
    },
    {
      "cell_type": "code",
      "metadata": {
        "colab": {
          "base_uri": "https://localhost:8080/"
        },
        "id": "_N9dcWqAZOBw",
        "outputId": "7cc6b0da-11a5-431b-dba1-05afc6bc00cd"
      },
      "source": [
        "type(n)"
      ],
      "execution_count": null,
      "outputs": [
        {
          "output_type": "execute_result",
          "data": {
            "text/plain": [
              "float"
            ]
          },
          "metadata": {},
          "execution_count": 37
        }
      ]
    },
    {
      "cell_type": "code",
      "metadata": {
        "colab": {
          "base_uri": "https://localhost:8080/"
        },
        "id": "WpzKllhiZP5x",
        "outputId": "220cbb12-3479-463a-e703-2d0780c461f8"
      },
      "source": [
        "n+1"
      ],
      "execution_count": null,
      "outputs": [
        {
          "output_type": "execute_result",
          "data": {
            "text/plain": [
              "2.0"
            ]
          },
          "metadata": {},
          "execution_count": 38
        }
      ]
    },
    {
      "cell_type": "code",
      "metadata": {
        "id": "Oww4OCuFZUl0"
      },
      "source": [
        "resultado = n +1"
      ],
      "execution_count": null,
      "outputs": []
    },
    {
      "cell_type": "code",
      "metadata": {
        "colab": {
          "base_uri": "https://localhost:8080/"
        },
        "id": "qzlpw-4NZYSW",
        "outputId": "d61e154b-2947-4292-f26d-2275c4e174b8"
      },
      "source": [
        "resultado"
      ],
      "execution_count": null,
      "outputs": [
        {
          "output_type": "execute_result",
          "data": {
            "text/plain": [
              "2.0"
            ]
          },
          "metadata": {},
          "execution_count": 40
        }
      ]
    },
    {
      "cell_type": "code",
      "metadata": {
        "id": "1x2GA6CiZa7P"
      },
      "source": [
        "n = n + 1"
      ],
      "execution_count": null,
      "outputs": []
    },
    {
      "cell_type": "code",
      "metadata": {
        "colab": {
          "base_uri": "https://localhost:8080/"
        },
        "id": "HhR2qBs7ZmJN",
        "outputId": "95d8f3a5-cf61-45c1-b553-f729c17aa9ec"
      },
      "source": [
        "n"
      ],
      "execution_count": null,
      "outputs": [
        {
          "output_type": "execute_result",
          "data": {
            "text/plain": [
              "2.0"
            ]
          },
          "metadata": {},
          "execution_count": 42
        }
      ]
    },
    {
      "cell_type": "code",
      "metadata": {
        "id": "qNVlAvFaZnVG"
      },
      "source": [
        "n += 1"
      ],
      "execution_count": null,
      "outputs": []
    },
    {
      "cell_type": "code",
      "metadata": {
        "colab": {
          "base_uri": "https://localhost:8080/"
        },
        "id": "tRdu7LQBZvDa",
        "outputId": "96fec8c5-fc2d-4609-a493-0d5831208311"
      },
      "source": [
        "n"
      ],
      "execution_count": null,
      "outputs": [
        {
          "output_type": "execute_result",
          "data": {
            "text/plain": [
              "3.0"
            ]
          },
          "metadata": {},
          "execution_count": 45
        }
      ]
    },
    {
      "cell_type": "code",
      "metadata": {
        "id": "g_3ISzPFZ2zG"
      },
      "source": [
        "n *= 3"
      ],
      "execution_count": null,
      "outputs": []
    },
    {
      "cell_type": "code",
      "metadata": {
        "id": "7gCnXrzyZ6g_",
        "colab": {
          "base_uri": "https://localhost:8080/"
        },
        "outputId": "6c0069f8-b3d5-483d-e121-1d218d8d198d"
      },
      "source": [
        "n"
      ],
      "execution_count": null,
      "outputs": [
        {
          "output_type": "execute_result",
          "data": {
            "text/plain": [
              "9.0"
            ]
          },
          "metadata": {},
          "execution_count": 47
        }
      ]
    },
    {
      "cell_type": "markdown",
      "metadata": {
        "id": "Asvedx7hoqQd"
      },
      "source": [
        "## Cadeia de Caracteres (String)"
      ]
    },
    {
      "cell_type": "code",
      "metadata": {
        "colab": {
          "base_uri": "https://localhost:8080/"
        },
        "id": "_G1-WHvHovlO",
        "outputId": "cbb070a8-6d67-406b-da15-d2482f3af99c"
      },
      "source": [
        "print('Olá, Mundo')"
      ],
      "execution_count": null,
      "outputs": [
        {
          "output_type": "stream",
          "text": [
            "Olá, Mundo\n"
          ],
          "name": "stdout"
        }
      ]
    },
    {
      "cell_type": "code",
      "metadata": {
        "colab": {
          "base_uri": "https://localhost:8080/"
        },
        "id": "XUfVcUG6ozx0",
        "outputId": "630dbd2a-96a4-4019-9692-2ab01627e347"
      },
      "source": [
        "type('Bruno'), type(\"Bruno\"), type(\"\"\"Bruno\"\"\"), type('''Bruno''')"
      ],
      "execution_count": null,
      "outputs": [
        {
          "output_type": "execute_result",
          "data": {
            "text/plain": [
              "(str, str, str, str)"
            ]
          },
          "metadata": {},
          "execution_count": 29
        }
      ]
    },
    {
      "cell_type": "code",
      "metadata": {
        "id": "cmdLAy0FqF61"
      },
      "source": [
        "nome = \"\"\" Bruno's \"name\" \"\"\""
      ],
      "execution_count": null,
      "outputs": []
    },
    {
      "cell_type": "code",
      "metadata": {
        "colab": {
          "base_uri": "https://localhost:8080/"
        },
        "id": "W_UvIRi-qNl4",
        "outputId": "c8fe0d60-612f-49fc-c42e-ca682acb0d74"
      },
      "source": [
        "print(nome)"
      ],
      "execution_count": null,
      "outputs": [
        {
          "output_type": "stream",
          "text": [
            " Bruno's \"name\" \n"
          ],
          "name": "stdout"
        }
      ]
    },
    {
      "cell_type": "code",
      "metadata": {
        "colab": {
          "base_uri": "https://localhost:8080/"
        },
        "id": "61lomyUPqn1u",
        "outputId": "90047dc1-0379-433c-fb64-415b2b8db123"
      },
      "source": [
        "nome = 'Bruno\\nTorres'\n",
        "print(nome)"
      ],
      "execution_count": null,
      "outputs": [
        {
          "output_type": "stream",
          "text": [
            "Bruno\n",
            "Torres\n"
          ],
          "name": "stdout"
        }
      ]
    },
    {
      "cell_type": "code",
      "metadata": {
        "colab": {
          "base_uri": "https://localhost:8080/"
        },
        "id": "MLzDRZQSq6lp",
        "outputId": "9269e592-1241-4127-e69f-22eda8363e08"
      },
      "source": [
        "nome = '''Bruno\n",
        "Torres'''\n",
        "print(nome)"
      ],
      "execution_count": null,
      "outputs": [
        {
          "output_type": "stream",
          "text": [
            "Bruno\n",
            "Torres\n"
          ],
          "name": "stdout"
        }
      ]
    },
    {
      "cell_type": "code",
      "metadata": {
        "colab": {
          "base_uri": "https://localhost:8080/"
        },
        "id": "pN08XHLuT1Jc",
        "outputId": "c20a8044-99d6-4e7d-d05a-9db7d154df24"
      },
      "source": [
        "type(1)"
      ],
      "execution_count": null,
      "outputs": [
        {
          "output_type": "execute_result",
          "data": {
            "text/plain": [
              "int"
            ]
          },
          "metadata": {},
          "execution_count": 1
        }
      ]
    },
    {
      "cell_type": "code",
      "metadata": {
        "colab": {
          "base_uri": "https://localhost:8080/"
        },
        "id": "D5iofz9ZT6oJ",
        "outputId": "411caa93-92da-4568-b364-610de46c9f6e"
      },
      "source": [
        "1+1, 2-1, 6+7, 5/2, 5//2, 5%2, 2**3, 9**0.5"
      ],
      "execution_count": null,
      "outputs": [
        {
          "output_type": "execute_result",
          "data": {
            "text/plain": [
              "(2, 1, 13, 2.5, 2, 1, 8, 3.0)"
            ]
          },
          "metadata": {},
          "execution_count": 2
        }
      ]
    },
    {
      "cell_type": "code",
      "metadata": {
        "colab": {
          "base_uri": "https://localhost:8080/"
        },
        "id": "MdezxFxWUNIT",
        "outputId": "64e44651-bb61-4480-d823-78babcb451d9"
      },
      "source": [
        "2**63"
      ],
      "execution_count": null,
      "outputs": [
        {
          "output_type": "execute_result",
          "data": {
            "text/plain": [
              "9223372036854775808"
            ]
          },
          "metadata": {},
          "execution_count": 3
        }
      ]
    },
    {
      "cell_type": "code",
      "metadata": {
        "colab": {
          "base_uri": "https://localhost:8080/"
        },
        "id": "H5FwtdcrUUM2",
        "outputId": "005b2b72-5645-4c5a-b56c-28df9ddd52b5"
      },
      "source": [
        "2**1000"
      ],
      "execution_count": null,
      "outputs": [
        {
          "output_type": "execute_result",
          "data": {
            "text/plain": [
              "10715086071862673209484250490600018105614048117055336074437503883703510511249361224931983788156958581275946729175531468251871452856923140435984577574698574803934567774824230985421074605062371141877954182153046474983581941267398767559165543946077062914571196477686542167660429831652624386837205668069376"
            ]
          },
          "metadata": {},
          "execution_count": 4
        }
      ]
    },
    {
      "cell_type": "code",
      "metadata": {
        "colab": {
          "base_uri": "https://localhost:8080/"
        },
        "id": "DnOXxbZSUbYS",
        "outputId": "0adeef80-0638-43aa-d804-a2bad29eedc8"
      },
      "source": [
        "import this"
      ],
      "execution_count": null,
      "outputs": [
        {
          "output_type": "stream",
          "text": [
            "The Zen of Python, by Tim Peters\n",
            "\n",
            "Beautiful is better than ugly.\n",
            "Explicit is better than implicit.\n",
            "Simple is better than complex.\n",
            "Complex is better than complicated.\n",
            "Flat is better than nested.\n",
            "Sparse is better than dense.\n",
            "Readability counts.\n",
            "Special cases aren't special enough to break the rules.\n",
            "Although practicality beats purity.\n",
            "Errors should never pass silently.\n",
            "Unless explicitly silenced.\n",
            "In the face of ambiguity, refuse the temptation to guess.\n",
            "There should be one-- and preferably only one --obvious way to do it.\n",
            "Although that way may not be obvious at first unless you're Dutch.\n",
            "Now is better than never.\n",
            "Although never is often better than *right* now.\n",
            "If the implementation is hard to explain, it's a bad idea.\n",
            "If the implementation is easy to explain, it may be a good idea.\n",
            "Namespaces are one honking great idea -- let's do more of those!\n"
          ],
          "name": "stdout"
        }
      ]
    },
    {
      "cell_type": "code",
      "metadata": {
        "colab": {
          "base_uri": "https://localhost:8080/"
        },
        "id": "amy1ft4GVSA2",
        "outputId": "eaf9df6f-c615-4e23-9502-9fd3c5aa92dd"
      },
      "source": [
        "100_000_000"
      ],
      "execution_count": null,
      "outputs": [
        {
          "output_type": "execute_result",
          "data": {
            "text/plain": [
              "100000000"
            ]
          },
          "metadata": {},
          "execution_count": 6
        }
      ]
    },
    {
      "cell_type": "code",
      "metadata": {
        "colab": {
          "base_uri": "https://localhost:8080/"
        },
        "id": "Pw4cAgY4b0cA",
        "outputId": "46bf9a8b-b485-452c-d59b-d430501f4ef3"
      },
      "source": [
        "help('str'.maketrans)"
      ],
      "execution_count": null,
      "outputs": [
        {
          "output_type": "stream",
          "name": "stdout",
          "text": [
            "Help on built-in function maketrans:\n",
            "\n",
            "maketrans(x, y=None, z=None, /)\n",
            "    Return a translation table usable for str.translate().\n",
            "    \n",
            "    If there is only one argument, it must be a dictionary mapping Unicode\n",
            "    ordinals (integers) or characters to Unicode ordinals, strings or None.\n",
            "    Character keys will be then converted to ordinals.\n",
            "    If there are two arguments, they must be strings of equal length, and\n",
            "    in the resulting dictionary, each character in x will be mapped to the\n",
            "    character at the same position in y. If there is a third argument, it\n",
            "    must be a string, whose characters will be mapped to None in the result.\n",
            "\n"
          ]
        }
      ]
    },
    {
      "cell_type": "markdown",
      "metadata": {
        "id": "EY294qyurDYF"
      },
      "source": [
        "## Tipos Booleanos"
      ]
    },
    {
      "cell_type": "code",
      "metadata": {
        "colab": {
          "base_uri": "https://localhost:8080/"
        },
        "id": "OJOGt3ErrF_2",
        "outputId": "7be6fe53-a022-45c4-de6a-f88ef412f585"
      },
      "source": [
        "True, False, type(True), type(False)"
      ],
      "execution_count": null,
      "outputs": [
        {
          "output_type": "execute_result",
          "data": {
            "text/plain": [
              "(True, False, bool, bool)"
            ]
          },
          "metadata": {},
          "execution_count": 43
        }
      ]
    },
    {
      "cell_type": "code",
      "metadata": {
        "colab": {
          "base_uri": "https://localhost:8080/"
        },
        "id": "7U1Ji7aIrXhw",
        "outputId": "95d6b68d-14ea-473a-9967-1441c8e91b03"
      },
      "source": [
        "not True, not False"
      ],
      "execution_count": null,
      "outputs": [
        {
          "output_type": "execute_result",
          "data": {
            "text/plain": [
              "(False, True)"
            ]
          },
          "metadata": {},
          "execution_count": 44
        }
      ]
    },
    {
      "cell_type": "code",
      "metadata": {
        "colab": {
          "base_uri": "https://localhost:8080/"
        },
        "id": "pzWocRRDrbva",
        "outputId": "1f6fd2d2-8bc4-43bc-bc49-198b94a74761"
      },
      "source": [
        "True and True, True and False, False and True, False and False"
      ],
      "execution_count": null,
      "outputs": [
        {
          "output_type": "execute_result",
          "data": {
            "text/plain": [
              "(True, False, False, False)"
            ]
          },
          "metadata": {},
          "execution_count": 46
        }
      ]
    },
    {
      "cell_type": "code",
      "metadata": {
        "colab": {
          "base_uri": "https://localhost:8080/"
        },
        "id": "8K1aWxQ0ruvT",
        "outputId": "e48978c5-e73d-4495-b56e-7de7298d7e73"
      },
      "source": [
        "True or True, True or False, False or True, False or False"
      ],
      "execution_count": null,
      "outputs": [
        {
          "output_type": "execute_result",
          "data": {
            "text/plain": [
              "(True, True, True, False)"
            ]
          },
          "metadata": {},
          "execution_count": 47
        }
      ]
    },
    {
      "cell_type": "code",
      "metadata": {
        "colab": {
          "base_uri": "https://localhost:8080/"
        },
        "id": "hNHL4Z93sG5c",
        "outputId": "c6dd398d-ed52-4fe9-cade-3e94aacb5b72"
      },
      "source": [
        "5 < 6, 5 >= 6, 5 == 4, 5 == 5,  5 != 4, 5 != 5, 'bruno' ==  'bruno'"
      ],
      "execution_count": null,
      "outputs": [
        {
          "output_type": "execute_result",
          "data": {
            "text/plain": [
              "(True, False, False, True, True, False, True)"
            ]
          },
          "metadata": {},
          "execution_count": 49
        }
      ]
    },
    {
      "cell_type": "code",
      "metadata": {
        "colab": {
          "base_uri": "https://localhost:8080/"
        },
        "id": "Cqa6S1uKseMG",
        "outputId": "7258e0d8-2b2a-444c-91d7-ee8974315764"
      },
      "source": [
        "bruno = 'Bruno'\n",
        "bruno == 'bruno'"
      ],
      "execution_count": null,
      "outputs": [
        {
          "output_type": "execute_result",
          "data": {
            "text/plain": [
              "False"
            ]
          },
          "metadata": {},
          "execution_count": 50
        }
      ]
    },
    {
      "cell_type": "code",
      "metadata": {
        "colab": {
          "base_uri": "https://localhost:8080/"
        },
        "id": "-AaXneC7FYEE",
        "outputId": "f6b00b3a-3d80-4136-e235-d69462415041"
      },
      "source": [
        "not True, not False"
      ],
      "execution_count": null,
      "outputs": [
        {
          "output_type": "execute_result",
          "data": {
            "text/plain": [
              "(False, True)"
            ]
          },
          "metadata": {},
          "execution_count": 1
        }
      ]
    },
    {
      "cell_type": "code",
      "metadata": {
        "colab": {
          "base_uri": "https://localhost:8080/"
        },
        "id": "U7y_Q-veFghZ",
        "outputId": "2fd52b9d-dc2b-4af7-88d9-e82d423a77e5"
      },
      "source": [
        "True or True, True or False, False or False"
      ],
      "execution_count": null,
      "outputs": [
        {
          "output_type": "execute_result",
          "data": {
            "text/plain": [
              "(True, True, False)"
            ]
          },
          "metadata": {},
          "execution_count": 4
        }
      ]
    },
    {
      "cell_type": "code",
      "metadata": {
        "colab": {
          "base_uri": "https://localhost:8080/"
        },
        "id": "atKQNA0BFu5K",
        "outputId": "87a74234-5989-4329-88d3-fbb4bda4a65b"
      },
      "source": [
        "False and True, True and True, False and False"
      ],
      "execution_count": null,
      "outputs": [
        {
          "output_type": "execute_result",
          "data": {
            "text/plain": [
              "(False, True, False)"
            ]
          },
          "metadata": {},
          "execution_count": 5
        }
      ]
    },
    {
      "cell_type": "code",
      "metadata": {
        "colab": {
          "base_uri": "https://localhost:8080/"
        },
        "id": "VH0yNdEpF3ID",
        "outputId": "5107623f-eadf-4462-c23f-bb1a1417086c"
      },
      "source": [
        "5 > 6, 5 <= 6, 5 >= 6 "
      ],
      "execution_count": null,
      "outputs": [
        {
          "output_type": "execute_result",
          "data": {
            "text/plain": [
              "(False, True, False)"
            ]
          },
          "metadata": {},
          "execution_count": 6
        }
      ]
    },
    {
      "cell_type": "code",
      "metadata": {
        "colab": {
          "base_uri": "https://localhost:8080/"
        },
        "id": "M65wz86TF_c0",
        "outputId": "434cd30a-b5fb-4423-ec3d-69eb276ee65e"
      },
      "source": [
        "6 == 6, 6 == 7"
      ],
      "execution_count": null,
      "outputs": [
        {
          "output_type": "execute_result",
          "data": {
            "text/plain": [
              "(True, False)"
            ]
          },
          "metadata": {},
          "execution_count": 7
        }
      ]
    },
    {
      "cell_type": "code",
      "metadata": {
        "colab": {
          "base_uri": "https://localhost:8080/"
        },
        "id": "tzdOoT2zGC3y",
        "outputId": "4da63746-cdb4-47b1-a347-4c8c2148a4ea"
      },
      "source": [
        "6 != 7"
      ],
      "execution_count": null,
      "outputs": [
        {
          "output_type": "execute_result",
          "data": {
            "text/plain": [
              "True"
            ]
          },
          "metadata": {},
          "execution_count": 8
        }
      ]
    },
    {
      "cell_type": "code",
      "metadata": {
        "colab": {
          "base_uri": "https://localhost:8080/"
        },
        "id": "9M9KSdyFGJtt",
        "outputId": "f36bf9fc-6d58-4775-9242-95c684a642e6"
      },
      "source": [
        "n=6\n",
        "1 < n and n < 5, 1 < n < 5"
      ],
      "execution_count": null,
      "outputs": [
        {
          "output_type": "execute_result",
          "data": {
            "text/plain": [
              "(False, False)"
            ]
          },
          "metadata": {},
          "execution_count": 12
        }
      ]
    },
    {
      "cell_type": "code",
      "metadata": {
        "colab": {
          "base_uri": "https://localhost:8080/"
        },
        "id": "gfh2bx85GidF",
        "outputId": "e56bf1a9-335c-44d2-dd6f-47f96b0191cf"
      },
      "source": [
        "1 < n <= 6"
      ],
      "execution_count": null,
      "outputs": [
        {
          "output_type": "execute_result",
          "data": {
            "text/plain": [
              "True"
            ]
          },
          "metadata": {},
          "execution_count": 15
        }
      ]
    },
    {
      "cell_type": "markdown",
      "metadata": {
        "id": "d4cE7-vqs1Hy"
      },
      "source": [
        "## Desvios Lógicos"
      ]
    },
    {
      "cell_type": "code",
      "metadata": {
        "colab": {
          "base_uri": "https://localhost:8080/"
        },
        "id": "3-Tl09Uys3wz",
        "outputId": "c8eccb89-6b8b-4ed9-d043-eab6c851d1a3"
      },
      "source": [
        "idade = 65\n",
        "if idade < 18:\n",
        "  print(f'menor de idade: {idade}')\n",
        "  print('Acabou o if')\n",
        "elif idade >= 65:\n",
        "  print(f'pessoa idosa: {idade}' )\n",
        "else:\n",
        "  print(f'maior de idade: {idade}')"
      ],
      "execution_count": null,
      "outputs": [
        {
          "output_type": "stream",
          "name": "stdout",
          "text": [
            "pessoa idosa: 65\n"
          ]
        }
      ]
    },
    {
      "cell_type": "code",
      "metadata": {
        "colab": {
          "base_uri": "https://localhost:8080/"
        },
        "id": "tIaiq7gY1mGL",
        "outputId": "6158f22e-a0ac-4096-8115-1a4fb5afc384"
      },
      "source": [
        "idade = 18\n",
        "if idade < 18:\n",
        "  print(17)\n",
        "elif idade < 60:\n",
        "  print(idade)\n",
        "else:\n",
        "  print(f'maior de 18')"
      ],
      "execution_count": null,
      "outputs": [
        {
          "output_type": "stream",
          "name": "stdout",
          "text": [
            "18\n"
          ]
        }
      ]
    },
    {
      "cell_type": "markdown",
      "metadata": {
        "id": "QCAnBE1JdQYP"
      },
      "source": [
        "## Funções"
      ]
    },
    {
      "cell_type": "code",
      "metadata": {
        "id": "NpzLiGwydTMo"
      },
      "source": [
        "def classificar(idade, nome):\n",
        "  if idade < 18:\n",
        "    return f'{nome} é menor de idade: {idade}'\n",
        "  elif idade >= 65:\n",
        "    return f'{nome} é um(a) idoso(a): {idade}' \n",
        "  else:\n",
        "    return f'{nome} é maior de idade: {idade}'"
      ],
      "execution_count": null,
      "outputs": []
    },
    {
      "cell_type": "code",
      "metadata": {
        "colab": {
          "base_uri": "https://localhost:8080/"
        },
        "id": "Cjv1kDjSd5py",
        "outputId": "c641e04b-527d-41bc-bc4a-0f96fce08e2b"
      },
      "source": [
        "classificar(38,'Bruno'), classificar(150, 'Matusalem')"
      ],
      "execution_count": null,
      "outputs": [
        {
          "output_type": "execute_result",
          "data": {
            "text/plain": [
              "('Bruno é maior de idade: 38', 'Matusalem é um(a) idoso(a): 150')"
            ]
          },
          "metadata": {},
          "execution_count": 7
        }
      ]
    },
    {
      "cell_type": "markdown",
      "metadata": {
        "id": "sFOjjpJaeqxN"
      },
      "source": [
        "## Sequências"
      ]
    },
    {
      "cell_type": "code",
      "metadata": {
        "colab": {
          "base_uri": "https://localhost:8080/"
        },
        "id": "ddiyEmeUkE92",
        "outputId": "a5d9f2dc-0e8b-4446-eecb-afbd209bba28"
      },
      "source": [
        "lista = [1, 4.5, True, []]\n",
        "type(lista), lista"
      ],
      "execution_count": null,
      "outputs": [
        {
          "output_type": "execute_result",
          "data": {
            "text/plain": [
              "(list, [1, 4.5, True, []])"
            ]
          },
          "metadata": {},
          "execution_count": 11
        }
      ]
    },
    {
      "cell_type": "markdown",
      "metadata": {
        "id": "mGv9wr8JkdXC"
      },
      "source": [
        "## Acesso a elementos"
      ]
    },
    {
      "cell_type": "code",
      "metadata": {
        "colab": {
          "base_uri": "https://localhost:8080/"
        },
        "id": "I1ve-fN5khhk",
        "outputId": "6ed84ac1-0e1d-4b18-f1f8-614d039afdcb"
      },
      "source": [
        "lista[0], lista[1]"
      ],
      "execution_count": null,
      "outputs": [
        {
          "output_type": "execute_result",
          "data": {
            "text/plain": [
              "(1, 4.5)"
            ]
          },
          "metadata": {},
          "execution_count": 16
        }
      ]
    },
    {
      "cell_type": "code",
      "metadata": {
        "colab": {
          "base_uri": "https://localhost:8080/"
        },
        "id": "smHIQO12k27E",
        "outputId": "de22265a-c0de-459b-b808-35dec325f693"
      },
      "source": [
        "len(lista)"
      ],
      "execution_count": null,
      "outputs": [
        {
          "output_type": "execute_result",
          "data": {
            "text/plain": [
              "4"
            ]
          },
          "metadata": {},
          "execution_count": 17
        }
      ]
    },
    {
      "cell_type": "code",
      "metadata": {
        "colab": {
          "base_uri": "https://localhost:8080/"
        },
        "id": "1OM5oVs9k9h2",
        "outputId": "5eb7589e-0b34-4d46-b7f5-341b25bb11f0"
      },
      "source": [
        "lista[-1], lista[-2]"
      ],
      "execution_count": null,
      "outputs": [
        {
          "output_type": "execute_result",
          "data": {
            "text/plain": [
              "([], True)"
            ]
          },
          "metadata": {},
          "execution_count": 20
        }
      ]
    },
    {
      "cell_type": "markdown",
      "metadata": {
        "id": "wIcxFarulUMo"
      },
      "source": [
        "## Fatiamento"
      ]
    },
    {
      "cell_type": "code",
      "metadata": {
        "colab": {
          "base_uri": "https://localhost:8080/"
        },
        "id": "3h9iNEcslWOt",
        "outputId": "379a35d6-0b3a-4d74-d3e3-6fefeeb85575"
      },
      "source": [
        "lista"
      ],
      "execution_count": null,
      "outputs": [
        {
          "output_type": "execute_result",
          "data": {
            "text/plain": [
              "[1, 4.5, True, []]"
            ]
          },
          "metadata": {},
          "execution_count": 21
        }
      ]
    },
    {
      "cell_type": "code",
      "metadata": {
        "colab": {
          "base_uri": "https://localhost:8080/"
        },
        "id": "ZlPj_uw8ldUn",
        "outputId": "4733020c-6e29-4dca-d658-b2a92fba20cf"
      },
      "source": [
        "lista[1:3], lista[2:]"
      ],
      "execution_count": null,
      "outputs": [
        {
          "output_type": "execute_result",
          "data": {
            "text/plain": [
              "([4.5, True], [True, []])"
            ]
          },
          "metadata": {},
          "execution_count": 25
        }
      ]
    },
    {
      "cell_type": "code",
      "metadata": {
        "colab": {
          "base_uri": "https://localhost:8080/"
        },
        "id": "boCY63k8mIE9",
        "outputId": "0298a096-e61d-4636-9d86-536f2153f93c"
      },
      "source": [
        "lista[:] #cópia da lista"
      ],
      "execution_count": null,
      "outputs": [
        {
          "output_type": "execute_result",
          "data": {
            "text/plain": [
              "[1, 4.5, True, []]"
            ]
          },
          "metadata": {},
          "execution_count": 26
        }
      ]
    },
    {
      "cell_type": "code",
      "metadata": {
        "colab": {
          "base_uri": "https://localhost:8080/"
        },
        "id": "5pammE4amRht",
        "outputId": "62842a9e-5a60-4801-86a5-2a66a6d4eee7"
      },
      "source": [
        "numeros = list(range(1,11))\n",
        "numeros, numeros[1:7], numeros[1:7:2]"
      ],
      "execution_count": null,
      "outputs": [
        {
          "output_type": "execute_result",
          "data": {
            "text/plain": [
              "([1, 2, 3, 4, 5, 6, 7, 8, 9, 10], [2, 3, 4, 5, 6, 7], [2, 4, 6])"
            ]
          },
          "metadata": {},
          "execution_count": 31
        }
      ]
    },
    {
      "cell_type": "code",
      "metadata": {
        "colab": {
          "base_uri": "https://localhost:8080/"
        },
        "id": "HIScjyHbnSBK",
        "outputId": "bed7bbfb-a979-48de-92be-61997d589d95"
      },
      "source": [
        "list(range(1, 32, 2))"
      ],
      "execution_count": null,
      "outputs": [
        {
          "output_type": "execute_result",
          "data": {
            "text/plain": [
              "[1, 3, 5, 7, 9, 11, 13, 15, 17, 19, 21, 23, 25, 27, 29, 31]"
            ]
          },
          "metadata": {},
          "execution_count": 32
        }
      ]
    },
    {
      "cell_type": "code",
      "metadata": {
        "colab": {
          "base_uri": "https://localhost:8080/"
        },
        "id": "VgHNjygInuPg",
        "outputId": "beb44047-d0a0-4b20-88f6-59ca251fb64f"
      },
      "source": [
        "renzo = 'Renzo Nuccitelli'\n",
        "renzo[0], renzo[:6]"
      ],
      "execution_count": null,
      "outputs": [
        {
          "output_type": "execute_result",
          "data": {
            "text/plain": [
              "('R', 'Renzo ')"
            ]
          },
          "metadata": {},
          "execution_count": 35
        }
      ]
    },
    {
      "cell_type": "code",
      "metadata": {
        "colab": {
          "base_uri": "https://localhost:8080/"
        },
        "id": "tOGBYk-VfOul",
        "outputId": "5d2827dd-c065-40dd-d59a-18590d008f6c"
      },
      "source": [
        "[1,3]*6"
      ],
      "execution_count": null,
      "outputs": [
        {
          "output_type": "execute_result",
          "data": {
            "text/plain": [
              "[1, 3, 1, 3, 1, 3, 1, 3, 1, 3, 1, 3]"
            ]
          },
          "metadata": {},
          "execution_count": 5
        }
      ]
    },
    {
      "cell_type": "code",
      "metadata": {
        "colab": {
          "base_uri": "https://localhost:8080/"
        },
        "id": "K3QTiJJRfX6Z",
        "outputId": "9b4dabde-2ca6-4494-fd9d-c42ce3cb044a"
      },
      "source": [
        "'bruno torres mendes da silva'.split()"
      ],
      "execution_count": null,
      "outputs": [
        {
          "output_type": "execute_result",
          "data": {
            "text/plain": [
              "['bruno', 'torres', 'mendes', 'da', 'silva']"
            ]
          },
          "metadata": {},
          "execution_count": 7
        }
      ]
    },
    {
      "cell_type": "code",
      "metadata": {
        "colab": {
          "base_uri": "https://localhost:8080/",
          "height": 36
        },
        "id": "NmYHFzjrfqfw",
        "outputId": "a3db7b9d-2931-48e0-8e59-c344fc64b9d5"
      },
      "source": [
        "','.join(['bruno', 'torres', 'mendes', 'da', 'silva'])"
      ],
      "execution_count": null,
      "outputs": [
        {
          "output_type": "execute_result",
          "data": {
            "application/vnd.google.colaboratory.intrinsic+json": {
              "type": "string"
            },
            "text/plain": [
              "'bruno,torres,mendes,da,silva'"
            ]
          },
          "metadata": {},
          "execution_count": 10
        }
      ]
    },
    {
      "cell_type": "code",
      "metadata": {
        "colab": {
          "base_uri": "https://localhost:8080/"
        },
        "id": "Y2W3KZ3_f8xy",
        "outputId": "aa1d8b92-4638-4207-a532-122cf86935fc"
      },
      "source": [
        "[1,1.0,'bruno ',[]]"
      ],
      "execution_count": null,
      "outputs": [
        {
          "output_type": "execute_result",
          "data": {
            "text/plain": [
              "[1, 1.0, 'bruno ', []]"
            ]
          },
          "metadata": {},
          "execution_count": 11
        }
      ]
    },
    {
      "cell_type": "code",
      "metadata": {
        "colab": {
          "base_uri": "https://localhost:8080/"
        },
        "id": "jhzsfAi3gO68",
        "outputId": "d9259339-c26e-48a8-cf2b-072dc05b3745"
      },
      "source": [
        "type([])"
      ],
      "execution_count": null,
      "outputs": [
        {
          "output_type": "execute_result",
          "data": {
            "text/plain": [
              "list"
            ]
          },
          "metadata": {},
          "execution_count": 12
        }
      ]
    },
    {
      "cell_type": "code",
      "metadata": {
        "colab": {
          "base_uri": "https://localhost:8080/"
        },
        "id": "Sk4MpnvkgaMh",
        "outputId": "77f7e018-664f-4fe4-8b06-a1dd3a2bc3c1"
      },
      "source": [
        "lista = list(range(10))\n",
        "lista"
      ],
      "execution_count": null,
      "outputs": [
        {
          "output_type": "execute_result",
          "data": {
            "text/plain": [
              "[0, 1, 2, 3, 4, 5, 6, 7, 8, 9]"
            ]
          },
          "metadata": {},
          "execution_count": 13
        }
      ]
    },
    {
      "cell_type": "code",
      "metadata": {
        "colab": {
          "base_uri": "https://localhost:8080/"
        },
        "id": "XEJFb0AjgmG-",
        "outputId": "3493528b-88ad-47ca-95be-aacc881a2f00"
      },
      "source": [
        "lista=list(range(1,9))\n",
        "lista"
      ],
      "execution_count": null,
      "outputs": [
        {
          "output_type": "execute_result",
          "data": {
            "text/plain": [
              "[1, 2, 3, 4, 5, 6, 7, 8]"
            ]
          },
          "metadata": {},
          "execution_count": 15
        }
      ]
    },
    {
      "cell_type": "code",
      "metadata": {
        "colab": {
          "base_uri": "https://localhost:8080/"
        },
        "id": "3XXKrgSLgwr1",
        "outputId": "70e2ce72-42a3-4e06-873c-b627fd332319"
      },
      "source": [
        "lista = list(range(10, 0, -2))\n",
        "lista\n"
      ],
      "execution_count": null,
      "outputs": [
        {
          "output_type": "execute_result",
          "data": {
            "text/plain": [
              "[10, 8, 6, 4, 2]"
            ]
          },
          "metadata": {},
          "execution_count": 16
        }
      ]
    },
    {
      "cell_type": "code",
      "metadata": {
        "colab": {
          "base_uri": "https://localhost:8080/"
        },
        "id": "A16X2hk6hU24",
        "outputId": "847a260d-a2b4-4572-9945-3520141be8bd"
      },
      "source": [
        "help(lista.sort)\n",
        "lista.sort()\n",
        "lista"
      ],
      "execution_count": null,
      "outputs": [
        {
          "output_type": "stream",
          "name": "stdout",
          "text": [
            "Help on built-in function sort:\n",
            "\n",
            "sort(*, key=None, reverse=False) method of builtins.list instance\n",
            "    Stable sort *IN PLACE*.\n",
            "\n"
          ]
        },
        {
          "output_type": "execute_result",
          "data": {
            "text/plain": [
              "[2, 4, 6, 8, 10]"
            ]
          },
          "metadata": {},
          "execution_count": 18
        }
      ]
    },
    {
      "cell_type": "markdown",
      "metadata": {
        "id": "lhfCKnLYoCp5"
      },
      "source": [
        "## Adição e Remoção"
      ]
    },
    {
      "cell_type": "code",
      "metadata": {
        "colab": {
          "base_uri": "https://localhost:8080/"
        },
        "id": "PJ1kJ0HNoLMv",
        "outputId": "686b02d4-0af0-4879-96c2-c4510210897e"
      },
      "source": [
        "dir(numeros)"
      ],
      "execution_count": null,
      "outputs": [
        {
          "output_type": "execute_result",
          "data": {
            "text/plain": [
              "['__add__',\n",
              " '__class__',\n",
              " '__contains__',\n",
              " '__delattr__',\n",
              " '__delitem__',\n",
              " '__dir__',\n",
              " '__doc__',\n",
              " '__eq__',\n",
              " '__format__',\n",
              " '__ge__',\n",
              " '__getattribute__',\n",
              " '__getitem__',\n",
              " '__gt__',\n",
              " '__hash__',\n",
              " '__iadd__',\n",
              " '__imul__',\n",
              " '__init__',\n",
              " '__init_subclass__',\n",
              " '__iter__',\n",
              " '__le__',\n",
              " '__len__',\n",
              " '__lt__',\n",
              " '__mul__',\n",
              " '__ne__',\n",
              " '__new__',\n",
              " '__reduce__',\n",
              " '__reduce_ex__',\n",
              " '__repr__',\n",
              " '__reversed__',\n",
              " '__rmul__',\n",
              " '__setattr__',\n",
              " '__setitem__',\n",
              " '__sizeof__',\n",
              " '__str__',\n",
              " '__subclasshook__',\n",
              " 'append',\n",
              " 'clear',\n",
              " 'copy',\n",
              " 'count',\n",
              " 'extend',\n",
              " 'index',\n",
              " 'insert',\n",
              " 'pop',\n",
              " 'remove',\n",
              " 'reverse',\n",
              " 'sort']"
            ]
          },
          "metadata": {},
          "execution_count": 37
        }
      ]
    },
    {
      "cell_type": "code",
      "metadata": {
        "colab": {
          "base_uri": "https://localhost:8080/"
        },
        "id": "kDRxXuEEqlIO",
        "outputId": "a7701022-8c53-48cd-a091-217c5b18dfd7"
      },
      "source": [
        "help(numeros.pop)"
      ],
      "execution_count": null,
      "outputs": [
        {
          "output_type": "stream",
          "text": [
            "Help on built-in function pop:\n",
            "\n",
            "pop(index=-1, /) method of builtins.list instance\n",
            "    Remove and return item at index (default last).\n",
            "    \n",
            "    Raises IndexError if list is empty or index is out of range.\n",
            "\n"
          ],
          "name": "stdout"
        }
      ]
    },
    {
      "cell_type": "code",
      "metadata": {
        "colab": {
          "base_uri": "https://localhost:8080/"
        },
        "id": "Php5Lwm2q0I5",
        "outputId": "01eb2253-6be6-4fee-899a-19d2ade16c25"
      },
      "source": [
        "numeros.pop()"
      ],
      "execution_count": null,
      "outputs": [
        {
          "output_type": "execute_result",
          "data": {
            "text/plain": [
              "10"
            ]
          },
          "metadata": {},
          "execution_count": 40
        }
      ]
    },
    {
      "cell_type": "code",
      "metadata": {
        "colab": {
          "base_uri": "https://localhost:8080/"
        },
        "id": "AnA54zZvq1O1",
        "outputId": "ec8c6e7f-5888-4bfc-9699-a36162bcd4d4"
      },
      "source": [
        "numeros"
      ],
      "execution_count": null,
      "outputs": [
        {
          "output_type": "execute_result",
          "data": {
            "text/plain": [
              "[1, 2, 3, 4, 5, 6, 7, 8, 9]"
            ]
          },
          "metadata": {},
          "execution_count": 41
        }
      ]
    },
    {
      "cell_type": "code",
      "metadata": {
        "id": "R3SpvFyEq_1D"
      },
      "source": [
        "numeros.append(10)"
      ],
      "execution_count": null,
      "outputs": []
    },
    {
      "cell_type": "code",
      "metadata": {
        "colab": {
          "base_uri": "https://localhost:8080/"
        },
        "id": "bRyeORKfrC9k",
        "outputId": "448d1e24-2138-4cb6-d2fb-40e0db90d2d4"
      },
      "source": [
        "numeros"
      ],
      "execution_count": null,
      "outputs": [
        {
          "output_type": "execute_result",
          "data": {
            "text/plain": [
              "[1, 2, 3, 4, 5, 6, 7, 8, 9, 10]"
            ]
          },
          "metadata": {},
          "execution_count": 43
        }
      ]
    },
    {
      "cell_type": "code",
      "metadata": {
        "colab": {
          "base_uri": "https://localhost:8080/"
        },
        "id": "IHh4ee3CrEzm",
        "outputId": "0a765a3d-3f35-4bf0-a7b7-7e43e06fd1a8"
      },
      "source": [
        "numeros.extend([11,12])\n",
        "numeros"
      ],
      "execution_count": null,
      "outputs": [
        {
          "output_type": "execute_result",
          "data": {
            "text/plain": [
              "[1, 2, 3, 4, 5, 6, 7, 8, 9, 10, 11, 12]"
            ]
          },
          "metadata": {},
          "execution_count": 44
        }
      ]
    },
    {
      "cell_type": "code",
      "metadata": {
        "colab": {
          "base_uri": "https://localhost:8080/"
        },
        "id": "5hL5y-E3rK9h",
        "outputId": "ab75ed1d-75f4-4de9-bf85-7f281cc56f99"
      },
      "source": [
        "[1, 3] + [2, 4]"
      ],
      "execution_count": null,
      "outputs": [
        {
          "output_type": "execute_result",
          "data": {
            "text/plain": [
              "[1, 3, 2, 4]"
            ]
          },
          "metadata": {},
          "execution_count": 45
        }
      ]
    },
    {
      "cell_type": "code",
      "metadata": {
        "colab": {
          "base_uri": "https://localhost:8080/"
        },
        "id": "Uenqlp0_rTO2",
        "outputId": "a9bb5908-98a4-4f62-e80a-2b6f88825f46"
      },
      "source": [
        "[1,3] * 3"
      ],
      "execution_count": null,
      "outputs": [
        {
          "output_type": "execute_result",
          "data": {
            "text/plain": [
              "[1, 3, 1, 3, 1, 3]"
            ]
          },
          "metadata": {},
          "execution_count": 46
        }
      ]
    },
    {
      "cell_type": "code",
      "metadata": {
        "colab": {
          "base_uri": "https://localhost:8080/",
          "height": 35
        },
        "id": "Nv9JyfEUraCZ",
        "outputId": "e252faf2-69c9-400f-b75d-4d541fcc1272"
      },
      "source": [
        "'Renzo ' + ' Nuccitelli'"
      ],
      "execution_count": null,
      "outputs": [
        {
          "output_type": "execute_result",
          "data": {
            "application/vnd.google.colaboratory.intrinsic+json": {
              "type": "string"
            },
            "text/plain": [
              "'Renzo  Nuccitelli'"
            ]
          },
          "metadata": {},
          "execution_count": 47
        }
      ]
    },
    {
      "cell_type": "code",
      "metadata": {
        "colab": {
          "base_uri": "https://localhost:8080/",
          "height": 35
        },
        "id": "dAxNBarsreqj",
        "outputId": "c82c11e9-e0be-4628-82d7-10c3698bfd86"
      },
      "source": [
        "'bla ' * 3"
      ],
      "execution_count": null,
      "outputs": [
        {
          "output_type": "execute_result",
          "data": {
            "application/vnd.google.colaboratory.intrinsic+json": {
              "type": "string"
            },
            "text/plain": [
              "'bla bla bla '"
            ]
          },
          "metadata": {},
          "execution_count": 48
        }
      ]
    },
    {
      "cell_type": "code",
      "metadata": {
        "id": "LMwuumRb47n7"
      },
      "source": [
        "lista = ['G','E','E','K','S','F',\n",
        "        'O','R','G','E','E','K','S']"
      ],
      "execution_count": null,
      "outputs": []
    },
    {
      "cell_type": "code",
      "metadata": {
        "colab": {
          "base_uri": "https://localhost:8080/"
        },
        "id": "IJq3ZzaH5CAN",
        "outputId": "a3bf42b1-0d45-446f-a07f-e0e16e617f02"
      },
      "source": [
        "lista[:-6]"
      ],
      "execution_count": null,
      "outputs": [
        {
          "output_type": "execute_result",
          "data": {
            "text/plain": [
              "['G', 'E', 'E', 'K', 'S', 'F', 'O']"
            ]
          },
          "metadata": {},
          "execution_count": 22
        }
      ]
    },
    {
      "cell_type": "code",
      "metadata": {
        "colab": {
          "base_uri": "https://localhost:8080/"
        },
        "id": "xKX6vGb95k45",
        "outputId": "c965c74f-30a4-4b8c-ab45-b5fbc4eb1fdf"
      },
      "source": [
        "lista[-6:-1]"
      ],
      "execution_count": null,
      "outputs": [
        {
          "output_type": "execute_result",
          "data": {
            "text/plain": [
              "['R', 'G', 'E', 'E', 'K']"
            ]
          },
          "metadata": {},
          "execution_count": 23
        }
      ]
    },
    {
      "cell_type": "code",
      "metadata": {
        "colab": {
          "base_uri": "https://localhost:8080/"
        },
        "id": "CW-ZUI9c5whg",
        "outputId": "9a13bb55-d0b3-4d08-f7f0-d110034da7e4"
      },
      "source": [
        "lista[::-1]"
      ],
      "execution_count": null,
      "outputs": [
        {
          "output_type": "execute_result",
          "data": {
            "text/plain": [
              "['S', 'K', 'E', 'E', 'G', 'R', 'O', 'F', 'S', 'K', 'E', 'E', 'G']"
            ]
          },
          "metadata": {},
          "execution_count": 24
        }
      ]
    },
    {
      "cell_type": "markdown",
      "metadata": {
        "id": "J5xSAGq2rnV5"
      },
      "source": [
        "## Laços de Repetição"
      ]
    },
    {
      "cell_type": "code",
      "metadata": {
        "colab": {
          "base_uri": "https://localhost:8080/"
        },
        "id": "PH5_YgQMrrsy",
        "outputId": "1c36b8b8-c91d-47b4-bbcf-3f091c435ecc"
      },
      "source": [
        "idades =[17, 38, 70]\n",
        "classificar(idades[0], 'Renzo'),classificar(idades[1], 'Renzo'),classificar(idades[2], 'Renzo')"
      ],
      "execution_count": null,
      "outputs": [
        {
          "output_type": "execute_result",
          "data": {
            "text/plain": [
              "('Renzo é menor de idade: 17',\n",
              " 'Renzo é maior de idade: 38',\n",
              " 'Renzo é um(a) idoso(a): 70')"
            ]
          },
          "metadata": {},
          "execution_count": 50
        }
      ]
    },
    {
      "cell_type": "code",
      "metadata": {
        "colab": {
          "base_uri": "https://localhost:8080/"
        },
        "id": "Dc43Hm4Lr9_W",
        "outputId": "86e0050d-c934-4fef-f77d-60a2537d9c40"
      },
      "source": [
        "for idade in  idades:\n",
        "  print(classificar(idade, 'Renzo'))"
      ],
      "execution_count": null,
      "outputs": [
        {
          "output_type": "stream",
          "text": [
            "Renzo é menor de idade: 17\n",
            "Renzo é maior de idade: 38\n",
            "Renzo é um(a) idoso(a): 70\n"
          ],
          "name": "stdout"
        }
      ]
    },
    {
      "cell_type": "code",
      "metadata": {
        "colab": {
          "base_uri": "https://localhost:8080/"
        },
        "id": "i6LHtqYg_-1y",
        "outputId": "dacb87a2-f22e-4b38-90d2-56a16de70556"
      },
      "source": [
        "nome='bruno'\n",
        "i=0\n",
        "while i < len(nome):\n",
        "  print(nome[i])\n",
        "  i+=1\n"
      ],
      "execution_count": null,
      "outputs": [
        {
          "output_type": "stream",
          "name": "stdout",
          "text": [
            "b\n",
            "r\n",
            "u\n",
            "n\n",
            "o\n"
          ]
        }
      ]
    },
    {
      "cell_type": "code",
      "metadata": {
        "colab": {
          "base_uri": "https://localhost:8080/"
        },
        "id": "x7ayCs7SA8Du",
        "outputId": "95f3cd66-17f9-41e3-d57d-5d0749aca06a"
      },
      "source": [
        "for v in nome:\n",
        "  print(v)"
      ],
      "execution_count": null,
      "outputs": [
        {
          "output_type": "stream",
          "name": "stdout",
          "text": [
            "b\n",
            "r\n",
            "u\n",
            "n\n",
            "o\n"
          ]
        }
      ]
    },
    {
      "cell_type": "markdown",
      "metadata": {
        "id": "nYYlc4dWssGa"
      },
      "source": [
        "## Dicionário"
      ]
    },
    {
      "cell_type": "code",
      "metadata": {
        "id": "FnMVKhydsxvu"
      },
      "source": [
        "linguas = {'pt': 'Portugues', 'en': 'Inglês'}\n"
      ],
      "execution_count": null,
      "outputs": []
    },
    {
      "cell_type": "code",
      "metadata": {
        "colab": {
          "base_uri": "https://localhost:8080/"
        },
        "id": "L51ipe_vs-3h",
        "outputId": "d624e466-f406-484c-d5d4-071bc6d863f8"
      },
      "source": [
        "linguas['pt'], linguas['en']"
      ],
      "execution_count": null,
      "outputs": [
        {
          "output_type": "execute_result",
          "data": {
            "text/plain": [
              "('Portugues', 'Inglês')"
            ]
          },
          "metadata": {},
          "execution_count": 55
        }
      ]
    },
    {
      "cell_type": "code",
      "metadata": {
        "id": "Mfgtc9avtHCF"
      },
      "source": [
        "linguas['es'] = 'Espanhol'"
      ],
      "execution_count": null,
      "outputs": []
    },
    {
      "cell_type": "code",
      "metadata": {
        "colab": {
          "base_uri": "https://localhost:8080/"
        },
        "id": "eqUrYQJ-tL2I",
        "outputId": "38eb9951-abf7-42de-9770-2af163b0af04"
      },
      "source": [
        "linguas"
      ],
      "execution_count": null,
      "outputs": [
        {
          "output_type": "execute_result",
          "data": {
            "text/plain": [
              "{'en': 'Inglês', 'es': 'Espanhol', 'pt': 'Portugues'}"
            ]
          },
          "metadata": {},
          "execution_count": 58
        }
      ]
    },
    {
      "cell_type": "code",
      "metadata": {
        "colab": {
          "base_uri": "https://localhost:8080/"
        },
        "id": "4sbMx72utO6A",
        "outputId": "d36d3fd0-5b12-46f0-b2da-8d359136ba5f"
      },
      "source": [
        "for chave in linguas:\n",
        "  print(chave)"
      ],
      "execution_count": null,
      "outputs": [
        {
          "output_type": "stream",
          "text": [
            "pt\n",
            "en\n",
            "es\n"
          ],
          "name": "stdout"
        }
      ]
    },
    {
      "cell_type": "code",
      "metadata": {
        "colab": {
          "base_uri": "https://localhost:8080/"
        },
        "id": "X1a8r_-AtWCu",
        "outputId": "24694389-dfcd-4ab8-8592-084d5a904b05"
      },
      "source": [
        "for value in linguas.values():\n",
        "  print(value)"
      ],
      "execution_count": null,
      "outputs": [
        {
          "output_type": "stream",
          "text": [
            "Portugues\n",
            "Inglês\n",
            "Espanhol\n"
          ],
          "name": "stdout"
        }
      ]
    },
    {
      "cell_type": "code",
      "metadata": {
        "colab": {
          "base_uri": "https://localhost:8080/"
        },
        "id": "2b4eRsG2teHh",
        "outputId": "677f6b48-65bb-4cca-de90-78865d7327f7"
      },
      "source": [
        "for chave, valor in linguas.items():\n",
        "  print(chave,valor)"
      ],
      "execution_count": null,
      "outputs": [
        {
          "output_type": "stream",
          "text": [
            "pt Portugues\n",
            "en Inglês\n",
            "es Espanhol\n"
          ],
          "name": "stdout"
        }
      ]
    },
    {
      "cell_type": "code",
      "metadata": {
        "id": "ECY1wK9htmSP"
      },
      "source": [
        ""
      ],
      "execution_count": null,
      "outputs": []
    },
    {
      "cell_type": "code",
      "metadata": {
        "id": "yriPFB0W7Lh0"
      },
      "source": [
        ""
      ],
      "execution_count": null,
      "outputs": []
    },
    {
      "cell_type": "code",
      "metadata": {
        "colab": {
          "base_uri": "https://localhost:8080/"
        },
        "id": "IgLQYvEHBSRZ",
        "outputId": "1711ec7a-5b04-46e4-c189-a2eb4e1a75e1"
      },
      "source": [
        "for i, v in enumerate(nome):\n",
        "  print(i, v)"
      ],
      "execution_count": null,
      "outputs": [
        {
          "output_type": "stream",
          "name": "stdout",
          "text": [
            "0 b\n",
            "1 r\n",
            "2 u\n",
            "3 n\n",
            "4 o\n"
          ]
        }
      ]
    },
    {
      "cell_type": "code",
      "metadata": {
        "id": "wzqgoQaeBr8o"
      },
      "source": [
        ""
      ],
      "execution_count": null,
      "outputs": []
    },
    {
      "cell_type": "markdown",
      "metadata": {
        "id": "CG3aS3js7MiC"
      },
      "source": [
        "## Tuplas"
      ]
    },
    {
      "cell_type": "code",
      "metadata": {
        "colab": {
          "base_uri": "https://localhost:8080/"
        },
        "id": "wJeQAdiN7Ppm",
        "outputId": "b20e8ee3-9913-4f81-9368-6b089e0da04a"
      },
      "source": [
        "tpl = ()\n",
        "type(tpl)"
      ],
      "execution_count": null,
      "outputs": [
        {
          "output_type": "execute_result",
          "data": {
            "text/plain": [
              "tuple"
            ]
          },
          "metadata": {},
          "execution_count": 25
        }
      ]
    },
    {
      "cell_type": "code",
      "metadata": {
        "colab": {
          "base_uri": "https://localhost:8080/"
        },
        "id": "pVZ2pzVb7fPG",
        "outputId": "f0e56cc8-febc-42f4-ff91-3e8a366dd698"
      },
      "source": [
        "dir(tpl)"
      ],
      "execution_count": null,
      "outputs": [
        {
          "output_type": "execute_result",
          "data": {
            "text/plain": [
              "['__add__',\n",
              " '__class__',\n",
              " '__contains__',\n",
              " '__delattr__',\n",
              " '__dir__',\n",
              " '__doc__',\n",
              " '__eq__',\n",
              " '__format__',\n",
              " '__ge__',\n",
              " '__getattribute__',\n",
              " '__getitem__',\n",
              " '__getnewargs__',\n",
              " '__gt__',\n",
              " '__hash__',\n",
              " '__init__',\n",
              " '__init_subclass__',\n",
              " '__iter__',\n",
              " '__le__',\n",
              " '__len__',\n",
              " '__lt__',\n",
              " '__mul__',\n",
              " '__ne__',\n",
              " '__new__',\n",
              " '__reduce__',\n",
              " '__reduce_ex__',\n",
              " '__repr__',\n",
              " '__rmul__',\n",
              " '__setattr__',\n",
              " '__sizeof__',\n",
              " '__str__',\n",
              " '__subclasshook__',\n",
              " 'count',\n",
              " 'index']"
            ]
          },
          "metadata": {},
          "execution_count": 26
        }
      ]
    },
    {
      "cell_type": "code",
      "metadata": {
        "colab": {
          "base_uri": "https://localhost:8080/"
        },
        "id": "u9CIHxXJ7gxf",
        "outputId": "57df9acd-542d-4d47-fc01-b69f17a85345"
      },
      "source": [
        "tuple(range(6))"
      ],
      "execution_count": null,
      "outputs": [
        {
          "output_type": "execute_result",
          "data": {
            "text/plain": [
              "(0, 1, 2, 3, 4, 5)"
            ]
          },
          "metadata": {},
          "execution_count": 27
        }
      ]
    },
    {
      "cell_type": "code",
      "metadata": {
        "colab": {
          "base_uri": "https://localhost:8080/"
        },
        "id": "Xac3KAju7nNa",
        "outputId": "17f90b2b-0f66-4151-86ad-9888318db15e"
      },
      "source": [
        "2+3*4\n"
      ],
      "execution_count": null,
      "outputs": [
        {
          "output_type": "execute_result",
          "data": {
            "text/plain": [
              "14"
            ]
          },
          "metadata": {},
          "execution_count": 28
        }
      ]
    },
    {
      "cell_type": "code",
      "metadata": {
        "colab": {
          "base_uri": "https://localhost:8080/"
        },
        "id": "2zUwxWAr7rwN",
        "outputId": "d673d9c5-39fa-447a-96bc-218c64bb0f55"
      },
      "source": [
        "(2+3)*4"
      ],
      "execution_count": null,
      "outputs": [
        {
          "output_type": "execute_result",
          "data": {
            "text/plain": [
              "20"
            ]
          },
          "metadata": {},
          "execution_count": 29
        }
      ]
    },
    {
      "cell_type": "code",
      "metadata": {
        "colab": {
          "base_uri": "https://localhost:8080/"
        },
        "id": "mfwBCF__70y4",
        "outputId": "058b1280-6c75-4c01-c219-cf14d0e8338c"
      },
      "source": [
        "type((6,))"
      ],
      "execution_count": null,
      "outputs": [
        {
          "output_type": "execute_result",
          "data": {
            "text/plain": [
              "tuple"
            ]
          },
          "metadata": {},
          "execution_count": 31
        }
      ]
    },
    {
      "cell_type": "code",
      "metadata": {
        "id": "Yhonm2Bo8Z5U"
      },
      "source": [
        "registro =('bruno',35)"
      ],
      "execution_count": null,
      "outputs": []
    },
    {
      "cell_type": "code",
      "metadata": {
        "id": "yq72XTtH8e9I"
      },
      "source": [
        "nome, idade = registro"
      ],
      "execution_count": null,
      "outputs": []
    },
    {
      "cell_type": "code",
      "metadata": {
        "colab": {
          "base_uri": "https://localhost:8080/",
          "height": 36
        },
        "id": "6PDP20K58hKq",
        "outputId": "90b8d460-8881-46e2-8351-f442619e1919"
      },
      "source": [
        "nome"
      ],
      "execution_count": null,
      "outputs": [
        {
          "output_type": "execute_result",
          "data": {
            "application/vnd.google.colaboratory.intrinsic+json": {
              "type": "string"
            },
            "text/plain": [
              "'bruno'"
            ]
          },
          "metadata": {},
          "execution_count": 34
        }
      ]
    },
    {
      "cell_type": "code",
      "metadata": {
        "colab": {
          "base_uri": "https://localhost:8080/"
        },
        "id": "AVAR1PxK8j5b",
        "outputId": "e40ed8a1-6493-4bd0-b71c-953346623366"
      },
      "source": [
        "idade"
      ],
      "execution_count": null,
      "outputs": [
        {
          "output_type": "execute_result",
          "data": {
            "text/plain": [
              "35"
            ]
          },
          "metadata": {},
          "execution_count": 35
        }
      ]
    },
    {
      "cell_type": "code",
      "metadata": {
        "colab": {
          "base_uri": "https://localhost:8080/"
        },
        "id": "KJ8vT7n78lkj",
        "outputId": "a71bd59a-4fe7-4f4f-bb5e-7db5a30de1f9"
      },
      "source": [
        "id(registro)"
      ],
      "execution_count": null,
      "outputs": [
        {
          "output_type": "execute_result",
          "data": {
            "text/plain": [
              "140468613792704"
            ]
          },
          "metadata": {},
          "execution_count": 36
        }
      ]
    },
    {
      "cell_type": "code",
      "metadata": {
        "id": "KEiA0hpE8_WS"
      },
      "source": [
        ""
      ],
      "execution_count": null,
      "outputs": []
    },
    {
      "cell_type": "markdown",
      "metadata": {
        "id": "Q85AqTHH95cn"
      },
      "source": [
        "## Fatiamento"
      ]
    },
    {
      "cell_type": "code",
      "metadata": {
        "colab": {
          "base_uri": "https://localhost:8080/",
          "height": 36
        },
        "id": "KMxR1ud998pY",
        "outputId": "f07d69bf-f6eb-4b77-aa4e-6714ac2f58fa"
      },
      "source": [
        "nome='Bruno'\n",
        "nome[0]"
      ],
      "execution_count": null,
      "outputs": [
        {
          "output_type": "execute_result",
          "data": {
            "application/vnd.google.colaboratory.intrinsic+json": {
              "type": "string"
            },
            "text/plain": [
              "'B'"
            ]
          },
          "metadata": {},
          "execution_count": 37
        }
      ]
    },
    {
      "cell_type": "code",
      "metadata": {
        "colab": {
          "base_uri": "https://localhost:8080/",
          "height": 36
        },
        "id": "ksfzhnhT-Cw4",
        "outputId": "5e4aa1fa-f2f1-4d88-c40e-d296a6cc79c5"
      },
      "source": [
        "nome[1]"
      ],
      "execution_count": null,
      "outputs": [
        {
          "output_type": "execute_result",
          "data": {
            "application/vnd.google.colaboratory.intrinsic+json": {
              "type": "string"
            },
            "text/plain": [
              "'r'"
            ]
          },
          "metadata": {},
          "execution_count": 38
        }
      ]
    },
    {
      "cell_type": "code",
      "metadata": {
        "colab": {
          "base_uri": "https://localhost:8080/"
        },
        "id": "1h1L2G-o-FFB",
        "outputId": "e8e459a6-fc7e-49cf-d23f-77b4c97dd55b"
      },
      "source": [
        "len(nome)"
      ],
      "execution_count": null,
      "outputs": [
        {
          "output_type": "execute_result",
          "data": {
            "text/plain": [
              "5"
            ]
          },
          "metadata": {},
          "execution_count": 39
        }
      ]
    },
    {
      "cell_type": "code",
      "metadata": {
        "colab": {
          "base_uri": "https://localhost:8080/",
          "height": 36
        },
        "id": "wlaoM5cW-G8v",
        "outputId": "292c140c-a1d3-45c3-8f35-1e0695a4d81b"
      },
      "source": [
        "nome[-1]"
      ],
      "execution_count": null,
      "outputs": [
        {
          "output_type": "execute_result",
          "data": {
            "application/vnd.google.colaboratory.intrinsic+json": {
              "type": "string"
            },
            "text/plain": [
              "'o'"
            ]
          },
          "metadata": {},
          "execution_count": 42
        }
      ]
    },
    {
      "cell_type": "code",
      "metadata": {
        "colab": {
          "base_uri": "https://localhost:8080/",
          "height": 175
        },
        "id": "Ao6Gyicw-dJQ",
        "outputId": "b612b8ec-34eb-4616-86df-b2856f95fe37"
      },
      "source": [
        "nome[-250]"
      ],
      "execution_count": null,
      "outputs": [
        {
          "output_type": "error",
          "ename": "IndexError",
          "evalue": "ignored",
          "traceback": [
            "\u001b[0;31m---------------------------------------------------------------------------\u001b[0m",
            "\u001b[0;31mIndexError\u001b[0m                                Traceback (most recent call last)",
            "\u001b[0;32m<ipython-input-43-7e0b84237ddd>\u001b[0m in \u001b[0;36m<module>\u001b[0;34m()\u001b[0m\n\u001b[0;32m----> 1\u001b[0;31m \u001b[0mnome\u001b[0m\u001b[0;34m[\u001b[0m\u001b[0;34m-\u001b[0m\u001b[0;36m250\u001b[0m\u001b[0;34m]\u001b[0m\u001b[0;34m\u001b[0m\u001b[0;34m\u001b[0m\u001b[0m\n\u001b[0m",
            "\u001b[0;31mIndexError\u001b[0m: string index out of range"
          ]
        }
      ]
    },
    {
      "cell_type": "code",
      "metadata": {
        "colab": {
          "base_uri": "https://localhost:8080/",
          "height": 36
        },
        "id": "opaTyMWl-gZo",
        "outputId": "d9b07810-0879-4f5d-b8c8-4c103275b172"
      },
      "source": [
        "nome[0:3]"
      ],
      "execution_count": null,
      "outputs": [
        {
          "output_type": "execute_result",
          "data": {
            "application/vnd.google.colaboratory.intrinsic+json": {
              "type": "string"
            },
            "text/plain": [
              "'Bru'"
            ]
          },
          "metadata": {},
          "execution_count": 44
        }
      ]
    },
    {
      "cell_type": "code",
      "metadata": {
        "colab": {
          "base_uri": "https://localhost:8080/",
          "height": 36
        },
        "id": "_-AGGre9-xUx",
        "outputId": "f47ed922-e18b-4ddf-baa9-c70f225d0fa2"
      },
      "source": [
        "nome[1:3]"
      ],
      "execution_count": null,
      "outputs": [
        {
          "output_type": "execute_result",
          "data": {
            "application/vnd.google.colaboratory.intrinsic+json": {
              "type": "string"
            },
            "text/plain": [
              "'ru'"
            ]
          },
          "metadata": {},
          "execution_count": 45
        }
      ]
    },
    {
      "cell_type": "code",
      "metadata": {
        "colab": {
          "base_uri": "https://localhost:8080/",
          "height": 36
        },
        "id": "lfiLDrHF-016",
        "outputId": "23e276e0-9252-4ab3-a6e4-06c4f34cb6b3"
      },
      "source": [
        "nome[-3:]"
      ],
      "execution_count": null,
      "outputs": [
        {
          "output_type": "execute_result",
          "data": {
            "application/vnd.google.colaboratory.intrinsic+json": {
              "type": "string"
            },
            "text/plain": [
              "'uno'"
            ]
          },
          "metadata": {},
          "execution_count": 46
        }
      ]
    },
    {
      "cell_type": "code",
      "metadata": {
        "colab": {
          "base_uri": "https://localhost:8080/",
          "height": 36
        },
        "id": "i-61kyNr_CZI",
        "outputId": "5099319d-435f-40f5-bc48-827affb97279"
      },
      "source": [
        "nome[:4:2]"
      ],
      "execution_count": null,
      "outputs": [
        {
          "output_type": "execute_result",
          "data": {
            "application/vnd.google.colaboratory.intrinsic+json": {
              "type": "string"
            },
            "text/plain": [
              "'Bu'"
            ]
          },
          "metadata": {},
          "execution_count": 47
        }
      ]
    },
    {
      "cell_type": "code",
      "metadata": {
        "colab": {
          "base_uri": "https://localhost:8080/",
          "height": 36
        },
        "id": "U_OYFvFl_PxR",
        "outputId": "dffe0ebb-0b88-41a8-cb26-aee2ebc4fd39"
      },
      "source": [
        "nome[::-1]"
      ],
      "execution_count": null,
      "outputs": [
        {
          "output_type": "execute_result",
          "data": {
            "application/vnd.google.colaboratory.intrinsic+json": {
              "type": "string"
            },
            "text/plain": [
              "'onurB'"
            ]
          },
          "metadata": {},
          "execution_count": 48
        }
      ]
    },
    {
      "cell_type": "code",
      "metadata": {
        "colab": {
          "base_uri": "https://localhost:8080/"
        },
        "id": "s7snO7zP_ZzO",
        "outputId": "347c4e2e-9e15-42bc-e31d-fdf3b48463fd"
      },
      "source": [
        "lista = list(range(10))\n",
        "len(lista)"
      ],
      "execution_count": null,
      "outputs": [
        {
          "output_type": "execute_result",
          "data": {
            "text/plain": [
              "10"
            ]
          },
          "metadata": {},
          "execution_count": 3
        }
      ]
    },
    {
      "cell_type": "code",
      "metadata": {
        "colab": {
          "base_uri": "https://localhost:8080/"
        },
        "id": "msrtvin-_knj",
        "outputId": "1a521b56-6fda-43c0-e939-c791d539decf"
      },
      "source": [
        "lista[::-1]"
      ],
      "execution_count": null,
      "outputs": [
        {
          "output_type": "execute_result",
          "data": {
            "text/plain": [
              "[9, 8, 7, 6, 5, 4, 3, 2, 1, 0]"
            ]
          },
          "metadata": {},
          "execution_count": 4
        }
      ]
    },
    {
      "cell_type": "code",
      "metadata": {
        "id": "Pv9i82yM_nnF"
      },
      "source": [
        ""
      ],
      "execution_count": null,
      "outputs": []
    },
    {
      "cell_type": "markdown",
      "metadata": {
        "id": "DV6A_lJhr4a-"
      },
      "source": [
        "## LIST COMPREHENSIONS"
      ]
    },
    {
      "cell_type": "code",
      "metadata": {
        "colab": {
          "base_uri": "https://localhost:8080/"
        },
        "id": "Eou4-ydRHNtO",
        "outputId": "b48aeba2-98ab-4121-ed44-829d951d7353"
      },
      "source": [
        "my_list = [1, 2, 3, 4, 5, 6, 7, 8, 9, 10]\n",
        "def count(n: int):\n",
        "  return lambda x: x * n\n",
        "\n",
        "dobro = count(2)\n",
        "triplo = count(3)\n",
        "\n",
        "print(triplo(3))\n",
        "print(dobro(3))\n",
        "\n",
        "contador = 1\n",
        "\n",
        "kk = [i for x in my_list]"
      ],
      "execution_count": null,
      "outputs": [
        {
          "output_type": "stream",
          "name": "stdout",
          "text": [
            "9\n",
            "6\n"
          ]
        }
      ]
    },
    {
      "cell_type": "code",
      "metadata": {
        "colab": {
          "base_uri": "https://localhost:8080/"
        },
        "id": "kTB03PsZr_mr",
        "outputId": "2e2ec91d-19bd-4f56-bb37-b19b3d3d64a0"
      },
      "source": [
        "# Lista vazia\n",
        "lista = []\n",
        "\n",
        "#abordagem tradicional\n",
        "for character in 'Geeks 4 Geeks!':\n",
        "  lista.append(character)\n",
        "\n",
        "#expondo a lista\n",
        "print(lista)\n",
        "\n"
      ],
      "execution_count": null,
      "outputs": [
        {
          "output_type": "stream",
          "name": "stdout",
          "text": [
            "['G', 'e', 'e', 'k', 's', ' ', '4', ' ', 'G', 'e', 'e', 'k', 's', '!']\n"
          ]
        }
      ]
    },
    {
      "cell_type": "code",
      "metadata": {
        "colab": {
          "base_uri": "https://localhost:8080/"
        },
        "id": "grPXVzfSs8hz",
        "outputId": "8ec8327b-9175-4872-ebb7-93bab434f7cb"
      },
      "source": [
        "# Usando list comprehension para interar através do loop\n",
        "\n",
        "lista = [character for character in 'Bruno Torres Mendes da Silva']\n",
        "print(lista)"
      ],
      "execution_count": null,
      "outputs": [
        {
          "output_type": "stream",
          "name": "stdout",
          "text": [
            "['B', 'r', 'u', 'n', 'o', ' ', 'T', 'o', 'r', 'r', 'e', 's', ' ', 'M', 'e', 'n', 'd', 'e', 's', ' ', 'd', 'a', ' ', 'S', 'i', 'l', 'v', 'a']\n"
          ]
        }
      ]
    },
    {
      "cell_type": "code",
      "metadata": {
        "colab": {
          "base_uri": "https://localhost:8080/"
        },
        "id": "Yw89z9zCuXdQ",
        "outputId": "f3082e3d-acaa-4e32-c4a9-2499a3b826f0"
      },
      "source": [
        "matrix = [[[z for z in range(2)] for _ in range(3)] for _ in range(3)]\n",
        "print(matrix)"
      ],
      "execution_count": null,
      "outputs": [
        {
          "output_type": "stream",
          "name": "stdout",
          "text": [
            "[[[0, 1], [0, 1], [0, 1]], [[0, 1], [0, 1], [0, 1]], [[0, 1], [0, 1], [0, 1]]]\n"
          ]
        }
      ]
    },
    {
      "cell_type": "code",
      "metadata": {
        "id": "tdk_TfUDtcd8"
      },
      "source": [
        "tables = [lambda x: x*10 for x in range(1, 11)]\n",
        " \n",
        "for table in tables:\n",
        "    print(table())"
      ],
      "execution_count": null,
      "outputs": []
    },
    {
      "cell_type": "markdown",
      "metadata": {
        "id": "nbVxhCAZ-uYl"
      },
      "source": [
        "## Dicionarios"
      ]
    },
    {
      "cell_type": "code",
      "metadata": {
        "id": "-FOfh6wf-rEt"
      },
      "source": [
        "linguas = {'pt':'portugues', 'in':'ingles'}"
      ],
      "execution_count": null,
      "outputs": []
    },
    {
      "cell_type": "code",
      "metadata": {
        "colab": {
          "base_uri": "https://localhost:8080/"
        },
        "id": "VxAkP5cW-tCP",
        "outputId": "a0989af2-1d16-4625-83ec-a29e90782653"
      },
      "source": [
        "for chave in linguas:\n",
        "  print(chave)"
      ],
      "execution_count": null,
      "outputs": [
        {
          "output_type": "stream",
          "name": "stdout",
          "text": [
            "pt\n",
            "in\n"
          ]
        }
      ]
    },
    {
      "cell_type": "code",
      "metadata": {
        "id": "NteBSo3m_SU_"
      },
      "source": [
        "linguas['es'] = 'spanhol'"
      ],
      "execution_count": null,
      "outputs": []
    },
    {
      "cell_type": "code",
      "metadata": {
        "colab": {
          "base_uri": "https://localhost:8080/"
        },
        "id": "cj4dOhWK_WpC",
        "outputId": "bb23181b-ce62-44be-9069-afbd76700aa5"
      },
      "source": [
        "for chave in linguas:\n",
        "  print(chave)"
      ],
      "execution_count": null,
      "outputs": [
        {
          "output_type": "stream",
          "name": "stdout",
          "text": [
            "pt\n",
            "in\n",
            "es\n"
          ]
        }
      ]
    },
    {
      "cell_type": "code",
      "metadata": {
        "colab": {
          "base_uri": "https://localhost:8080/",
          "height": 175
        },
        "id": "F0dgnM7k_7R-",
        "outputId": "8875cb3f-2f4b-4fac-9353-0508dfcde1a8"
      },
      "source": [
        "linguas['rsr']"
      ],
      "execution_count": null,
      "outputs": [
        {
          "output_type": "error",
          "ename": "KeyError",
          "evalue": "ignored",
          "traceback": [
            "\u001b[0;31m---------------------------------------------------------------------------\u001b[0m",
            "\u001b[0;31mKeyError\u001b[0m                                  Traceback (most recent call last)",
            "\u001b[0;32m<ipython-input-12-9633082f2829>\u001b[0m in \u001b[0;36m<module>\u001b[0;34m()\u001b[0m\n\u001b[0;32m----> 1\u001b[0;31m \u001b[0mlinguas\u001b[0m\u001b[0;34m[\u001b[0m\u001b[0;34m'rsr'\u001b[0m\u001b[0;34m]\u001b[0m\u001b[0;34m\u001b[0m\u001b[0;34m\u001b[0m\u001b[0m\n\u001b[0m",
            "\u001b[0;31mKeyError\u001b[0m: 'rsr'"
          ]
        }
      ]
    },
    {
      "cell_type": "code",
      "metadata": {
        "colab": {
          "base_uri": "https://localhost:8080/",
          "height": 36
        },
        "id": "mZa5zBQ1AL-e",
        "outputId": "a1610d85-7bde-4f02-d21c-3977fda168cb"
      },
      "source": [
        "linguas.get('jp', 'inexistente')"
      ],
      "execution_count": null,
      "outputs": [
        {
          "output_type": "execute_result",
          "data": {
            "application/vnd.google.colaboratory.intrinsic+json": {
              "type": "string"
            },
            "text/plain": [
              "'inexistente'"
            ]
          },
          "metadata": {},
          "execution_count": 13
        }
      ]
    },
    {
      "cell_type": "code",
      "metadata": {
        "colab": {
          "base_uri": "https://localhost:8080/",
          "height": 36
        },
        "id": "Sq5jiqEvAZqr",
        "outputId": "53d6942f-365e-444c-8f7a-d0374e07db78"
      },
      "source": [
        "linguas.setdefault('pt')"
      ],
      "execution_count": null,
      "outputs": [
        {
          "output_type": "execute_result",
          "data": {
            "application/vnd.google.colaboratory.intrinsic+json": {
              "type": "string"
            },
            "text/plain": [
              "'portugues'"
            ]
          },
          "metadata": {},
          "execution_count": 14
        }
      ]
    },
    {
      "cell_type": "code",
      "metadata": {
        "colab": {
          "base_uri": "https://localhost:8080/",
          "height": 36
        },
        "id": "icyp_uEpAhLt",
        "outputId": "006f8c45-9572-4dc8-d083-4b2225d83f7b"
      },
      "source": [
        "linguas.setdefault('pt', 'newpt')"
      ],
      "execution_count": null,
      "outputs": [
        {
          "output_type": "execute_result",
          "data": {
            "application/vnd.google.colaboratory.intrinsic+json": {
              "type": "string"
            },
            "text/plain": [
              "'portugues'"
            ]
          },
          "metadata": {},
          "execution_count": 17
        }
      ]
    },
    {
      "cell_type": "code",
      "metadata": {
        "colab": {
          "base_uri": "https://localhost:8080/"
        },
        "id": "knXL0vUMAwLM",
        "outputId": "30421526-3a96-4ef0-e331-3d75b96806ef"
      },
      "source": [
        "for chave in linguas.keys():\n",
        "  print(chave)"
      ],
      "execution_count": null,
      "outputs": [
        {
          "output_type": "stream",
          "name": "stdout",
          "text": [
            "pt\n",
            "in\n",
            "es\n"
          ]
        }
      ]
    },
    {
      "cell_type": "code",
      "metadata": {
        "colab": {
          "base_uri": "https://localhost:8080/",
          "height": 36
        },
        "id": "IcIlAwomA7gD",
        "outputId": "31612a83-debb-4ee5-8ab9-fe2b41294076"
      },
      "source": [
        "linguas.setdefault('jp', 'japão')"
      ],
      "execution_count": null,
      "outputs": [
        {
          "output_type": "execute_result",
          "data": {
            "application/vnd.google.colaboratory.intrinsic+json": {
              "type": "string"
            },
            "text/plain": [
              "'japão'"
            ]
          },
          "metadata": {},
          "execution_count": 19
        }
      ]
    },
    {
      "cell_type": "code",
      "metadata": {
        "colab": {
          "base_uri": "https://localhost:8080/"
        },
        "id": "N4rLKEQwBCCr",
        "outputId": "7c7c039b-2da8-4ac5-f4bc-30f808e5ba51"
      },
      "source": [
        "[x for x in linguas]"
      ],
      "execution_count": null,
      "outputs": [
        {
          "output_type": "execute_result",
          "data": {
            "text/plain": [
              "['pt', 'in', 'es', 'jp']"
            ]
          },
          "metadata": {},
          "execution_count": 20
        }
      ]
    },
    {
      "cell_type": "code",
      "metadata": {
        "colab": {
          "base_uri": "https://localhost:8080/"
        },
        "id": "h-B7fByg_ZNj",
        "outputId": "7e5ee9b9-1980-44a5-9b82-446a63fb85dc"
      },
      "source": [
        "dir(linguas)"
      ],
      "execution_count": null,
      "outputs": [
        {
          "output_type": "execute_result",
          "data": {
            "text/plain": [
              "['__class__',\n",
              " '__contains__',\n",
              " '__delattr__',\n",
              " '__delitem__',\n",
              " '__dir__',\n",
              " '__doc__',\n",
              " '__eq__',\n",
              " '__format__',\n",
              " '__ge__',\n",
              " '__getattribute__',\n",
              " '__getitem__',\n",
              " '__gt__',\n",
              " '__hash__',\n",
              " '__init__',\n",
              " '__init_subclass__',\n",
              " '__iter__',\n",
              " '__le__',\n",
              " '__len__',\n",
              " '__lt__',\n",
              " '__ne__',\n",
              " '__new__',\n",
              " '__reduce__',\n",
              " '__reduce_ex__',\n",
              " '__repr__',\n",
              " '__setattr__',\n",
              " '__setitem__',\n",
              " '__sizeof__',\n",
              " '__str__',\n",
              " '__subclasshook__',\n",
              " 'clear',\n",
              " 'copy',\n",
              " 'fromkeys',\n",
              " 'get',\n",
              " 'items',\n",
              " 'keys',\n",
              " 'pop',\n",
              " 'popitem',\n",
              " 'setdefault',\n",
              " 'update',\n",
              " 'values']"
            ]
          },
          "metadata": {},
          "execution_count": 8
        }
      ]
    },
    {
      "cell_type": "code",
      "metadata": {
        "colab": {
          "base_uri": "https://localhost:8080/"
        },
        "id": "2tqQnGLW_d5_",
        "outputId": "4ed688b5-4e25-448f-ce1b-4a94b63e6ffc"
      },
      "source": [
        "help(linguas.setdefault)"
      ],
      "execution_count": null,
      "outputs": [
        {
          "output_type": "stream",
          "name": "stdout",
          "text": [
            "Help on built-in function setdefault:\n",
            "\n",
            "setdefault(key, default=None, /) method of builtins.dict instance\n",
            "    Insert key with a value of default if key is not in the dictionary.\n",
            "    \n",
            "    Return the value for key if key is in the dictionary, else default.\n",
            "\n"
          ]
        }
      ]
    },
    {
      "cell_type": "code",
      "metadata": {
        "colab": {
          "base_uri": "https://localhost:8080/"
        },
        "id": "9w4AYwHv_iuw",
        "outputId": "9350fb9c-1e47-41ad-ae79-cc2c1e734246"
      },
      "source": [
        "[x for x in linguas.values()]"
      ],
      "execution_count": null,
      "outputs": [
        {
          "output_type": "execute_result",
          "data": {
            "text/plain": [
              "['portugues', 'ingles', 'spanhol', 'japão']"
            ]
          },
          "metadata": {},
          "execution_count": 22
        }
      ]
    },
    {
      "cell_type": "code",
      "metadata": {
        "colab": {
          "base_uri": "https://localhost:8080/"
        },
        "id": "qz0L8PlfCJtn",
        "outputId": "d30ade9c-97c5-4697-ea25-25819b0e35cf"
      },
      "source": [
        "[[x for x in k] for k in linguas.items()]"
      ],
      "execution_count": null,
      "outputs": [
        {
          "output_type": "execute_result",
          "data": {
            "text/plain": [
              "[['pt', 'portugues'], ['in', 'ingles'], ['es', 'spanhol'], ['jp', 'japão']]"
            ]
          },
          "metadata": {},
          "execution_count": 27
        }
      ]
    },
    {
      "cell_type": "code",
      "metadata": {
        "colab": {
          "base_uri": "https://localhost:8080/"
        },
        "id": "TV5ZLLcHCYt_",
        "outputId": "46d323df-6985-47eb-c377-a8cd185fae5c"
      },
      "source": [
        "linguas.items()"
      ],
      "execution_count": null,
      "outputs": [
        {
          "output_type": "execute_result",
          "data": {
            "text/plain": [
              "dict_items([('pt', 'portugues'), ('in', 'ingles'), ('es', 'spanhol'), ('jp', 'japão')])"
            ]
          },
          "metadata": {},
          "execution_count": 28
        }
      ]
    },
    {
      "cell_type": "code",
      "metadata": {
        "colab": {
          "base_uri": "https://localhost:8080/"
        },
        "id": "Q8Kgx1gWC5Sn",
        "outputId": "58ad2055-a27c-47db-b6de-c7e040ae03a0"
      },
      "source": [
        "for k,v in linguas.items():\n",
        "  print(k)\n",
        "  print(v)"
      ],
      "execution_count": null,
      "outputs": [
        {
          "output_type": "stream",
          "name": "stdout",
          "text": [
            "pt\n",
            "portugues\n",
            "in\n",
            "ingles\n",
            "es\n",
            "spanhol\n",
            "jp\n",
            "japão\n"
          ]
        }
      ]
    },
    {
      "cell_type": "code",
      "metadata": {
        "colab": {
          "base_uri": "https://localhost:8080/",
          "height": 36
        },
        "id": "Kk-ctxoQDFxN",
        "outputId": "eff763ec-4996-48c5-90d7-6665f86f3bd9"
      },
      "source": [
        "linguas.pop('pt')"
      ],
      "execution_count": null,
      "outputs": [
        {
          "output_type": "execute_result",
          "data": {
            "application/vnd.google.colaboratory.intrinsic+json": {
              "type": "string"
            },
            "text/plain": [
              "'portugues'"
            ]
          },
          "metadata": {},
          "execution_count": 32
        }
      ]
    },
    {
      "cell_type": "code",
      "metadata": {
        "colab": {
          "base_uri": "https://localhost:8080/"
        },
        "id": "JIXPIHaUDSXv",
        "outputId": "7ed676b5-5e77-420e-d8a4-f75dbc89076d"
      },
      "source": [
        "help(linguas.pop)"
      ],
      "execution_count": null,
      "outputs": [
        {
          "output_type": "stream",
          "name": "stdout",
          "text": [
            "Help on built-in function pop:\n",
            "\n",
            "pop(...) method of builtins.dict instance\n",
            "    D.pop(k[,d]) -> v, remove specified key and return the corresponding value.\n",
            "    If key is not found, d is returned if given, otherwise KeyError is raised\n",
            "\n"
          ]
        }
      ]
    },
    {
      "cell_type": "code",
      "metadata": {
        "colab": {
          "base_uri": "https://localhost:8080/",
          "height": 137
        },
        "id": "04DHo5ONDwN-",
        "outputId": "11429c9a-9c17-4016-f360-814a5f38f5fe"
      },
      "source": [
        "linguas.pop('cn',break)"
      ],
      "execution_count": null,
      "outputs": [
        {
          "output_type": "error",
          "ename": "SyntaxError",
          "evalue": "ignored",
          "traceback": [
            "\u001b[0;36m  File \u001b[0;32m\"<ipython-input-35-91815c4419bb>\"\u001b[0;36m, line \u001b[0;32m1\u001b[0m\n\u001b[0;31m    linguas.pop('cn',break)\u001b[0m\n\u001b[0m                         ^\u001b[0m\n\u001b[0;31mSyntaxError\u001b[0m\u001b[0;31m:\u001b[0m invalid syntax\n"
          ]
        }
      ]
    },
    {
      "cell_type": "markdown",
      "metadata": {
        "id": "9qDlDWO3EpUl"
      },
      "source": [
        "## Funções"
      ]
    },
    {
      "cell_type": "code",
      "metadata": {
        "colab": {
          "base_uri": "https://localhost:8080/"
        },
        "id": "ZYcMeXMJEn6N",
        "outputId": "5cf59665-5495-465e-b510-c6e396ddb9b1"
      },
      "source": [
        "def ola_mundo():\n",
        "  return 'Olá Mundo'\n",
        "\n",
        "type(ola_mundo)"
      ],
      "execution_count": null,
      "outputs": [
        {
          "output_type": "execute_result",
          "data": {
            "text/plain": [
              "function"
            ]
          },
          "metadata": {},
          "execution_count": 36
        }
      ]
    },
    {
      "cell_type": "code",
      "metadata": {
        "colab": {
          "base_uri": "https://localhost:8080/"
        },
        "id": "50aVj9QqFIQf",
        "outputId": "32b41176-0d4f-4b4f-b746-7dd30243aedb"
      },
      "source": [
        "print(ola_mundo())"
      ],
      "execution_count": null,
      "outputs": [
        {
          "output_type": "stream",
          "name": "stdout",
          "text": [
            "Olá Mundo\n"
          ]
        }
      ]
    },
    {
      "cell_type": "code",
      "metadata": {
        "colab": {
          "base_uri": "https://localhost:8080/"
        },
        "id": "7p6PM1fKFL8p",
        "outputId": "007a0311-3d87-47ec-fe1f-dd040326eb4d"
      },
      "source": [
        "resultado = ola_mundo\n",
        "\n",
        "print(id(resultado))\n",
        "print()\n",
        "print(id(ola_mundo))"
      ],
      "execution_count": null,
      "outputs": [
        {
          "output_type": "stream",
          "name": "stdout",
          "text": [
            "140456272567616\n",
            "\n",
            "140456272567616\n"
          ]
        }
      ]
    },
    {
      "cell_type": "code",
      "metadata": {
        "colab": {
          "base_uri": "https://localhost:8080/",
          "height": 36
        },
        "id": "bqB2z5v-FpCf",
        "outputId": "0786b3ac-1df9-48ee-e8e9-246d15996ca2"
      },
      "source": [
        "resultado()"
      ],
      "execution_count": null,
      "outputs": [
        {
          "output_type": "execute_result",
          "data": {
            "application/vnd.google.colaboratory.intrinsic+json": {
              "type": "string"
            },
            "text/plain": [
              "'Olá Mundo'"
            ]
          },
          "metadata": {},
          "execution_count": 44
        }
      ]
    },
    {
      "cell_type": "code",
      "metadata": {
        "colab": {
          "base_uri": "https://localhost:8080/",
          "height": 36
        },
        "id": "jRMZw_JvF2Zj",
        "outputId": "b68765db-f5bf-4530-e0de-270ed2005de6"
      },
      "source": [
        "def ola(nome):\n",
        "  return f'Olá, {nome}'\n",
        "\n",
        "ola('bruno')"
      ],
      "execution_count": null,
      "outputs": [
        {
          "output_type": "execute_result",
          "data": {
            "application/vnd.google.colaboratory.intrinsic+json": {
              "type": "string"
            },
            "text/plain": [
              "'Olá, bruno'"
            ]
          },
          "metadata": {},
          "execution_count": 45
        }
      ]
    },
    {
      "cell_type": "code",
      "metadata": {
        "id": "f_JbVZgzMcfE",
        "colab": {
          "base_uri": "https://localhost:8080/"
        },
        "outputId": "592e9430-b112-4a3a-ecb6-2e2dd721542f"
      },
      "source": [
        "def soma(*args):\n",
        "  print(args)\n",
        "  print(type(args))\n",
        "\n",
        "soma(23, 'a', 65)"
      ],
      "execution_count": null,
      "outputs": [
        {
          "output_type": "stream",
          "name": "stdout",
          "text": [
            "(23, 'a', 65)\n",
            "<class 'tuple'>\n"
          ]
        }
      ]
    },
    {
      "cell_type": "code",
      "metadata": {
        "id": "U3Kq6zghuYfo"
      },
      "source": [
        "def f(**kwargs):\n",
        "  print(kwargs)\n",
        "  print(type(kwargs))"
      ],
      "execution_count": null,
      "outputs": []
    },
    {
      "cell_type": "code",
      "metadata": {
        "colab": {
          "base_uri": "https://localhost:8080/"
        },
        "id": "bMLubK7gGM0m",
        "outputId": "9f04b52b-c380-40cd-b341-6dfd29e9910a"
      },
      "source": [
        "t = (1,2,3,4,5,6)\n",
        "x,y,z,r,s,p = t\n",
        "x"
      ],
      "execution_count": null,
      "outputs": [
        {
          "output_type": "execute_result",
          "data": {
            "text/plain": [
              "1"
            ]
          },
          "metadata": {},
          "execution_count": 2
        }
      ]
    },
    {
      "cell_type": "markdown",
      "metadata": {
        "id": "uT-jtwa20OVv"
      },
      "source": [
        "# Python Dictionary Comprehension"
      ]
    },
    {
      "cell_type": "code",
      "metadata": {
        "colab": {
          "base_uri": "https://localhost:8080/"
        },
        "id": "BAryQ6WZ0UOk",
        "outputId": "dba00e7a-9ff9-4a9f-fd9b-0977e9238a73"
      },
      "source": [
        "keys = ['a', 'b', 'c', 'd', 'e']\n",
        "values_1 = [1, 2, 3, 4, 5]\n",
        "values_2 = [10, 9, 8, 7, 6]\n",
        "\n",
        "mydict = {k: v + z for (k,v,z) in zip(keys, values, values_2) if z % 2!=0}\n",
        "\n",
        "mydict"
      ],
      "execution_count": null,
      "outputs": [
        {
          "output_type": "execute_result",
          "data": {
            "text/plain": [
              "{'b': 11, 'd': 11}"
            ]
          },
          "metadata": {},
          "execution_count": 13
        }
      ]
    },
    {
      "cell_type": "code",
      "metadata": {
        "colab": {
          "base_uri": "https://localhost:8080/"
        },
        "id": "GPL-uQVS2Nl0",
        "outputId": "25129583-dee4-4dcd-d709-dd3de5a6737a"
      },
      "source": [
        "help(zip)"
      ],
      "execution_count": null,
      "outputs": [
        {
          "output_type": "stream",
          "name": "stdout",
          "text": [
            "Help on class zip in module builtins:\n",
            "\n",
            "class zip(object)\n",
            " |  zip(*iterables) --> zip object\n",
            " |  \n",
            " |  Return a zip object whose .__next__() method returns a tuple where\n",
            " |  the i-th element comes from the i-th iterable argument.  The .__next__()\n",
            " |  method continues until the shortest iterable in the argument sequence\n",
            " |  is exhausted and then it raises StopIteration.\n",
            " |  \n",
            " |  Methods defined here:\n",
            " |  \n",
            " |  __getattribute__(self, name, /)\n",
            " |      Return getattr(self, name).\n",
            " |  \n",
            " |  __iter__(self, /)\n",
            " |      Implement iter(self).\n",
            " |  \n",
            " |  __next__(self, /)\n",
            " |      Implement next(self).\n",
            " |  \n",
            " |  __reduce__(...)\n",
            " |      Return state information for pickling.\n",
            " |  \n",
            " |  ----------------------------------------------------------------------\n",
            " |  Static methods defined here:\n",
            " |  \n",
            " |  __new__(*args, **kwargs) from builtins.type\n",
            " |      Create and return a new object.  See help(type) for accurate signature.\n",
            "\n"
          ]
        }
      ]
    },
    {
      "cell_type": "code",
      "metadata": {
        "colab": {
          "base_uri": "https://localhost:8080/"
        },
        "id": "lxrgOqL91IRI",
        "outputId": "b3569089-50d4-4999-abb1-c79127bbeb62"
      },
      "source": [
        "mydict_2 = {x:x**2 for x in [v for v in range(100) if v % 2 != 0]}\n",
        "mydict_2"
      ],
      "execution_count": null,
      "outputs": [
        {
          "output_type": "execute_result",
          "data": {
            "text/plain": [
              "{1: 1,\n",
              " 3: 9,\n",
              " 5: 25,\n",
              " 7: 49,\n",
              " 9: 81,\n",
              " 11: 121,\n",
              " 13: 169,\n",
              " 15: 225,\n",
              " 17: 289,\n",
              " 19: 361,\n",
              " 21: 441,\n",
              " 23: 529,\n",
              " 25: 625,\n",
              " 27: 729,\n",
              " 29: 841,\n",
              " 31: 961,\n",
              " 33: 1089,\n",
              " 35: 1225,\n",
              " 37: 1369,\n",
              " 39: 1521,\n",
              " 41: 1681,\n",
              " 43: 1849,\n",
              " 45: 2025,\n",
              " 47: 2209,\n",
              " 49: 2401,\n",
              " 51: 2601,\n",
              " 53: 2809,\n",
              " 55: 3025,\n",
              " 57: 3249,\n",
              " 59: 3481,\n",
              " 61: 3721,\n",
              " 63: 3969,\n",
              " 65: 4225,\n",
              " 67: 4489,\n",
              " 69: 4761,\n",
              " 71: 5041,\n",
              " 73: 5329,\n",
              " 75: 5625,\n",
              " 77: 5929,\n",
              " 79: 6241,\n",
              " 81: 6561,\n",
              " 83: 6889,\n",
              " 85: 7225,\n",
              " 87: 7569,\n",
              " 89: 7921,\n",
              " 91: 8281,\n",
              " 93: 8649,\n",
              " 95: 9025,\n",
              " 97: 9409,\n",
              " 99: 9801}"
            ]
          },
          "metadata": {},
          "execution_count": 3
        }
      ]
    },
    {
      "cell_type": "markdown",
      "metadata": {
        "id": "xvI9RuLSlqDr"
      },
      "source": [
        "## Gerar numeros primos"
      ]
    },
    {
      "cell_type": "code",
      "metadata": {
        "colab": {
          "base_uri": "https://localhost:8080/"
        },
        "id": "ISZlBY6ZKVjP",
        "outputId": "c340b28b-597d-4845-80ce-b99787a9f56b"
      },
      "source": [
        "dict_numbers = {i:all([i%num for num in range(1, i+1)][1:-1]) for i in range(10) if (i % 2 != 0 or i == 2)}\n",
        "\n",
        "dict_primos = [x for x, v in dict_numbers.items() if v]\n",
        "\n",
        "\n",
        "dict_primos\n",
        "\n"
      ],
      "execution_count": null,
      "outputs": [
        {
          "output_type": "execute_result",
          "data": {
            "text/plain": [
              "[1, 2, 3, 5, 7]"
            ]
          },
          "metadata": {},
          "execution_count": 188
        }
      ]
    },
    {
      "cell_type": "code",
      "metadata": {
        "colab": {
          "base_uri": "https://localhost:8080/"
        },
        "id": "XpTow8xuP4aL",
        "outputId": "94f62f8c-bf31-4a7c-ddb4-79cc83d809d8"
      },
      "source": [
        "counter = 100\n",
        "\n",
        "lst_numeros  = [1,2] + [x for x in range(3,100) if x % 2 != 0]\n",
        "\n",
        "for x in range(1, counter+1):\n",
        "  if 1<= x <=2:\n",
        "     print(f'{x}:primo')\n",
        "\n",
        "  elif x % 2 == 0:\n",
        "    print(f'{x}:não primo')\n",
        "  \n",
        "  else:\n",
        "    is_primo = True\n",
        "    for i in range(2, x):\n",
        "      if x % i == 0:\n",
        "        is_primo = False\n",
        "        break\n",
        "        print(i)\n",
        "        \n",
        "    print(f'{x}:{\"primo\" if is_primo else \"não primo\"}')\n",
        "\n",
        "      \n",
        "      \n",
        "\n",
        "\n",
        "\n",
        "  \n",
        "\n",
        "\n"
      ],
      "execution_count": null,
      "outputs": [
        {
          "output_type": "stream",
          "name": "stdout",
          "text": [
            "1:primo\n",
            "2:primo\n",
            "3:primo\n",
            "4:não primo\n",
            "5:primo\n",
            "6:não primo\n",
            "7:primo\n",
            "8:não primo\n",
            "9:não primo\n",
            "10:não primo\n",
            "11:primo\n",
            "12:não primo\n",
            "13:primo\n",
            "14:não primo\n",
            "15:não primo\n",
            "16:não primo\n",
            "17:primo\n",
            "18:não primo\n",
            "19:primo\n",
            "20:não primo\n",
            "21:não primo\n",
            "22:não primo\n",
            "23:primo\n",
            "24:não primo\n",
            "25:não primo\n",
            "26:não primo\n",
            "27:não primo\n",
            "28:não primo\n",
            "29:primo\n",
            "30:não primo\n",
            "31:primo\n",
            "32:não primo\n",
            "33:não primo\n",
            "34:não primo\n",
            "35:não primo\n",
            "36:não primo\n",
            "37:primo\n",
            "38:não primo\n",
            "39:não primo\n",
            "40:não primo\n",
            "41:primo\n",
            "42:não primo\n",
            "43:primo\n",
            "44:não primo\n",
            "45:não primo\n",
            "46:não primo\n",
            "47:primo\n",
            "48:não primo\n",
            "49:não primo\n",
            "50:não primo\n",
            "51:não primo\n",
            "52:não primo\n",
            "53:primo\n",
            "54:não primo\n",
            "55:não primo\n",
            "56:não primo\n",
            "57:não primo\n",
            "58:não primo\n",
            "59:primo\n",
            "60:não primo\n",
            "61:primo\n",
            "62:não primo\n",
            "63:não primo\n",
            "64:não primo\n",
            "65:não primo\n",
            "66:não primo\n",
            "67:primo\n",
            "68:não primo\n",
            "69:não primo\n",
            "70:não primo\n",
            "71:primo\n",
            "72:não primo\n",
            "73:primo\n",
            "74:não primo\n",
            "75:não primo\n",
            "76:não primo\n",
            "77:não primo\n",
            "78:não primo\n",
            "79:primo\n",
            "80:não primo\n",
            "81:não primo\n",
            "82:não primo\n",
            "83:primo\n",
            "84:não primo\n",
            "85:não primo\n",
            "86:não primo\n",
            "87:não primo\n",
            "88:não primo\n",
            "89:primo\n",
            "90:não primo\n",
            "91:não primo\n",
            "92:não primo\n",
            "93:não primo\n",
            "94:não primo\n",
            "95:não primo\n",
            "96:não primo\n",
            "97:primo\n",
            "98:não primo\n",
            "99:não primo\n",
            "100:não primo\n"
          ]
        }
      ]
    },
    {
      "cell_type": "code",
      "metadata": {
        "colab": {
          "base_uri": "https://localhost:8080/"
        },
        "id": "DrrAZZ83Q8Jq",
        "outputId": "ac7f016e-96fe-4b04-a57f-14ee9580a441"
      },
      "source": [
        "0%2"
      ],
      "execution_count": null,
      "outputs": [
        {
          "output_type": "execute_result",
          "data": {
            "text/plain": [
              "0"
            ]
          },
          "metadata": {},
          "execution_count": 206
        }
      ]
    },
    {
      "cell_type": "code",
      "metadata": {
        "colab": {
          "base_uri": "https://localhost:8080/"
        },
        "id": "LEVAbQgMX6aM",
        "outputId": "3d5a913c-d966-4551-d948-4a8a79923c4d"
      },
      "source": [
        "6%1"
      ],
      "execution_count": null,
      "outputs": [
        {
          "output_type": "execute_result",
          "data": {
            "text/plain": [
              "0"
            ]
          },
          "metadata": {},
          "execution_count": 86
        }
      ]
    },
    {
      "cell_type": "code",
      "metadata": {
        "colab": {
          "base_uri": "https://localhost:8080/"
        },
        "id": "97y16n4XS8wh",
        "outputId": "5001cd4f-eb90-4040-9dac-39f930e246c6"
      },
      "source": [
        "5%3"
      ],
      "execution_count": null,
      "outputs": [
        {
          "output_type": "execute_result",
          "data": {
            "text/plain": [
              "2"
            ]
          },
          "metadata": {},
          "execution_count": 48
        }
      ]
    },
    {
      "cell_type": "code",
      "metadata": {
        "colab": {
          "base_uri": "https://localhost:8080/"
        },
        "id": "H1dm_KSvfZsq",
        "outputId": "f50e3ea6-9904-4a1d-bb10-daa185a329b3"
      },
      "source": [
        "all([])"
      ],
      "execution_count": null,
      "outputs": [
        {
          "output_type": "execute_result",
          "data": {
            "text/plain": [
              "True"
            ]
          },
          "metadata": {},
          "execution_count": 138
        }
      ]
    },
    {
      "cell_type": "code",
      "metadata": {
        "colab": {
          "base_uri": "https://localhost:8080/"
        },
        "id": "IzofYQRVfgQL",
        "outputId": "ac326994-6817-4bf4-9cbc-46fa62df36c4"
      },
      "source": [
        "l = []\n",
        "\n",
        "if l:\n",
        "  print('vazio')\n",
        "else:\n",
        "  print('não vazio')"
      ],
      "execution_count": null,
      "outputs": [
        {
          "output_type": "stream",
          "name": "stdout",
          "text": [
            "não vazio\n"
          ]
        }
      ]
    },
    {
      "cell_type": "code",
      "metadata": {
        "colab": {
          "base_uri": "https://localhost:8080/"
        },
        "id": "tYEQ-3z09EJ4",
        "outputId": "6a0b17de-aa15-4dfe-d858-58ac7d9da14b"
      },
      "source": [
        "txt='banana'\n",
        "\n",
        "{k: txt.count(k) for k in set(txt)}"
      ],
      "execution_count": null,
      "outputs": [
        {
          "output_type": "execute_result",
          "data": {
            "text/plain": [
              "{'a': 3, 'b': 1, 'n': 2}"
            ]
          },
          "metadata": {},
          "execution_count": 220
        }
      ]
    },
    {
      "cell_type": "code",
      "metadata": {
        "id": "wpgIoU5wyTVA"
      },
      "source": [
        "def cria_matriz(tot_lin, tot_col, valor):\n",
        "    matriz = []  #lista vazia\n",
        "    for i in range(tot_lin):\n",
        "        linha = []\n",
        "        for j in range(tot_col):\n",
        "            linha.append(valor)\n",
        "        matriz.append(linha)\n",
        "        return matriz"
      ],
      "execution_count": null,
      "outputs": []
    },
    {
      "cell_type": "code",
      "metadata": {
        "colab": {
          "base_uri": "https://localhost:8080/"
        },
        "id": "jwJNiZGnymdQ",
        "outputId": "fd52845c-34df-4fc6-ea29-ab66ad2f2cdf"
      },
      "source": [
        "cria_matriz(1, 3, 99)"
      ],
      "execution_count": null,
      "outputs": [
        {
          "output_type": "execute_result",
          "data": {
            "text/plain": [
              "[[99, 99, 99]]"
            ]
          },
          "metadata": {},
          "execution_count": 4
        }
      ]
    },
    {
      "cell_type": "code",
      "metadata": {
        "id": "pN-xMyTPy0Pm"
      },
      "source": [
        "def cria_matriz_2(tot_lin, tot_col, valor):\n",
        "    matriz = []  #lista vazia\n",
        "    for i in range(tot_lin):\n",
        "        linha = []\n",
        "        for j in range(tot_col):\n",
        "            linha.append(valor)\n",
        "        matriz.append(linha)\n",
        "    return matriz"
      ],
      "execution_count": null,
      "outputs": []
    },
    {
      "cell_type": "code",
      "metadata": {
        "colab": {
          "base_uri": "https://localhost:8080/"
        },
        "id": "3PbEXNfRy2Wo",
        "outputId": "3b27aa77-1475-4c76-d728-71c110f802d7"
      },
      "source": [
        "cria_matriz_2(2, 3, 99)"
      ],
      "execution_count": null,
      "outputs": [
        {
          "output_type": "execute_result",
          "data": {
            "text/plain": [
              "[[99, 99, 99], [99, 99, 99]]"
            ]
          },
          "metadata": {},
          "execution_count": 6
        }
      ]
    },
    {
      "cell_type": "code",
      "metadata": {
        "id": "Dx6siU4szAqV"
      },
      "source": [
        "def cria_matriz_3(num_linhas, num_colunas):\n",
        "    matriz = []  #lista vazia\n",
        "    for i in range(num_linhas):\n",
        "        linha = []\n",
        "        for j in range(num_colunas):\n",
        "            valor = int(input(\"Digite o elemento [\" + str(i) + \"][\" + str(j) + \"]: \"))\n",
        "            linha.append(valor)\n",
        "        matriz.append(linha)\n",
        "    return matriz"
      ],
      "execution_count": null,
      "outputs": []
    },
    {
      "cell_type": "code",
      "metadata": {
        "colab": {
          "base_uri": "https://localhost:8080/"
        },
        "id": "5UJ3jZzSzFjL",
        "outputId": "4e322388-e7cb-4de2-cb3e-a1b4d14e7f7a"
      },
      "source": [
        "cria_matriz_3(2, 3)"
      ],
      "execution_count": null,
      "outputs": [
        {
          "name": "stdout",
          "output_type": "stream",
          "text": [
            "Digite o elemento [0][0]: 1\n",
            "Digite o elemento [0][1]: 2\n",
            "Digite o elemento [0][2]: 3\n",
            "Digite o elemento [1][0]: 4\n",
            "Digite o elemento [1][1]: 5\n",
            "Digite o elemento [1][2]: 6\n"
          ]
        },
        {
          "output_type": "execute_result",
          "data": {
            "text/plain": [
              "[[1, 2, 3], [4, 5, 6]]"
            ]
          },
          "metadata": {},
          "execution_count": 11
        }
      ]
    },
    {
      "cell_type": "code",
      "metadata": {
        "id": "H7Ism9MZ0bx3"
      },
      "source": [
        "def cria_matriz_4(num_linhas, num_colunas):\n",
        "    matriz = []  #lista vazia\n",
        "    for i in range(num_linhas):\n",
        "        linha = []\n",
        "        for j in range(num_colunas):\n",
        "            valor = int(input(\"Digite o elemento [\" + str(i) + \"][\" + str(j) + \"]: \"))\n",
        "            linha.append(valor)\n",
        "        matriz.append(linha)\n",
        "    return matriz"
      ],
      "execution_count": null,
      "outputs": []
    },
    {
      "cell_type": "code",
      "metadata": {
        "colab": {
          "base_uri": "https://localhost:8080/"
        },
        "id": "rCue54mQ0eiY",
        "outputId": "c60ca5bd-b57b-4147-ca1d-04f106e1a4f0"
      },
      "source": [
        "cria_matriz_4(2,3)"
      ],
      "execution_count": null,
      "outputs": [
        {
          "name": "stdout",
          "output_type": "stream",
          "text": [
            "Digite o elemento [0][0]: 1\n",
            "Digite o elemento [0][1]: 2\n",
            "Digite o elemento [0][2]: 3\n",
            "Digite o elemento [1][0]: 4\n",
            "Digite o elemento [1][1]: 5\n",
            "Digite o elemento [1][2]: 6\n"
          ]
        },
        {
          "output_type": "execute_result",
          "data": {
            "text/plain": [
              "[[1, 2, 3], [4, 5, 6]]"
            ]
          },
          "metadata": {},
          "execution_count": 13
        }
      ]
    },
    {
      "cell_type": "code",
      "metadata": {
        "id": "mQJyXce401_t",
        "colab": {
          "base_uri": "https://localhost:8080/"
        },
        "outputId": "c1dd120d-b2ce-4a04-d07e-cfaf12d64397"
      },
      "source": [
        "def tarefa(mat):\n",
        "    dim = len(mat)\n",
        "    for i in range(dim):\n",
        "        print(mat[i][dim-1-i], end=\"  \")\n",
        "\n",
        "mat = [[1,2,3],[4,5,6],[7,8,9]]\n",
        "tarefa(mat)"
      ],
      "execution_count": null,
      "outputs": [
        {
          "output_type": "stream",
          "name": "stdout",
          "text": [
            "3  5  7  "
          ]
        }
      ]
    },
    {
      "cell_type": "code",
      "metadata": {
        "id": "pihVn9G-u9Kp"
      },
      "source": [
        "li = [3,2,3,4,6]"
      ],
      "execution_count": null,
      "outputs": []
    }
  ]
}